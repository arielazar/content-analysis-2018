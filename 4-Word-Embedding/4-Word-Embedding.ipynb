{
 "cells": [
  {
   "cell_type": "markdown",
   "metadata": {},
   "source": [
    "# Week 4 - Word Embeddings\n",
    "\n",
    "This week, we build on last week's topic modeling techniques by taking a text corpus we have developed, specifying an underlying number of dimensions, and training a model with a neural network auto-encoder (one of Google's word2vec  algorithms) that best describes corpus words in their local linguistic contexts, and exploring their locations in the resulting space to learn about the discursive culture that produced them. Documents here are represented as densely indexed locations in dimensions, rather than sparse mixtures of topics (as in LDA topic modeling), so that distances between those documents (and words) are consistently superior, though they require the full vector of dimension loadings (rather than just a few selected topic loadings) to describe. We will explore these spaces to understand complex, semantic relationships between words, index documents with descriptive words, identify the likelihood that a given document would have been produced by a given vector model, and explore how semantic categories can help us understand the cultures that produced them.\n",
    "\n",
    "For this notebook we will be using the following packages"
   ]
  },
  {
   "cell_type": "code",
   "execution_count": 1,
   "metadata": {
    "collapsed": true
   },
   "outputs": [],
   "source": [
    "#Special module written for this class\n",
    "#This provides access to data and to helper functions from previous weeks\n",
    "#Make sure you update it before starting this notebook\n",
    "import lucem_illud #pip install -U git+git://github.com/Computational-Content-Analysis-2018/lucem_illud.git\n",
    "\n",
    "#All these packages need to be installed from pip\n",
    "import gensim#For word2vec, etc\n",
    "import requests #For downloading our datasets\n",
    "import nltk #For stop words and stemmers\n",
    "import numpy as np #For arrays\n",
    "import pandas #Gives us DataFrames\n",
    "import matplotlib.pyplot as plt #For graphics\n",
    "import seaborn #Makes the graphics look nicer\n",
    "import sklearn.metrics.pairwise #For cosine similarity\n",
    "import sklearn.manifold #For T-SNE\n",
    "import sklearn.decomposition #For PCA\n",
    "\n",
    "#gensim uses a couple of deprecated features\n",
    "#we can't do anything about them so lets ignore them \n",
    "import warnings\n",
    "warnings.filterwarnings(\"ignore\", category=DeprecationWarning) \n",
    "\n",
    "#This 'magic' command makes the plots work better\n",
    "#in the notebook, don't use it outside of a notebook.\n",
    "#Also you can ignore the warning\n",
    "%matplotlib inline\n",
    "\n",
    "import os #For looking through files\n",
    "import os.path #For managing file paths"
   ]
  },
  {
   "cell_type": "markdown",
   "metadata": {},
   "source": [
    "# Getting our corpora\n",
    "\n",
    "Instead of downloading our corpora, we have download them in advance; a subset of the [senate press releases](https://github.com/lintool/GrimmerSenatePressReleases) are in `grimmerPressReleases`. We will load them into a DataFrame, using a function from a couple weeks ago `loadTextDirectory`:"
   ]
  },
  {
   "cell_type": "code",
   "execution_count": 2,
   "metadata": {},
   "outputs": [
    {
     "data": {
      "text/html": [
       "<div>\n",
       "<style scoped>\n",
       "    .dataframe tbody tr th:only-of-type {\n",
       "        vertical-align: middle;\n",
       "    }\n",
       "\n",
       "    .dataframe tbody tr th {\n",
       "        vertical-align: top;\n",
       "    }\n",
       "\n",
       "    .dataframe thead th {\n",
       "        text-align: right;\n",
       "    }\n",
       "</style>\n",
       "<table border=\"1\" class=\"dataframe\">\n",
       "  <thead>\n",
       "    <tr style=\"text-align: right;\">\n",
       "      <th></th>\n",
       "      <th>text</th>\n",
       "    </tr>\n",
       "  </thead>\n",
       "  <tbody>\n",
       "    <tr>\n",
       "      <th>01Apr2005Kennedy14.txt</th>\n",
       "      <td>FOR IMMEDIATE RELEASE   FOR IMMEDIATE...</td>\n",
       "    </tr>\n",
       "    <tr>\n",
       "      <th>01Aug2005Kennedy12.txt</th>\n",
       "      <td>FOR IMMEDIATE RELEASE   FOR IMMEDIATE...</td>\n",
       "    </tr>\n",
       "    <tr>\n",
       "      <th>01Aug2006Kennedy10.txt</th>\n",
       "      <td>FOR IMMEDIATE RELEASE  FOR IMMEDIATE ...</td>\n",
       "    </tr>\n",
       "    <tr>\n",
       "      <th>01Aug2006Kennedy11.txt</th>\n",
       "      <td>FOR IMMEDIATE RELEASE  FOR IMMEDIATE ...</td>\n",
       "    </tr>\n",
       "    <tr>\n",
       "      <th>01Aug2006Kennedy12.txt</th>\n",
       "      <td>FOR IMMEDIATE RELEASE  FOR IMMEDIATE ...</td>\n",
       "    </tr>\n",
       "  </tbody>\n",
       "</table>\n",
       "</div>"
      ],
      "text/plain": [
       "                                                                     text\n",
       "01Apr2005Kennedy14.txt           FOR IMMEDIATE RELEASE   FOR IMMEDIATE...\n",
       "01Aug2005Kennedy12.txt           FOR IMMEDIATE RELEASE   FOR IMMEDIATE...\n",
       "01Aug2006Kennedy10.txt           FOR IMMEDIATE RELEASE  FOR IMMEDIATE ...\n",
       "01Aug2006Kennedy11.txt           FOR IMMEDIATE RELEASE  FOR IMMEDIATE ...\n",
       "01Aug2006Kennedy12.txt           FOR IMMEDIATE RELEASE  FOR IMMEDIATE ..."
      ]
     },
     "execution_count": 2,
     "metadata": {},
     "output_type": "execute_result"
    }
   ],
   "source": [
    "kennedyDF = lucem_illud.loadTextDirectory('../data/grimmerPressReleases/Kennedy/')\n",
    "kennedyDF[:5]"
   ]
  },
  {
   "cell_type": "markdown",
   "metadata": {},
   "source": [
    "This gets us one Senator's data, but with no metadata, we can add a category column with a simple command:"
   ]
  },
  {
   "cell_type": "code",
   "execution_count": 3,
   "metadata": {},
   "outputs": [
    {
     "data": {
      "text/html": [
       "<div>\n",
       "<style scoped>\n",
       "    .dataframe tbody tr th:only-of-type {\n",
       "        vertical-align: middle;\n",
       "    }\n",
       "\n",
       "    .dataframe tbody tr th {\n",
       "        vertical-align: top;\n",
       "    }\n",
       "\n",
       "    .dataframe thead th {\n",
       "        text-align: right;\n",
       "    }\n",
       "</style>\n",
       "<table border=\"1\" class=\"dataframe\">\n",
       "  <thead>\n",
       "    <tr style=\"text-align: right;\">\n",
       "      <th></th>\n",
       "      <th>text</th>\n",
       "      <th>category</th>\n",
       "    </tr>\n",
       "  </thead>\n",
       "  <tbody>\n",
       "    <tr>\n",
       "      <th>01Apr2005Kennedy14.txt</th>\n",
       "      <td>FOR IMMEDIATE RELEASE   FOR IMMEDIATE...</td>\n",
       "      <td>Kennedy</td>\n",
       "    </tr>\n",
       "    <tr>\n",
       "      <th>01Aug2005Kennedy12.txt</th>\n",
       "      <td>FOR IMMEDIATE RELEASE   FOR IMMEDIATE...</td>\n",
       "      <td>Kennedy</td>\n",
       "    </tr>\n",
       "    <tr>\n",
       "      <th>01Aug2006Kennedy10.txt</th>\n",
       "      <td>FOR IMMEDIATE RELEASE  FOR IMMEDIATE ...</td>\n",
       "      <td>Kennedy</td>\n",
       "    </tr>\n",
       "    <tr>\n",
       "      <th>01Aug2006Kennedy11.txt</th>\n",
       "      <td>FOR IMMEDIATE RELEASE  FOR IMMEDIATE ...</td>\n",
       "      <td>Kennedy</td>\n",
       "    </tr>\n",
       "    <tr>\n",
       "      <th>01Aug2006Kennedy12.txt</th>\n",
       "      <td>FOR IMMEDIATE RELEASE  FOR IMMEDIATE ...</td>\n",
       "      <td>Kennedy</td>\n",
       "    </tr>\n",
       "  </tbody>\n",
       "</table>\n",
       "</div>"
      ],
      "text/plain": [
       "                                                                     text  \\\n",
       "01Apr2005Kennedy14.txt           FOR IMMEDIATE RELEASE   FOR IMMEDIATE...   \n",
       "01Aug2005Kennedy12.txt           FOR IMMEDIATE RELEASE   FOR IMMEDIATE...   \n",
       "01Aug2006Kennedy10.txt           FOR IMMEDIATE RELEASE  FOR IMMEDIATE ...   \n",
       "01Aug2006Kennedy11.txt           FOR IMMEDIATE RELEASE  FOR IMMEDIATE ...   \n",
       "01Aug2006Kennedy12.txt           FOR IMMEDIATE RELEASE  FOR IMMEDIATE ...   \n",
       "\n",
       "                       category  \n",
       "01Apr2005Kennedy14.txt  Kennedy  \n",
       "01Aug2005Kennedy12.txt  Kennedy  \n",
       "01Aug2006Kennedy10.txt  Kennedy  \n",
       "01Aug2006Kennedy11.txt  Kennedy  \n",
       "01Aug2006Kennedy12.txt  Kennedy  "
      ]
     },
     "execution_count": 3,
     "metadata": {},
     "output_type": "execute_result"
    }
   ],
   "source": [
    "kennedyDF['category'] = 'Kennedy'\n",
    "kennedyDF[:5]"
   ]
  },
  {
   "cell_type": "markdown",
   "metadata": {},
   "source": [
    "We also will be wanting to load all the senators so we will need to loop over all the directories"
   ]
  },
  {
   "cell_type": "code",
   "execution_count": 4,
   "metadata": {},
   "outputs": [
    {
     "data": {
      "text/html": [
       "<div>\n",
       "<style scoped>\n",
       "    .dataframe tbody tr th:only-of-type {\n",
       "        vertical-align: middle;\n",
       "    }\n",
       "\n",
       "    .dataframe tbody tr th {\n",
       "        vertical-align: top;\n",
       "    }\n",
       "\n",
       "    .dataframe thead th {\n",
       "        text-align: right;\n",
       "    }\n",
       "</style>\n",
       "<table border=\"1\" class=\"dataframe\">\n",
       "  <thead>\n",
       "    <tr style=\"text-align: right;\">\n",
       "      <th></th>\n",
       "      <th>text</th>\n",
       "      <th>category</th>\n",
       "    </tr>\n",
       "  </thead>\n",
       "  <tbody>\n",
       "    <tr>\n",
       "      <th>01Apr2005Kennedy14.txt</th>\n",
       "      <td>FOR IMMEDIATE RELEASE   FOR IMMEDIATE...</td>\n",
       "      <td>Kennedy</td>\n",
       "    </tr>\n",
       "    <tr>\n",
       "      <th>01Aug2005Kennedy12.txt</th>\n",
       "      <td>FOR IMMEDIATE RELEASE   FOR IMMEDIATE...</td>\n",
       "      <td>Kennedy</td>\n",
       "    </tr>\n",
       "    <tr>\n",
       "      <th>01Aug2006Kennedy10.txt</th>\n",
       "      <td>FOR IMMEDIATE RELEASE  FOR IMMEDIATE ...</td>\n",
       "      <td>Kennedy</td>\n",
       "    </tr>\n",
       "    <tr>\n",
       "      <th>01Aug2006Kennedy11.txt</th>\n",
       "      <td>FOR IMMEDIATE RELEASE  FOR IMMEDIATE ...</td>\n",
       "      <td>Kennedy</td>\n",
       "    </tr>\n",
       "    <tr>\n",
       "      <th>01Aug2006Kennedy12.txt</th>\n",
       "      <td>FOR IMMEDIATE RELEASE  FOR IMMEDIATE ...</td>\n",
       "      <td>Kennedy</td>\n",
       "    </tr>\n",
       "  </tbody>\n",
       "</table>\n",
       "</div>"
      ],
      "text/plain": [
       "                                                                     text  \\\n",
       "01Apr2005Kennedy14.txt           FOR IMMEDIATE RELEASE   FOR IMMEDIATE...   \n",
       "01Aug2005Kennedy12.txt           FOR IMMEDIATE RELEASE   FOR IMMEDIATE...   \n",
       "01Aug2006Kennedy10.txt           FOR IMMEDIATE RELEASE  FOR IMMEDIATE ...   \n",
       "01Aug2006Kennedy11.txt           FOR IMMEDIATE RELEASE  FOR IMMEDIATE ...   \n",
       "01Aug2006Kennedy12.txt           FOR IMMEDIATE RELEASE  FOR IMMEDIATE ...   \n",
       "\n",
       "                       category  \n",
       "01Apr2005Kennedy14.txt  Kennedy  \n",
       "01Aug2005Kennedy12.txt  Kennedy  \n",
       "01Aug2006Kennedy10.txt  Kennedy  \n",
       "01Aug2006Kennedy11.txt  Kennedy  \n",
       "01Aug2006Kennedy12.txt  Kennedy  "
      ]
     },
     "execution_count": 4,
     "metadata": {},
     "output_type": "execute_result"
    }
   ],
   "source": [
    "dataDir = '../data/grimmerPressReleases'\n",
    "\n",
    "senReleasesDF = pandas.DataFrame()\n",
    "\n",
    "for senatorDir in (file for file in os.scandir(dataDir) if not file.name.startswith('.') and file.is_dir()):\n",
    "    senDF = lucem_illud.loadTextDirectory(senatorDir.path)\n",
    "    senDF['category'] = senatorDir.name\n",
    "    senReleasesDF = senReleasesDF.append(senDF, ignore_index = False)\n",
    "\n",
    "senReleasesDF[:5]"
   ]
  },
  {
   "cell_type": "markdown",
   "metadata": {},
   "source": [
    "We also want to remove stop words and stem. Tokenizing requires two steps. Word2Vec needs to retain the sentence structure so as to capture a \"continuous bag of words (CBOW)\" and all of the skip-grams within a word window. The algorithm tries to preserve the distances induced by one of these two local structures. This is very different from clustering and LDA topic modeling which extract unordered words alone. As such, tokenizing is slightly more involved, but we can still use `lucem_illud`."
   ]
  },
  {
   "cell_type": "code",
   "execution_count": 5,
   "metadata": {},
   "outputs": [
    {
     "data": {
      "text/html": [
       "<div>\n",
       "<style scoped>\n",
       "    .dataframe tbody tr th:only-of-type {\n",
       "        vertical-align: middle;\n",
       "    }\n",
       "\n",
       "    .dataframe tbody tr th {\n",
       "        vertical-align: top;\n",
       "    }\n",
       "\n",
       "    .dataframe thead th {\n",
       "        text-align: right;\n",
       "    }\n",
       "</style>\n",
       "<table border=\"1\" class=\"dataframe\">\n",
       "  <thead>\n",
       "    <tr style=\"text-align: right;\">\n",
       "      <th></th>\n",
       "      <th>text</th>\n",
       "      <th>category</th>\n",
       "      <th>tokenized_sents</th>\n",
       "      <th>normalized_sents</th>\n",
       "    </tr>\n",
       "  </thead>\n",
       "  <tbody>\n",
       "    <tr>\n",
       "      <th>01Apr2005Kennedy14.txt</th>\n",
       "      <td>FOR IMMEDIATE RELEASE   FOR IMMEDIATE...</td>\n",
       "      <td>Kennedy</td>\n",
       "      <td>[[FOR, IMMEDIATE, RELEASE, FOR, IMMEDIATE, REL...</td>\n",
       "      <td>[[immediate, release, immediate, release, cont...</td>\n",
       "    </tr>\n",
       "    <tr>\n",
       "      <th>01Aug2005Kennedy12.txt</th>\n",
       "      <td>FOR IMMEDIATE RELEASE   FOR IMMEDIATE...</td>\n",
       "      <td>Kennedy</td>\n",
       "      <td>[[FOR, IMMEDIATE, RELEASE, FOR, IMMEDIATE, REL...</td>\n",
       "      <td>[[immediate, release, immediate, release, cont...</td>\n",
       "    </tr>\n",
       "    <tr>\n",
       "      <th>01Aug2006Kennedy10.txt</th>\n",
       "      <td>FOR IMMEDIATE RELEASE  FOR IMMEDIATE ...</td>\n",
       "      <td>Kennedy</td>\n",
       "      <td>[[FOR, IMMEDIATE, RELEASE, FOR, IMMEDIATE, REL...</td>\n",
       "      <td>[[immediate, release, immediate, release, wash...</td>\n",
       "    </tr>\n",
       "    <tr>\n",
       "      <th>01Aug2006Kennedy11.txt</th>\n",
       "      <td>FOR IMMEDIATE RELEASE  FOR IMMEDIATE ...</td>\n",
       "      <td>Kennedy</td>\n",
       "      <td>[[FOR, IMMEDIATE, RELEASE, FOR, IMMEDIATE, REL...</td>\n",
       "      <td>[[immediate, release, immediate, release, wash...</td>\n",
       "    </tr>\n",
       "    <tr>\n",
       "      <th>01Aug2006Kennedy12.txt</th>\n",
       "      <td>FOR IMMEDIATE RELEASE  FOR IMMEDIATE ...</td>\n",
       "      <td>Kennedy</td>\n",
       "      <td>[[FOR, IMMEDIATE, RELEASE, FOR, IMMEDIATE, REL...</td>\n",
       "      <td>[[immediate, release, immediate, release, cont...</td>\n",
       "    </tr>\n",
       "  </tbody>\n",
       "</table>\n",
       "</div>"
      ],
      "text/plain": [
       "                                                                     text  \\\n",
       "01Apr2005Kennedy14.txt           FOR IMMEDIATE RELEASE   FOR IMMEDIATE...   \n",
       "01Aug2005Kennedy12.txt           FOR IMMEDIATE RELEASE   FOR IMMEDIATE...   \n",
       "01Aug2006Kennedy10.txt           FOR IMMEDIATE RELEASE  FOR IMMEDIATE ...   \n",
       "01Aug2006Kennedy11.txt           FOR IMMEDIATE RELEASE  FOR IMMEDIATE ...   \n",
       "01Aug2006Kennedy12.txt           FOR IMMEDIATE RELEASE  FOR IMMEDIATE ...   \n",
       "\n",
       "                       category  \\\n",
       "01Apr2005Kennedy14.txt  Kennedy   \n",
       "01Aug2005Kennedy12.txt  Kennedy   \n",
       "01Aug2006Kennedy10.txt  Kennedy   \n",
       "01Aug2006Kennedy11.txt  Kennedy   \n",
       "01Aug2006Kennedy12.txt  Kennedy   \n",
       "\n",
       "                                                          tokenized_sents  \\\n",
       "01Apr2005Kennedy14.txt  [[FOR, IMMEDIATE, RELEASE, FOR, IMMEDIATE, REL...   \n",
       "01Aug2005Kennedy12.txt  [[FOR, IMMEDIATE, RELEASE, FOR, IMMEDIATE, REL...   \n",
       "01Aug2006Kennedy10.txt  [[FOR, IMMEDIATE, RELEASE, FOR, IMMEDIATE, REL...   \n",
       "01Aug2006Kennedy11.txt  [[FOR, IMMEDIATE, RELEASE, FOR, IMMEDIATE, REL...   \n",
       "01Aug2006Kennedy12.txt  [[FOR, IMMEDIATE, RELEASE, FOR, IMMEDIATE, REL...   \n",
       "\n",
       "                                                         normalized_sents  \n",
       "01Apr2005Kennedy14.txt  [[immediate, release, immediate, release, cont...  \n",
       "01Aug2005Kennedy12.txt  [[immediate, release, immediate, release, cont...  \n",
       "01Aug2006Kennedy10.txt  [[immediate, release, immediate, release, wash...  \n",
       "01Aug2006Kennedy11.txt  [[immediate, release, immediate, release, wash...  \n",
       "01Aug2006Kennedy12.txt  [[immediate, release, immediate, release, cont...  "
      ]
     },
     "execution_count": 5,
     "metadata": {},
     "output_type": "execute_result"
    }
   ],
   "source": [
    "#Apply our functions, notice each row is a list of lists now\n",
    "senReleasesDF['tokenized_sents'] = senReleasesDF['text'].apply(lambda x: \n",
    "                                                               [nltk.word_tokenize(s) for s in nltk.sent_tokenize(x)])\n",
    "senReleasesDF['normalized_sents'] = senReleasesDF['tokenized_sents'].apply(lambda x: \n",
    "                                                                           [lucem_illud.normalizeTokens(s, \n",
    "                                                                                           stopwordLst = lucem_illud.stop_words_basic, \n",
    "                                                                                           stemmer = None) \n",
    "                                                                            for s in x])\n",
    "\n",
    "senReleasesDF[:5]"
   ]
  },
  {
   "cell_type": "markdown",
   "metadata": {},
   "source": [
    "# Word2Vec\n",
    "\n",
    "We will be using the gensim implementation of [Word2Vec](https://radimrehurek.com/gensim/models/word2vec.html#gensim.models.word2vec.Word2Vec).\n",
    "\n",
    "To load our data, we give all the sentences to the trainer. We just need to add the words as a list of sentences:"
   ]
  },
  {
   "cell_type": "code",
   "execution_count": 6,
   "metadata": {
    "collapsed": true
   },
   "outputs": [],
   "source": [
    "senReleasesW2V = gensim.models.word2vec.Word2Vec(senReleasesDF['normalized_sents'].sum())"
   ]
  },
  {
   "cell_type": "markdown",
   "metadata": {},
   "source": [
    "Inside the word2vec object, the words each have a vector. To access the vector directly, use the square braces (`__getitem__`) method:"
   ]
  },
  {
   "cell_type": "code",
   "execution_count": 7,
   "metadata": {},
   "outputs": [
    {
     "name": "stdout",
     "output_type": "stream",
     "text": [
      "A 100 dimesional vector:\n"
     ]
    },
    {
     "data": {
      "text/plain": [
       "array([-1.0307747 ,  0.19203079, -2.9811432 ,  0.41072562, -0.36869532,\n",
       "       -1.9266837 ,  1.8121969 , -0.68619525, -1.6395568 , -0.30785838,\n",
       "       -1.5774987 ,  0.2514106 , -1.3732842 , -2.0825636 , -0.4678449 ,\n",
       "       -0.79892915,  1.2683582 ,  2.109924  , -4.702559  ,  2.3359563 ,\n",
       "       -0.7882934 , -2.2140822 ,  0.35168615, -0.8085008 , -1.1504772 ,\n",
       "        0.33345807,  2.278303  ,  0.66080964,  0.637943  , -2.7673912 ,\n",
       "       -0.16930571,  0.06341994, -2.0762916 , -1.3033403 ,  0.49128917,\n",
       "        2.087261  , -1.8639416 , -0.9590534 , -1.158412  , -1.6931905 ,\n",
       "        2.0722303 , -0.9680492 ,  1.6097457 ,  0.6217827 ,  0.21432728,\n",
       "       -1.2216704 , -0.87922496,  0.815528  , -1.6276689 , -0.10115107,\n",
       "       -0.62926435,  0.5265604 ,  1.0033196 ,  0.27837965,  1.3964914 ,\n",
       "        2.4603517 , -0.4364217 , -0.8718042 ,  0.88997227, -1.2472919 ,\n",
       "        3.698714  , -0.8310683 ,  1.748932  ,  0.8471218 , -0.59992445,\n",
       "        1.9269228 ,  0.16084734, -0.68480074, -1.757404  , -0.4755056 ,\n",
       "        1.8664234 ,  0.6532846 , -0.4160554 ,  1.0545782 ,  1.9307256 ,\n",
       "        0.74073106,  3.1892471 , -1.5281405 ,  0.02370477,  1.2229713 ,\n",
       "        0.8173442 , -1.4646685 , -1.5246425 , -1.423855  , -1.1222887 ,\n",
       "       -0.39116526, -1.3943903 ,  1.7334682 ,  0.43969256,  0.64331657,\n",
       "        1.5352473 , -1.9354218 ,  1.8597281 , -0.3556973 ,  1.633383  ,\n",
       "        1.0664891 ,  0.06164145,  0.29919744,  0.58767915, -3.018854  ],\n",
       "      dtype=float32)"
      ]
     },
     "execution_count": 7,
     "metadata": {},
     "output_type": "execute_result"
    }
   ],
   "source": [
    "print(\"A {} dimesional vector:\".format(senReleasesW2V['president'].shape[0]))\n",
    "senReleasesW2V['president']"
   ]
  },
  {
   "cell_type": "markdown",
   "metadata": {},
   "source": [
    "If you want the full matrix, `syn0` stores all the vectors:"
   ]
  },
  {
   "cell_type": "code",
   "execution_count": 8,
   "metadata": {},
   "outputs": [
    {
     "data": {
      "text/plain": [
       "array([[-0.10733043,  0.15208355,  0.07794376, ...,  1.236433  ,\n",
       "         1.1696931 ,  2.044862  ],\n",
       "       [ 0.35812616, -2.0032613 ,  1.6895179 , ..., -0.30198985,\n",
       "        -0.01599635,  0.6155914 ],\n",
       "       [ 2.1398659 , -1.4266974 , -1.5268192 , ...,  1.069906  ,\n",
       "        -0.2924204 , -0.07309374],\n",
       "       ...,\n",
       "       [-0.08008797, -0.00515069,  0.10957953, ..., -0.06335114,\n",
       "         0.07408802,  0.02865674],\n",
       "       [ 0.01271507, -0.01102411, -0.01242754, ..., -0.0362124 ,\n",
       "         0.00681745,  0.01055784],\n",
       "       [-0.0660001 ,  0.06555326,  0.1036745 , ..., -0.08741931,\n",
       "         0.12089466,  0.06775483]], dtype=float32)"
      ]
     },
     "execution_count": 8,
     "metadata": {},
     "output_type": "execute_result"
    }
   ],
   "source": [
    "senReleasesW2V.wv.syn0"
   ]
  },
  {
   "cell_type": "markdown",
   "metadata": {},
   "source": [
    "Then, `index2word` lets you translate from the matrix to words"
   ]
  },
  {
   "cell_type": "code",
   "execution_count": 9,
   "metadata": {},
   "outputs": [
    {
     "data": {
      "text/plain": [
       "'american'"
      ]
     },
     "execution_count": 9,
     "metadata": {},
     "output_type": "execute_result"
    }
   ],
   "source": [
    "senReleasesW2V.wv.index2word[10]"
   ]
  },
  {
   "cell_type": "markdown",
   "metadata": {},
   "source": [
    "Now we can look at a few things that come from the word vectors. The first is to find similar vectors (cosine similarity):"
   ]
  },
  {
   "cell_type": "code",
   "execution_count": 10,
   "metadata": {},
   "outputs": [
    {
     "data": {
      "text/plain": [
       "[('administration', 0.7793764472007751),\n",
       " ('presidents', 0.748950719833374),\n",
       " ('administrations', 0.686938464641571),\n",
       " ('george', 0.6176577210426331),\n",
       " ('cheney', 0.595413327217102),\n",
       " ('responds', 0.5513138771057129),\n",
       " ('rollback', 0.5434801578521729),\n",
       " ('gimmicks', 0.5388391017913818),\n",
       " ('lamont', 0.5326244235038757),\n",
       " ('sticklers', 0.5216896533966064)]"
      ]
     },
     "execution_count": 10,
     "metadata": {},
     "output_type": "execute_result"
    }
   ],
   "source": [
    "senReleasesW2V.most_similar('president')"
   ]
  },
  {
   "cell_type": "code",
   "execution_count": 11,
   "metadata": {},
   "outputs": [
    {
     "data": {
      "text/plain": [
       "[('quagmire', 0.6405020952224731),\n",
       " ('foment', 0.6401472091674805),\n",
       " ('afghanistan', 0.6399059295654297),\n",
       " ('wars', 0.6337176561355591),\n",
       " ('disobedience', 0.6311540603637695),\n",
       " ('militarily', 0.6047148704528809),\n",
       " ('unresisted', 0.5999585390090942),\n",
       " ('chaos', 0.5957682132720947),\n",
       " ('descending', 0.5924106240272522),\n",
       " ('battle', 0.5864602327346802)]"
      ]
     },
     "execution_count": 11,
     "metadata": {},
     "output_type": "execute_result"
    }
   ],
   "source": [
    "senReleasesW2V.most_similar('war')"
   ]
  },
  {
   "cell_type": "markdown",
   "metadata": {},
   "source": [
    "Or we can get this directly (calculated slightly differently):"
   ]
  },
  {
   "cell_type": "code",
   "execution_count": 14,
   "metadata": {
    "collapsed": true
   },
   "outputs": [],
   "source": [
    "def cos_difference(embedding,word1,word2):\n",
    "    return sklearn.metrics.pairwise.cosine_similarity(embedding[word1].reshape(1,-1),embedding[word2].reshape(1,-1))"
   ]
  },
  {
   "cell_type": "code",
   "execution_count": 13,
   "metadata": {},
   "outputs": [
    {
     "data": {
      "text/plain": [
       "array([[0.4596965]], dtype=float32)"
      ]
     },
     "execution_count": 13,
     "metadata": {},
     "output_type": "execute_result"
    }
   ],
   "source": [
    "cos_difference(senReleasesW2V, 'war', 'unwinnable')"
   ]
  },
  {
   "cell_type": "markdown",
   "metadata": {},
   "source": [
    "We can also find which word least matches the others within a word set (cosine similarity):"
   ]
  },
  {
   "cell_type": "code",
   "execution_count": 14,
   "metadata": {},
   "outputs": [
    {
     "data": {
      "text/plain": [
       "'washington'"
      ]
     },
     "execution_count": 14,
     "metadata": {},
     "output_type": "execute_result"
    }
   ],
   "source": [
    "senReleasesW2V.doesnt_match(['administration', 'administrations', 'presidents', 'president', 'washington'])"
   ]
  },
  {
   "cell_type": "markdown",
   "metadata": {},
   "source": [
    "Find which word best matches the result of a semantic *equation* (here, we seek the words whose vectors best fit the missing entry from the equation: **X + Y - Z = _**."
   ]
  },
  {
   "cell_type": "code",
   "execution_count": 15,
   "metadata": {},
   "outputs": [
    {
     "data": {
      "text/plain": [
       "[('bush', 0.7304625511169434),\n",
       " ('veto', 0.7050485610961914),\n",
       " ('bushs', 0.7034592628479004),\n",
       " ('vetoed', 0.6977795362472534),\n",
       " ('signing', 0.6736279726028442),\n",
       " ('signature', 0.6579673886299133),\n",
       " ('blocked', 0.6453791856765747),\n",
       " ('proposing', 0.6316179633140564),\n",
       " ('musharraf', 0.6286833882331848),\n",
       " ('vetoes', 0.6249666213989258)]"
      ]
     },
     "execution_count": 15,
     "metadata": {},
     "output_type": "execute_result"
    }
   ],
   "source": [
    "senReleasesW2V.most_similar(positive=['clinton', 'republican'], negative = ['democrat'])"
   ]
  },
  {
   "cell_type": "markdown",
   "metadata": {},
   "source": [
    "Here we see that **Clinton + Republican - Democrat = Bush**. In other words, in this dataset and period, **Clinton** was to **Democrat** as **Bush** was to **Republican**. Whoah!"
   ]
  },
  {
   "cell_type": "markdown",
   "metadata": {},
   "source": [
    " But how do we argue that these are stable distances or associations?"
   ]
  },
  {
   "cell_type": "markdown",
   "metadata": {},
   "source": [
    "## Establishing Credible or Confidence Intervals"
   ]
  },
  {
   "cell_type": "markdown",
   "metadata": {},
   "source": [
    "### Boostrapping approach"
   ]
  },
  {
   "cell_type": "markdown",
   "metadata": {},
   "source": [
    "We propose well-established bootstrapping and subsampling methods to nonparametrically demonstrate the stability and significance of word associations within our embedding model. These allow us to establish conservative confidence intervals to both (a) distances between words in a model and (b) projections of words onto an induced dimension (e.g., man-woman). If we assume that the texts (e.g., newspapers, books) underlying our word embedding model are observations drawn from an independent and identically distributed (i.i.d.) population of cultural observations, then bootstrapping allows us to estimate the variance of word distances and projections by measuring those properties through sampling the empirical distribution of texts with replacement (Efron and Tibshirani 1994; Efron 2003). Operationally, if we wanted to bootstrap a 90% confidence interval of a word-word distance or word-dimension projection, we would sample a corpus the same size as the original corpus, but with replacement, 20 times, estimate word embedding models on each sample. Then we take the 2nd order (2nd smallest) statistic $s_{(2)}$--either distance or projection--as our confidence interval’s lower bound, and 19th order statistic $s_{(19)}$ as its upper bound. The distance between $s_{(2)}$ and $s_{(19)}$ across 20 bootstrap samples span the 5th to the 95th percentiles of the statistic’s variance, bounding the 90th confidence interval. A 95% confidence interval would span $s_{(2)}$ and $s_{(39)}$ in word embedding distances or projections estimated on 40 bootstrap samples of a corpus, tracing the 2.5th to 97.5th percentiles. "
   ]
  },
  {
   "cell_type": "code",
   "execution_count": 16,
   "metadata": {},
   "outputs": [
    {
     "data": {
      "text/plain": [
       "[0.31321144,\n",
       " 0.33652437,\n",
       " 0.34983534,\n",
       " 0.3574487,\n",
       " 0.3642871,\n",
       " 0.3795838,\n",
       " 0.39344049,\n",
       " 0.4008341,\n",
       " 0.401982,\n",
       " 0.40456232,\n",
       " 0.41807282,\n",
       " 0.46982285,\n",
       " 0.46984938,\n",
       " 0.50143766,\n",
       " 0.53868777,\n",
       " 0.5697503,\n",
       " 0.5827737,\n",
       " 0.5968215,\n",
       " 0.6696576]"
      ]
     },
     "execution_count": 16,
     "metadata": {},
     "output_type": "execute_result"
    }
   ],
   "source": [
    "estimatesB=[]\n",
    "for x in range(20):\n",
    "    senReleasesW2VB = gensim.models.word2vec.Word2Vec(senReleasesDF['normalized_sents'].sample(frac=1.0, replace=True).sum())\n",
    "    try:\n",
    "        estimatesB.append(cos_difference(senReleasesW2VB, 'war', 'unwinnable')[0,0])\n",
    "    except KeyError:\n",
    "        #Missing one of the words from the vocab\n",
    "        pass\n",
    "                                                      \n",
    "estimatesB.sort()         \n",
    "estimatesB"
   ]
  },
  {
   "cell_type": "code",
   "execution_count": 17,
   "metadata": {},
   "outputs": [
    {
     "name": "stdout",
     "output_type": "stream",
     "text": [
      "The 90% confidence interval for the cosine distance between war and unwinnable is:\n",
      " 0.33652437 0.5968215\n"
     ]
    }
   ],
   "source": [
    "print(\"The 90% confidence interval for the cosine distance between war and unwinnable is:\\n\",estimatesB[1], estimatesB[-2])"
   ]
  },
  {
   "cell_type": "markdown",
   "metadata": {},
   "source": [
    "### Subsampling approach"
   ]
  },
  {
   "cell_type": "markdown",
   "metadata": {},
   "source": [
    "If the corpus is large, then we may take a subsampling approach, which randomly partitions the corpus into non-overlapping samples, then estimates the word-embedding models on these subsets and calculates confidence intervals as a function of the empirical distribution of distance or projection statistics and number of texts in the subsample (Politis and Romano 1997). Subsampling requires the same i.i.d. assumption as the bootrap (Politis and Romano 1992; Politis and Romano 1994). For 90% confidence intervals, we randomly partition the corpus into 20 subcorpora, then calculate $B^k=\\sqrt{\\tau_k}\\left(s^k-\\bar{s}\\right)$ for each $k$th sample, where $k$ is the number of texts and $s^k$ is the embedding distance or projection for the $k$th sample, and $\\bar{s}$ is the average statistic for all samples. The 90% confidence interval spans the 5th to 95th percentile variances, inscribed by $\\bar{s}-\\frac{B_{(19)}^k}{\\sqrt{\\tau}}$ and $\\bar{s}-\\frac{B_{(2)}^k}{\\sqrt{\\tau}}$, where $\\tau$ the number of texts in the total corpus and $s$ is the average statistic across all subsamples. As with bootrapping, a 95% confidence interval would require 40 subsamples; a 99% confidence would require 200 (.5th to 99.5th percentiles)."
   ]
  },
  {
   "cell_type": "code",
   "execution_count": 18,
   "metadata": {},
   "outputs": [
    {
     "ename": "NameError",
     "evalue": "name 'sample_indices' is not defined",
     "output_type": "error",
     "traceback": [
      "\u001b[0;31m---------------------------------------------------------------------------\u001b[0m",
      "\u001b[0;31mNameError\u001b[0m                                 Traceback (most recent call last)",
      "\u001b[0;32m<ipython-input-18-693370b629df>\u001b[0m in \u001b[0;36m<module>\u001b[0;34m()\u001b[0m\n\u001b[0;32m----> 1\u001b[0;31m \u001b[0msenReleasesDF\u001b[0m\u001b[0;34m[\u001b[0m\u001b[0msample_indices\u001b[0m \u001b[0;34m==\u001b[0m \u001b[0mi\u001b[0m\u001b[0;34m]\u001b[0m\u001b[0;34m\u001b[0m\u001b[0m\n\u001b[0m",
      "\u001b[0;31mNameError\u001b[0m: name 'sample_indices' is not defined"
     ]
    }
   ],
   "source": [
    "senReleasesDF[sample_indices == i]"
   ]
  },
  {
   "cell_type": "code",
   "execution_count": null,
   "metadata": {
    "collapsed": true
   },
   "outputs": [],
   "source": [
    "n_samples = 10\n",
    "sample_indices = np.random.randint(0,n_samples,(len(senReleasesDF),))\n",
    "\n",
    "s_k =np.array([])\n",
    "tau_k=np.array([])\n",
    "\n",
    "for i in range(n_samples):\n",
    "    sample_w2v = gensim.models.word2vec.Word2Vec(senReleasesDF[sample_indices == i]['normalized_sents'].sum())\n",
    "    try:\n",
    "        #Need to use words present in most samples\n",
    "        s_k = np.append(s_k, cos_difference(sample_w2v, 'war', 'responsibility')[0,0])\n",
    "    except KeyError:\n",
    "        pass\n",
    "    else:\n",
    "        tau_k = np.append(tau_k, len(senReleasesDF[sample_indices == i]))\n",
    "\n",
    "print(s_k)\n",
    "print(tau_k)\n",
    "\n",
    "tau = tau_k.sum()\n",
    "s = s_k.mean()\n",
    "B_k = np.sqrt(tau_k) * s_k-s_k.mean()"
   ]
  },
  {
   "cell_type": "code",
   "execution_count": null,
   "metadata": {
    "collapsed": true
   },
   "outputs": [],
   "source": [
    "print(\"The 90% confidence interval for the cosine distance between war and responsibility is:\\n\",s-B_k[-2]/np.sqrt(tau), s-B_k[1]/np.sqrt(tau))"
   ]
  },
  {
   "cell_type": "markdown",
   "metadata": {},
   "source": [
    "We can also save the vectors for later use:"
   ]
  },
  {
   "cell_type": "code",
   "execution_count": null,
   "metadata": {
    "collapsed": true
   },
   "outputs": [],
   "source": [
    "senReleasesW2V.save(\"senpressreleasesWORD2Vec.mm\")\n",
    "#Load with senReleasesW2V = gensim.models.word2vec.Word2Vec.load('senpressreleasesWORD2Vec.mm')"
   ]
  },
  {
   "cell_type": "markdown",
   "metadata": {},
   "source": [
    "## Visualize"
   ]
  },
  {
   "cell_type": "markdown",
   "metadata": {},
   "source": [
    "We can also use dimension reduction to visulize the vectors. We will start by selecting a subset we want to plot. Let's look at the top words from the set:"
   ]
  },
  {
   "cell_type": "code",
   "execution_count": null,
   "metadata": {
    "collapsed": true
   },
   "outputs": [],
   "source": [
    "numWords = 150\n",
    "targetWords = senReleasesW2V.wv.index2word[:numWords]"
   ]
  },
  {
   "cell_type": "markdown",
   "metadata": {},
   "source": [
    "We can then extract their vectors and create our own smaller matrix that preserved the distances from the original:"
   ]
  },
  {
   "cell_type": "code",
   "execution_count": null,
   "metadata": {
    "collapsed": true
   },
   "outputs": [],
   "source": [
    "wordsSubMatrix = []\n",
    "for word in targetWords:\n",
    "    wordsSubMatrix.append(senReleasesW2V[word])\n",
    "wordsSubMatrix = np.array(wordsSubMatrix)\n",
    "wordsSubMatrix"
   ]
  },
  {
   "cell_type": "markdown",
   "metadata": {},
   "source": [
    "Then we can use PCA to reduce the dimesions (e.g., to 50), and [T-SNE](https://en.wikipedia.org/wiki/T-distributed_stochastic_neighbor_embedding) to project them down to the two we will visualize. We note that this is nondeterministic process, and so you can repeat and achieve alternative projectsions/visualizations of the words:"
   ]
  },
  {
   "cell_type": "code",
   "execution_count": null,
   "metadata": {
    "collapsed": true
   },
   "outputs": [],
   "source": [
    "pcaWords = sklearn.decomposition.PCA(n_components = 50).fit(wordsSubMatrix)\n",
    "reducedPCA_data = pcaWords.transform(wordsSubMatrix)\n",
    "#T-SNE is theoretically better, but you should experiment\n",
    "tsneWords = sklearn.manifold.TSNE(n_components = 2, early_exaggeration = 25).fit_transform(reducedPCA_data)"
   ]
  },
  {
   "cell_type": "markdown",
   "metadata": {},
   "source": [
    "We now can plot the points"
   ]
  },
  {
   "cell_type": "code",
   "execution_count": null,
   "metadata": {
    "collapsed": true
   },
   "outputs": [],
   "source": [
    "fig = plt.figure(figsize = (15,10))\n",
    "ax = fig.add_subplot(111)\n",
    "ax.set_frame_on(False)\n",
    "plt.scatter(tsneWords[:, 0], tsneWords[:, 1], alpha = 0)#Making the points invisible \n",
    "for i, word in enumerate(targetWords):\n",
    "    ax.annotate(word, \n",
    "                (tsneWords[:, 0][i],tsneWords[:, 1][i]), \n",
    "                size =  20 * (numWords - i) / numWords, \n",
    "                alpha = .8 * (numWords - i) / numWords + .2)\n",
    "plt.xticks(())\n",
    "plt.yticks(())\n",
    "plt.show()"
   ]
  },
  {
   "cell_type": "markdown",
   "metadata": {},
   "source": [
    "My visualization above puts ``iraq`` next to ``time`` and ``bill`` near ``help``. <img src='../data/examplewordcloud.svg'>"
   ]
  },
  {
   "cell_type": "markdown",
   "metadata": {},
   "source": [
    "What if a new senator come along with whose names starts with K? Could we analyse their releases too without rerunning the entire embedding? Lets try with Cardin in `../data/grimmerPressReleases_extra/Cardin`. First we need to load and proccess the releases:"
   ]
  },
  {
   "cell_type": "code",
   "execution_count": null,
   "metadata": {
    "collapsed": true
   },
   "outputs": [],
   "source": [
    "cardinDF = lucem_illud.loadTextDirectory('../data/grimmerPressReleases_extra/Cardin')\n",
    "cardinDF['category'] = 'Cardin'\n",
    "\n",
    "cardinDF['tokenized_sents'] = cardinDF['text'].apply(lambda x: \n",
    "                                                               [nltk.word_tokenize(s) for s in nltk.sent_tokenize(x)])\n",
    "cardinDF['normalized_sents'] = cardinDF['tokenized_sents'].apply(lambda x: \n",
    "                                                                           [lucem_illud.normalizeTokens(s, \n",
    "                                                                                           stopwordLst = lucem_illud.stop_words_basic, \n",
    "                                                                                           stemmer = None) \n",
    "                                                                            for s in x])\n",
    "\n",
    "cardinDF[:10]"
   ]
  },
  {
   "cell_type": "markdown",
   "metadata": {},
   "source": [
    "We can now merge Cardin's releases with the rest. This can update all the weights in *w2v* model, so be careful."
   ]
  },
  {
   "cell_type": "code",
   "execution_count": null,
   "metadata": {
    "collapsed": true
   },
   "outputs": [],
   "source": [
    "#This is using a newer API so we have to tell it a little bit more for it to work right\n",
    "senReleasesW2V.build_vocab(cardinDF['normalized_sents'].sum(), update=True)\n",
    "senReleasesW2V.train(cardinDF['normalized_sents'].sum(), \n",
    "                     total_examples=senReleasesW2V.corpus_count, \n",
    "                     epochs=senReleasesW2V.iter)\n",
    "senReleasesW2V.save(\"senpressreleasesWORD2Vec_new.mm\")"
   ]
  },
  {
   "cell_type": "markdown",
   "metadata": {},
   "source": [
    "As the model is updated by this, we need to load our old copy to do a comparison."
   ]
  },
  {
   "cell_type": "code",
   "execution_count": null,
   "metadata": {
    "collapsed": true
   },
   "outputs": [],
   "source": [
    "senReleasesW2V_old = gensim.models.word2vec.Word2Vec.load('senpressreleasesWORD2Vec.mm')"
   ]
  },
  {
   "cell_type": "code",
   "execution_count": null,
   "metadata": {
    "collapsed": true
   },
   "outputs": [],
   "source": [
    "print(\"A {} dimesional vector:\".format(senReleasesW2V['president'].shape[0]))\n",
    "senReleasesW2V['president'][:10]"
   ]
  },
  {
   "cell_type": "code",
   "execution_count": null,
   "metadata": {
    "collapsed": true
   },
   "outputs": [],
   "source": [
    "print(\"A {} dimesional vector:\".format(senReleasesW2V_old['president'].shape[0]))\n",
    "senReleasesW2V_old['president'][:10]"
   ]
  },
  {
   "cell_type": "code",
   "execution_count": null,
   "metadata": {
    "collapsed": true
   },
   "outputs": [],
   "source": [
    "(senReleasesW2V_old['president'] - senReleasesW2V['president'])[:10]"
   ]
  },
  {
   "cell_type": "markdown",
   "metadata": {},
   "source": [
    "As you can see the vector for 'president' has changed a little bit and the word cloud should also be a bit different too"
   ]
  },
  {
   "cell_type": "code",
   "execution_count": null,
   "metadata": {
    "collapsed": true
   },
   "outputs": [],
   "source": [
    "pcaWords = sklearn.decomposition.PCA(n_components = 50).fit(wordsSubMatrix)\n",
    "reducedPCA_data = pcaWords.transform(wordsSubMatrix)\n",
    "#T-SNE is theoretically better, but you should experiment\n",
    "tsneWords = sklearn.manifold.TSNE(n_components = 2, early_exaggeration = 25).fit_transform(reducedPCA_data)"
   ]
  },
  {
   "cell_type": "code",
   "execution_count": null,
   "metadata": {
    "collapsed": true
   },
   "outputs": [],
   "source": [
    "fig = plt.figure(figsize = (15,10))\n",
    "ax = fig.add_subplot(111)\n",
    "ax.set_frame_on(False)\n",
    "plt.scatter(tsneWords[:, 0], tsneWords[:, 1], alpha = 0)#Making the points invisible \n",
    "for i, word in enumerate(targetWords):\n",
    "    ax.annotate(word, \n",
    "                (tsneWords[:, 0][i],tsneWords[:, 1][i]), \n",
    "                size =  20 * (numWords - i) / numWords, \n",
    "                alpha = .8 * (numWords - i) / numWords + .2)\n",
    "plt.xticks(())\n",
    "plt.yticks(())\n",
    "plt.show()"
   ]
  },
  {
   "cell_type": "markdown",
   "metadata": {},
   "source": [
    "Another thing to consider in training is how we know that our parameters for the model are correct. We can do this by looking at the training loss of the model. Let's tart by training a new model, but this time we will expose most of the options and train it one epoch at a time. Look [here](https://radimrehurek.com/gensim/models/word2vec.html#gensim.models.word2vec.Word2Vec) for more detail: "
   ]
  },
  {
   "cell_type": "code",
   "execution_count": null,
   "metadata": {
    "collapsed": true
   },
   "outputs": [],
   "source": [
    "senReleasesW2V_loss = gensim.models.word2vec.Word2Vec(size = 100, #dimensions\n",
    "                                                      alpha=0.025,\n",
    "                                                      window=5,\n",
    "                                                      min_count=5,\n",
    "                                                      hs=0,  #hierarchical softmax toggle\n",
    "                                                      compute_loss = True,\n",
    "                                                     )\n",
    "senReleasesW2V_loss.build_vocab(senReleasesDF['normalized_sents'].sum())\n",
    "senReleasesW2V_loss.train(senReleasesDF['normalized_sents'].sum(), \n",
    "                     total_examples=senReleasesW2V.corpus_count, \n",
    "                     epochs=1, #This the running_training_loss is a total so we have to do 1 epoch at a time\n",
    "                    )\n",
    "#Using a list so we can capture every epoch\n",
    "losses = [senReleasesW2V_loss.running_training_loss]\n",
    "losses[0]"
   ]
  },
  {
   "cell_type": "markdown",
   "metadata": {},
   "source": [
    "Now we have the training loss and can optimize training to minimize it."
   ]
  },
  {
   "cell_type": "code",
   "execution_count": null,
   "metadata": {
    "collapsed": true
   },
   "outputs": [],
   "source": [
    "for i in range(19):\n",
    "    senReleasesW2V_loss.train(senReleasesDF['normalized_sents'].sum(), \n",
    "                     total_examples=senReleasesW2V.corpus_count, \n",
    "                     epochs=1,\n",
    "                             )\n",
    "    losses.append(senReleasesW2V_loss.running_training_loss)\n",
    "    print(\"Done epoch {}\".format(i + 2), end = '\\r')"
   ]
  },
  {
   "cell_type": "markdown",
   "metadata": {},
   "source": [
    "Lets plot the loss vs epoch"
   ]
  },
  {
   "cell_type": "code",
   "execution_count": null,
   "metadata": {
    "collapsed": true
   },
   "outputs": [],
   "source": [
    "lossesDF = pandas.DataFrame({'loss' : losses, 'epoch' : range(len(losses))})\n",
    "lossesDF.plot(y = 'loss', x = 'epoch', logy=False, figsize=(15, 7))\n",
    "plt.show()"
   ]
  },
  {
   "cell_type": "markdown",
   "metadata": {},
   "source": [
    "You should see that the loss is almost monotonic, but that the rate decreases as epoch increases. Since we are testing on our training data monotonicity is a common result and we must try to avoid over fitting. A simple way to do this is to stop training when there is significant change in the rate of decrease. In this run, that looks to be approximately 8 or 9. If we were to do another analysis, we might use an `iter=9` instead of the default 5."
   ]
  },
  {
   "cell_type": "markdown",
   "metadata": {},
   "source": [
    "Even more culturally interesting is how many dimensions are required to achieve an optimal embedding. The use of words in complex ways and contradictory contexts will require more dimensions to represent them with integrity. For example, if one word, $w_a$, is \"nearby\" $w_b$, but $w_b$ is not near the other words beside $w_a$, then a new dimension will be required for the two words to be uniquely together. "
   ]
  },
  {
   "cell_type": "code",
   "execution_count": null,
   "metadata": {
    "collapsed": true
   },
   "outputs": [],
   "source": [
    "losses_dims=[]\n",
    "\n",
    "for d in [50,100,150,200,250,300,350,400,450,500, 550, 600, 650, 700, 750]:\n",
    "    senReleasesW2V_loss_dims = gensim.models.word2vec.Word2Vec(size = d, #dimensions\n",
    "                                                      alpha=0.025,\n",
    "                                                      window=5,\n",
    "                                                      min_count=5,\n",
    "                                                      hs=0,  #hierarchical softmax toggle\n",
    "                                                      compute_loss = True,\n",
    "                                                     )\n",
    "    senReleasesW2V_loss_dims.build_vocab(senReleasesDF['normalized_sents'].sum())\n",
    "    senReleasesW2V_loss_dims.train(senReleasesDF['normalized_sents'].sum(), \n",
    "                     total_examples=senReleasesW2V.corpus_count, \n",
    "                     epochs=7, #This the running_training_loss is a total so we have to do 1 epoch at a time\n",
    "                    )\n",
    "    senReleasesW2V_loss_dims.train(senReleasesDF['normalized_sents'].sum(), \n",
    "                     total_examples=senReleasesW2V.corpus_count, \n",
    "                     epochs=1, #This the running_training_loss is a total so we have to do 1 epoch at a time\n",
    "                    )\n",
    "    \n",
    "    losses_dims.append(senReleasesW2V_loss_dims.running_training_loss/(10+d*10))"
   ]
  },
  {
   "cell_type": "code",
   "execution_count": null,
   "metadata": {
    "collapsed": true
   },
   "outputs": [],
   "source": [
    "losses_dimsDF = pandas.DataFrame({'loss' : losses_dims, 'dimensions' : [50,100,150,200,250,300,350,400,450,500,550,600,650,700,750]})\n",
    "losses_dimsDF.plot(y = 'loss', x = 'dimensions', logy=False, figsize=(15, 7))\n",
    "plt.show()"
   ]
  },
  {
   "cell_type": "markdown",
   "metadata": {},
   "source": [
    "This is a work in progress for Gensim, but its clear that most of the word distance variation is captured by 300 dimensions."
   ]
  },
  {
   "cell_type": "markdown",
   "metadata": {},
   "source": [
    "# Chinese examples"
   ]
  },
  {
   "cell_type": "code",
   "execution_count": null,
   "metadata": {
    "collapsed": true
   },
   "outputs": [],
   "source": [
    "model=gensim.models.Word2Vec.load('../data/1992embeddings_hs_new3.sg')"
   ]
  },
  {
   "cell_type": "markdown",
   "metadata": {},
   "source": [
    "## analogy\n",
    "\n",
    "King+man-Queen? A few examples based on a corpus of Chinese news. \n",
    "\n",
    "First, location analogy: **province -> capital**"
   ]
  },
  {
   "cell_type": "code",
   "execution_count": null,
   "metadata": {
    "collapsed": true
   },
   "outputs": [],
   "source": [
    "mm = model.most_similar(positive=[u'长沙',u'陕西'], negative=[u'湖南']) # Changsha + Shaanxi - Hunan\n",
    "for m in mm:\n",
    "    print(m[0],m[1])\n",
    "    print(\"Xi'an\")\n",
    "    break"
   ]
  },
  {
   "cell_type": "code",
   "execution_count": null,
   "metadata": {
    "collapsed": true
   },
   "outputs": [],
   "source": [
    "mm = model.most_similar(positive=[u'广州',u'湖北'], negative=[u'广东']) # Guangzhou + Hubei - Guangdong\n",
    "for m in mm:\n",
    "    print(m[0],m[1])\n",
    "    print(\"Wuhan\")\n",
    "    break"
   ]
  },
  {
   "cell_type": "markdown",
   "metadata": {},
   "source": [
    "Second, location analogy: **country -> capital**"
   ]
  },
  {
   "cell_type": "code",
   "execution_count": null,
   "metadata": {
    "collapsed": true
   },
   "outputs": [],
   "source": [
    "mm = model.most_similar(positive=[u'东京',u'美国'], negative=[u'日本']) # Tokyo + US - Japan\n",
    "for m in mm:\n",
    "    print(m[0],m[1])\n",
    "    print(\"(Washington DC)\")\n",
    "    break"
   ]
  },
  {
   "cell_type": "markdown",
   "metadata": {},
   "source": [
    "## similar words"
   ]
  },
  {
   "cell_type": "code",
   "execution_count": null,
   "metadata": {
    "collapsed": true
   },
   "outputs": [],
   "source": [
    "word = u'社会主义'  #socialism\n",
    "ss = model.similar_by_word(word,topn=10)\n",
    "print(\"the most similar words to \" + word + \" is: \")\n",
    "for s in ss:\n",
    "    print(s[0])\n",
    "print(\"\")"
   ]
  },
  {
   "cell_type": "code",
   "execution_count": null,
   "metadata": {
    "collapsed": true
   },
   "outputs": [],
   "source": [
    "word = u'玉米'  # corn\n",
    "ss = model.similar_by_word(word,topn=10)\n",
    "print(\"the most similar words to \" + word + \" is: \")\n",
    "for s in ss:\n",
    "    print(s[0])\n",
    "print(\"\")"
   ]
  },
  {
   "cell_type": "markdown",
   "metadata": {},
   "source": [
    "## <span style=\"color:red\">*Exercise 1*</span>\n",
    "\n",
    "<span style=\"color:red\">Construct cells immediately below this that build a word2vec model with your corpus. Interrogate word relationships in the resulting space, including estimating 90% confidence intervals for specific word cosine distances of interest. Plot a subset of your words. What do these word relationships reveal about the *social* and *cultural game* underlying your corpus? What was surprising--what violated your prior understanding of the corpus? What was expected--what confirmed your knowledge about this domain?"
   ]
  },
  {
   "cell_type": "markdown",
   "metadata": {},
   "source": [
    "I will first import Amazon Reviews data, and create separate dataframes for each level of overall reviews in order to compare 1-star and 5-star reviews. Then, I will tokenize sentences and words."
   ]
  },
  {
   "cell_type": "code",
   "execution_count": 2,
   "metadata": {
    "collapsed": true
   },
   "outputs": [],
   "source": [
    "amazonRevDF = pandas.read_json('reviews_Grocery_and_Gourmet_Food_5.json',lines=True)\n",
    "amazonRev5DF = amazonRevDF[amazonRevDF.overall == 5]\n",
    "amazonRev4DF = amazonRevDF[amazonRevDF.overall == 4]\n",
    "amazonRev3DF = amazonRevDF[amazonRevDF.overall == 3]\n",
    "amazonRev2DF = amazonRevDF[amazonRevDF.overall == 2]\n",
    "amazonRev1DF = amazonRevDF[amazonRevDF.overall == 1]"
   ]
  },
  {
   "cell_type": "code",
   "execution_count": 3,
   "metadata": {},
   "outputs": [
    {
     "name": "stderr",
     "output_type": "stream",
     "text": [
      "/Users/arielazar/anaconda3/lib/python3.6/site-packages/ipykernel_launcher.py:2: SettingWithCopyWarning: \n",
      "A value is trying to be set on a copy of a slice from a DataFrame.\n",
      "Try using .loc[row_indexer,col_indexer] = value instead\n",
      "\n",
      "See the caveats in the documentation: http://pandas.pydata.org/pandas-docs/stable/indexing.html#indexing-view-versus-copy\n",
      "  \n",
      "/Users/arielazar/anaconda3/lib/python3.6/site-packages/ipykernel_launcher.py:4: SettingWithCopyWarning: \n",
      "A value is trying to be set on a copy of a slice from a DataFrame.\n",
      "Try using .loc[row_indexer,col_indexer] = value instead\n",
      "\n",
      "See the caveats in the documentation: http://pandas.pydata.org/pandas-docs/stable/indexing.html#indexing-view-versus-copy\n",
      "  after removing the cwd from sys.path.\n"
     ]
    }
   ],
   "source": [
    "#Apply our functions, notice each row is a list of lists now\n",
    "amazonRev5DF['tokenized_sents'] = amazonRev5DF['reviewText'].apply(lambda x: \n",
    "                                                               [nltk.word_tokenize(s) for s in nltk.sent_tokenize(x)])\n",
    "amazonRev5DF['normalized_sents'] = amazonRev5DF['tokenized_sents'].apply(lambda x: \n",
    "                                                                           [lucem_illud.normalizeTokens(s, \n",
    "                                                                                           stopwordLst = lucem_illud.stop_words_basic, \n",
    "                                                                                           stemmer = None) \n",
    "                                                                            for s in x])"
   ]
  },
  {
   "cell_type": "code",
   "execution_count": 4,
   "metadata": {},
   "outputs": [
    {
     "name": "stderr",
     "output_type": "stream",
     "text": [
      "/Users/arielazar/anaconda3/lib/python3.6/site-packages/ipykernel_launcher.py:2: SettingWithCopyWarning: \n",
      "A value is trying to be set on a copy of a slice from a DataFrame.\n",
      "Try using .loc[row_indexer,col_indexer] = value instead\n",
      "\n",
      "See the caveats in the documentation: http://pandas.pydata.org/pandas-docs/stable/indexing.html#indexing-view-versus-copy\n",
      "  \n",
      "/Users/arielazar/anaconda3/lib/python3.6/site-packages/ipykernel_launcher.py:4: SettingWithCopyWarning: \n",
      "A value is trying to be set on a copy of a slice from a DataFrame.\n",
      "Try using .loc[row_indexer,col_indexer] = value instead\n",
      "\n",
      "See the caveats in the documentation: http://pandas.pydata.org/pandas-docs/stable/indexing.html#indexing-view-versus-copy\n",
      "  after removing the cwd from sys.path.\n"
     ]
    }
   ],
   "source": [
    "#Apply our functions, notice each row is a list of lists now\n",
    "amazonRev1DF['tokenized_sents'] = amazonRev1DF['reviewText'].apply(lambda x: \n",
    "                                                               [nltk.word_tokenize(s) for s in nltk.sent_tokenize(x)])\n",
    "amazonRev1DF['normalized_sents'] = amazonRev1DF['tokenized_sents'].apply(lambda x: \n",
    "                                                                           [lucem_illud.normalizeTokens(s, \n",
    "                                                                                           stopwordLst = lucem_illud.stop_words_basic, \n",
    "                                                                                           stemmer = None) \n",
    "                                                                            for s in x])"
   ]
  },
  {
   "cell_type": "markdown",
   "metadata": {},
   "source": [
    "I will now create the vectors for each dataframe. This allows, for example, finding the most similar word to `bad` in each kind of reviews. For the 1-star reviews, the most similar word to `bad` is `good`, and for the 5-star reviews is `horrible`. It is also possible to calculate a confidence interval around the estimation of the distance between these two words. For instance, if we use a subsampling method, we obtain that for the 1-star reviews, the distance between 'bad' and 'good' goes, with a 90% confidence, between 0.69 and 0.70 and between 0.528 and 0.531 for the 5-star reviews. Does this mean that these two words are closer together in the 5-star reviews? Or are distances relative to the distances of each multidimensional space?"
   ]
  },
  {
   "cell_type": "code",
   "execution_count": 5,
   "metadata": {
    "collapsed": true
   },
   "outputs": [],
   "source": [
    "amazonRev1W2V = gensim.models.word2vec.Word2Vec(amazonRev1DF['normalized_sents'].sum())\n",
    "amazonRev5W2V = gensim.models.word2vec.Word2Vec(amazonRev5DF['normalized_sents'].sum())"
   ]
  },
  {
   "cell_type": "code",
   "execution_count": 6,
   "metadata": {},
   "outputs": [
    {
     "data": {
      "text/plain": [
       "[('awful', 0.967846155166626),\n",
       " ('good', 0.9639386534690857),\n",
       " ('horrible', 0.9632549285888672),\n",
       " ('really', 0.9578221440315247),\n",
       " ('terrible', 0.9547982215881348),\n",
       " ('stuff', 0.9487683176994324),\n",
       " ('anything', 0.9471521377563477),\n",
       " ('mouth', 0.9467371702194214),\n",
       " ('even', 0.9438493847846985),\n",
       " ('stale', 0.9326250553131104)]"
      ]
     },
     "execution_count": 6,
     "metadata": {},
     "output_type": "execute_result"
    }
   ],
   "source": [
    "amazonRev1W2V.most_similar('bad')"
   ]
  },
  {
   "cell_type": "code",
   "execution_count": 7,
   "metadata": {},
   "outputs": [
    {
     "data": {
      "text/plain": [
       "[('horrible', 0.641179621219635),\n",
       " ('terrible', 0.6252545118331909),\n",
       " ('awful', 0.6024072766304016),\n",
       " ('gross', 0.5872551798820496),\n",
       " ('missing', 0.5725046992301941),\n",
       " ('ok', 0.5498487949371338),\n",
       " ('funny', 0.5455687642097473),\n",
       " ('odd', 0.5387909412384033),\n",
       " ('okay', 0.5344593524932861),\n",
       " ('weird', 0.5342323780059814)]"
      ]
     },
     "execution_count": 7,
     "metadata": {},
     "output_type": "execute_result"
    }
   ],
   "source": [
    "amazonRev5W2V.most_similar('bad')"
   ]
  },
  {
   "cell_type": "code",
   "execution_count": 8,
   "metadata": {},
   "outputs": [
    {
     "data": {
      "text/plain": [
       "[('stuff', 0.977602481842041),\n",
       " ('anything', 0.9739663004875183),\n",
       " ('really', 0.9681802988052368),\n",
       " ('great', 0.9680284857749939),\n",
       " ('terrible', 0.9656561017036438),\n",
       " ('think', 0.9641151428222656),\n",
       " ('bad', 0.9639386534690857),\n",
       " ('might', 0.9634861946105957),\n",
       " ('something', 0.9634268283843994),\n",
       " ('horrible', 0.9608511924743652)]"
      ]
     },
     "execution_count": 8,
     "metadata": {},
     "output_type": "execute_result"
    }
   ],
   "source": [
    "amazonRev1W2V.most_similar('good')"
   ]
  },
  {
   "cell_type": "code",
   "execution_count": 9,
   "metadata": {},
   "outputs": [
    {
     "data": {
      "text/plain": [
       "[('great', 0.7888773679733276),\n",
       " ('excellent', 0.6768348217010498),\n",
       " ('fantastic', 0.6753818988800049),\n",
       " ('decent', 0.6725761294364929),\n",
       " ('awesome', 0.6639605760574341),\n",
       " ('terrific', 0.6526155471801758),\n",
       " ('amazing', 0.5844948291778564),\n",
       " ('fabulous', 0.5643290281295776),\n",
       " ('nice', 0.5617702603340149),\n",
       " ('wonderful', 0.5485885143280029)]"
      ]
     },
     "execution_count": 9,
     "metadata": {},
     "output_type": "execute_result"
    }
   ],
   "source": [
    "amazonRev5W2V.most_similar('good')"
   ]
  },
  {
   "cell_type": "code",
   "execution_count": 10,
   "metadata": {},
   "outputs": [
    {
     "data": {
      "text/plain": [
       "'awful'"
      ]
     },
     "execution_count": 10,
     "metadata": {},
     "output_type": "execute_result"
    }
   ],
   "source": [
    "amazonRev5W2V.doesnt_match(['good', 'excellent', 'awesome', 'wonderfuk', 'awful'])"
   ]
  },
  {
   "cell_type": "code",
   "execution_count": 11,
   "metadata": {},
   "outputs": [
    {
     "data": {
      "text/plain": [
       "[('awful', 0.9465963244438171),\n",
       " ('really', 0.9365971684455872),\n",
       " ('horrible', 0.9322388768196106),\n",
       " ('mouth', 0.9192804098129272),\n",
       " ('tasted', 0.9138087630271912),\n",
       " ('smell', 0.9063174724578857),\n",
       " ('tasting', 0.9008045196533203),\n",
       " ('taste', 0.9001463651657104),\n",
       " ('terrible', 0.8983915448188782),\n",
       " ('like', 0.8967351317405701)]"
      ]
     },
     "execution_count": 11,
     "metadata": {},
     "output_type": "execute_result"
    }
   ],
   "source": [
    "amazonRev1W2V.most_similar(positive=['good', 'bad'], negative = ['great'])"
   ]
  },
  {
   "cell_type": "code",
   "execution_count": 12,
   "metadata": {},
   "outputs": [
    {
     "data": {
      "text/plain": [
       "[('awful', 0.5956345796585083),\n",
       " ('gross', 0.5886902809143066),\n",
       " ('ok', 0.573981523513794),\n",
       " ('mean', 0.5587108135223389),\n",
       " ('missing', 0.5520423650741577),\n",
       " ('terrible', 0.5244699120521545),\n",
       " ('okay', 0.5207077860832214),\n",
       " ('horrible', 0.5206975936889648),\n",
       " ('odd', 0.5165087580680847),\n",
       " ('funny', 0.5125505924224854)]"
      ]
     },
     "execution_count": 12,
     "metadata": {},
     "output_type": "execute_result"
    }
   ],
   "source": [
    "amazonRev5W2V.most_similar(positive=['good', 'bad'], negative = ['great'])"
   ]
  },
  {
   "cell_type": "code",
   "execution_count": 15,
   "metadata": {},
   "outputs": [
    {
     "name": "stdout",
     "output_type": "stream",
     "text": [
      "[0.9997797  0.99970061 0.9997471  0.99980706 0.99978065 0.99979103\n",
      " 0.99974555 0.99970168 0.99980235 0.99974781]\n",
      "[581. 560. 584. 594. 590. 585. 542. 561. 602. 580.]\n"
     ]
    }
   ],
   "source": [
    "n_samples1 = 10\n",
    "sample_indices1 = np.random.randint(0,n_samples1,(len(amazonRev1DF),))\n",
    "\n",
    "s_k1 =np.array([])\n",
    "tau_k1=np.array([])\n",
    "\n",
    "for i in range(n_samples1):\n",
    "    sample_w2v1 = gensim.models.word2vec.Word2Vec(amazonRev1DF[sample_indices1 == i]['normalized_sents'].sum())\n",
    "    try:\n",
    "        #Need to use words present in most samples\n",
    "        s_k1 = np.append(s_k1, cos_difference(sample_w2v1, 'good', 'bad')[0,0])\n",
    "    except KeyError:\n",
    "        pass\n",
    "    else:\n",
    "        tau_k1 = np.append(tau_k1, len(amazonRev1DF[sample_indices1 == i]))\n",
    "\n",
    "print(s_k1)\n",
    "print(tau_k1)\n",
    "\n",
    "tau1 = tau_k1.sum()\n",
    "s1 = s_k1.mean()\n",
    "B_k1 = np.sqrt(tau_k1) * s_k1-s_k1.mean()"
   ]
  },
  {
   "cell_type": "code",
   "execution_count": 16,
   "metadata": {},
   "outputs": [
    {
     "name": "stdout",
     "output_type": "stream",
     "text": [
      "The 90% confidence interval for the cosine distance between good and bad for the 1-star reviews is:\n",
      " 0.690221275222324 0.7017130894544505\n"
     ]
    }
   ],
   "source": [
    "print(\"The 90% confidence interval for the cosine distance between good and bad for the 1-star reviews is:\\n\",s1-B_k1[-2]/np.sqrt(tau1), s1-B_k1[1]/np.sqrt(tau1))"
   ]
  },
  {
   "cell_type": "code",
   "execution_count": 17,
   "metadata": {},
   "outputs": [
    {
     "name": "stdout",
     "output_type": "stream",
     "text": [
      "[0.71608418 0.79888272 0.81669283 0.75836039 0.75293744 0.74727333\n",
      " 0.80639136 0.79202497 0.81255305 0.81435841]\n",
      "[8772. 8778. 8919. 8655. 8757. 8795. 8741. 8739. 8655. 8635.]\n"
     ]
    }
   ],
   "source": [
    "n_samples5 = 10\n",
    "sample_indices5 = np.random.randint(0,n_samples5,(len(amazonRev5DF),))\n",
    "\n",
    "s_k5 =np.array([])\n",
    "tau_k5=np.array([])\n",
    "\n",
    "for i in range(n_samples5):\n",
    "    sample_w2v5 = gensim.models.word2vec.Word2Vec(amazonRev5DF[sample_indices5 == i]['normalized_sents'].sum())\n",
    "    try:\n",
    "        #Need to use words present in most samples\n",
    "        s_k5 = np.append(s_k5, cos_difference(sample_w2v5, 'good', 'bad')[0,0])\n",
    "    except KeyError:\n",
    "        pass\n",
    "    else:\n",
    "        tau_k5 = np.append(tau_k5, len(amazonRev5DF[sample_indices5 == i]))\n",
    "\n",
    "print(s_k5)\n",
    "print(tau_k5)\n",
    "\n",
    "tau5 = tau_k5.sum()\n",
    "s5 = s_k5.mean()\n",
    "B_k5 = np.sqrt(tau_k5) * s_k5-s_k5.mean()"
   ]
  },
  {
   "cell_type": "code",
   "execution_count": 18,
   "metadata": {},
   "outputs": [
    {
     "name": "stdout",
     "output_type": "stream",
     "text": [
      "The 90% confidence interval for the cosine distance between good and bad for the 5-star reviews is:\n",
      " 0.5285667840198948 0.5310879269357278\n"
     ]
    }
   ],
   "source": [
    "print(\"The 90% confidence interval for the cosine distance between good and bad for the 5-star reviews is:\\n\",s5-B_k5[-2]/np.sqrt(tau5), s5-B_k5[1]/np.sqrt(tau5))"
   ]
  },
  {
   "cell_type": "markdown",
   "metadata": {},
   "source": [
    "I will now select a subset of 150 words for each corpus in order to show their distances in a reduced two-dimensional space. I can see, for example, that for the 1-star reviews words such as `good` and `bad` appear close nouns, while words like `flavor` and `taste` are close to words like `sweet` and `sugar`. It is interesting to see that for the 5-star reviews, the spatial distribution of words is very similar. This might suggest that the way people write revies does not heavily depend on the type of review they are doing (wheter it is good or bad). "
   ]
  },
  {
   "cell_type": "code",
   "execution_count": 19,
   "metadata": {},
   "outputs": [
    {
     "data": {
      "image/png": "[encoded data removed]",
      "text/plain": [
       "<matplotlib.figure.Figure at 0x11910c320>"
      ]
     },
     "metadata": {},
     "output_type": "display_data"
    }
   ],
   "source": [
    "numWords = 150\n",
    "targetWords = amazonRev1W2V.wv.index2word[:numWords]\n",
    "wordsSubMatrix = []\n",
    "for word in targetWords:\n",
    "    wordsSubMatrix.append(amazonRev1W2V[word])\n",
    "wordsSubMatrix = np.array(wordsSubMatrix)\n",
    "pcaWords = sklearn.decomposition.PCA(n_components = 50).fit(wordsSubMatrix)\n",
    "reducedPCA_data = pcaWords.transform(wordsSubMatrix)\n",
    "#T-SNE is theoretically better, but you should experiment\n",
    "tsneWords = sklearn.manifold.TSNE(n_components = 2, early_exaggeration = 25).fit_transform(reducedPCA_data)\n",
    "fig = plt.figure(figsize = (15,10))\n",
    "ax = fig.add_subplot(111)\n",
    "ax.set_frame_on(False)\n",
    "plt.scatter(tsneWords[:, 0], tsneWords[:, 1], alpha = 0)#Making the points invisible \n",
    "for i, word in enumerate(targetWords):\n",
    "    ax.annotate(word, \n",
    "                (tsneWords[:, 0][i],tsneWords[:, 1][i]), \n",
    "                size =  20 * (numWords - i) / numWords, \n",
    "                alpha = .8 * (numWords - i) / numWords + .2)\n",
    "plt.xticks(())\n",
    "plt.yticks(())\n",
    "plt.show()"
   ]
  },
  {
   "cell_type": "code",
   "execution_count": 21,
   "metadata": {},
   "outputs": [
    {
     "data": {
      "image/png": "[encoded data removed]",
      "text/plain": [
       "<matplotlib.figure.Figure at 0x1191280b8>"
      ]
     },
     "metadata": {},
     "output_type": "display_data"
    }
   ],
   "source": [
    "numWords = 150\n",
    "targetWords = amazonRev1W2V.wv.index2word[:numWords]\n",
    "wordsSubMatrix = []\n",
    "for word in targetWords:\n",
    "    wordsSubMatrix.append(amazonRev5W2V[word])\n",
    "wordsSubMatrix = np.array(wordsSubMatrix)\n",
    "pcaWords = sklearn.decomposition.PCA(n_components = 50).fit(wordsSubMatrix)\n",
    "reducedPCA_data = pcaWords.transform(wordsSubMatrix)\n",
    "#T-SNE is theoretically better, but you should experiment\n",
    "tsneWords = sklearn.manifold.TSNE(n_components = 2, early_exaggeration = 25).fit_transform(reducedPCA_data)\n",
    "fig = plt.figure(figsize = (15,10))\n",
    "ax = fig.add_subplot(111)\n",
    "ax.set_frame_on(False)\n",
    "plt.scatter(tsneWords[:, 0], tsneWords[:, 1], alpha = 0)#Making the points invisible \n",
    "for i, word in enumerate(targetWords):\n",
    "    ax.annotate(word, \n",
    "                (tsneWords[:, 0][i],tsneWords[:, 1][i]), \n",
    "                size =  20 * (numWords - i) / numWords, \n",
    "                alpha = .8 * (numWords - i) / numWords + .2)\n",
    "plt.xticks(())\n",
    "plt.yticks(())\n",
    "plt.show()"
   ]
  },
  {
   "cell_type": "markdown",
   "metadata": {},
   "source": [
    "# Doc2Vec"
   ]
  },
  {
   "cell_type": "markdown",
   "metadata": {
    "collapsed": true
   },
   "source": [
    "Instead of just looking at just how words embed within in the space, we can look at how the different documents relate to each other within the space. First lets load our data--abstracts of most U.S. physics papers from the 1950s."
   ]
  },
  {
   "cell_type": "code",
   "execution_count": 420,
   "metadata": {},
   "outputs": [
    {
     "data": {
      "text/html": [
       "<div>\n",
       "<style scoped>\n",
       "    .dataframe tbody tr th:only-of-type {\n",
       "        vertical-align: middle;\n",
       "    }\n",
       "\n",
       "    .dataframe tbody tr th {\n",
       "        vertical-align: top;\n",
       "    }\n",
       "\n",
       "    .dataframe thead th {\n",
       "        text-align: right;\n",
       "    }\n",
       "</style>\n",
       "<table border=\"1\" class=\"dataframe\">\n",
       "  <thead>\n",
       "    <tr style=\"text-align: right;\">\n",
       "      <th></th>\n",
       "      <th>copyrightYear</th>\n",
       "      <th>doi</th>\n",
       "      <th>abstract</th>\n",
       "    </tr>\n",
       "  </thead>\n",
       "  <tbody>\n",
       "    <tr>\n",
       "      <th>0</th>\n",
       "      <td>1950</td>\n",
       "      <td>10.1103/RevModPhys.22.221</td>\n",
       "      <td>A summarizing account is given of the research...</td>\n",
       "    </tr>\n",
       "    <tr>\n",
       "      <th>1</th>\n",
       "      <td>1951</td>\n",
       "      <td>10.1103/RevModPhys.23.147</td>\n",
       "      <td>New tables of coulomb functions are presented ...</td>\n",
       "    </tr>\n",
       "    <tr>\n",
       "      <th>2</th>\n",
       "      <td>1951</td>\n",
       "      <td>10.1103/RevModPhys.23.185</td>\n",
       "      <td>Ionization by electron impact in diatomic gase...</td>\n",
       "    </tr>\n",
       "    <tr>\n",
       "      <th>3</th>\n",
       "      <td>1951</td>\n",
       "      <td>10.1103/RevModPhys.23.203</td>\n",
       "      <td>It is shown that the conductivity in the ohmic...</td>\n",
       "    </tr>\n",
       "    <tr>\n",
       "      <th>4</th>\n",
       "      <td>1951</td>\n",
       "      <td>10.1103/RevModPhys.23.21</td>\n",
       "      <td>The factorization method is an operational pro...</td>\n",
       "    </tr>\n",
       "    <tr>\n",
       "      <th>5</th>\n",
       "      <td>1951</td>\n",
       "      <td>10.1103/RevModPhys.23.311</td>\n",
       "      <td>A brief account is given of Dyson's proof of t...</td>\n",
       "    </tr>\n",
       "    <tr>\n",
       "      <th>6</th>\n",
       "      <td>1951</td>\n",
       "      <td>10.1103/RevModPhys.23.315</td>\n",
       "      <td>A systematics is given of all transitions for ...</td>\n",
       "    </tr>\n",
       "    <tr>\n",
       "      <th>7</th>\n",
       "      <td>1951</td>\n",
       "      <td>10.1103/RevModPhys.23.322</td>\n",
       "      <td>A systematics of the -transitions of even A nu...</td>\n",
       "    </tr>\n",
       "    <tr>\n",
       "      <th>8</th>\n",
       "      <td>1951</td>\n",
       "      <td>10.1103/RevModPhys.23.328</td>\n",
       "      <td>The available experiments on the absorption sp...</td>\n",
       "    </tr>\n",
       "    <tr>\n",
       "      <th>9</th>\n",
       "      <td>1952</td>\n",
       "      <td>10.1103/RevModPhys.24.108</td>\n",
       "      <td>The classical theory of the dynamics of viscou...</td>\n",
       "    </tr>\n",
       "  </tbody>\n",
       "</table>\n",
       "</div>"
      ],
      "text/plain": [
       "   copyrightYear                        doi  \\\n",
       "0           1950  10.1103/RevModPhys.22.221   \n",
       "1           1951  10.1103/RevModPhys.23.147   \n",
       "2           1951  10.1103/RevModPhys.23.185   \n",
       "3           1951  10.1103/RevModPhys.23.203   \n",
       "4           1951   10.1103/RevModPhys.23.21   \n",
       "5           1951  10.1103/RevModPhys.23.311   \n",
       "6           1951  10.1103/RevModPhys.23.315   \n",
       "7           1951  10.1103/RevModPhys.23.322   \n",
       "8           1951  10.1103/RevModPhys.23.328   \n",
       "9           1952  10.1103/RevModPhys.24.108   \n",
       "\n",
       "                                            abstract  \n",
       "0  A summarizing account is given of the research...  \n",
       "1  New tables of coulomb functions are presented ...  \n",
       "2  Ionization by electron impact in diatomic gase...  \n",
       "3  It is shown that the conductivity in the ohmic...  \n",
       "4  The factorization method is an operational pro...  \n",
       "5  A brief account is given of Dyson's proof of t...  \n",
       "6  A systematics is given of all transitions for ...  \n",
       "7  A systematics of the -transitions of even A nu...  \n",
       "8  The available experiments on the absorption sp...  \n",
       "9  The classical theory of the dynamics of viscou...  "
      ]
     },
     "execution_count": 420,
     "metadata": {},
     "output_type": "execute_result"
    }
   ],
   "source": [
    "apsDF = pandas.read_csv('APSabstracts1950s.csv', index_col = 0)\n",
    "apsDF[:10]"
   ]
  },
  {
   "cell_type": "markdown",
   "metadata": {},
   "source": [
    "We will load these as documents into Word2Vec, but first we need to normalize and pick some tags"
   ]
  },
  {
   "cell_type": "code",
   "execution_count": 421,
   "metadata": {
    "collapsed": true
   },
   "outputs": [],
   "source": [
    "keywords = ['photomagnetoelectric', 'quantum', 'boltzmann', 'proton', 'positron', 'feynman', 'classical', 'relativity']"
   ]
  },
  {
   "cell_type": "code",
   "execution_count": 422,
   "metadata": {
    "collapsed": true
   },
   "outputs": [],
   "source": [
    "apsDF['tokenized_words'] = apsDF['abstract'].apply(lambda x: nltk.word_tokenize(x))\n",
    "apsDF['normalized_words'] = apsDF['tokenized_words'].apply(lambda x: lucem_illud.normalizeTokens(x, stopwordLst = lucem_illud.stop_words_basic, stemmer = None))"
   ]
  },
  {
   "cell_type": "code",
   "execution_count": 423,
   "metadata": {
    "collapsed": true
   },
   "outputs": [],
   "source": [
    "taggedDocs = []\n",
    "for index, row in apsDF.iterrows():\n",
    "    #Just doing a simple keyword assignment\n",
    "    docKeywords = [s for s in keywords if s in row['normalized_words']]\n",
    "    docKeywords.append(row['copyrightYear'])\n",
    "    docKeywords.append(row['doi']) #This lets us extract individual documnets since doi's are unique\n",
    "    taggedDocs.append(gensim.models.doc2vec.LabeledSentence(words = row['normalized_words'], tags = docKeywords))\n",
    "apsDF['TaggedAbstracts'] = taggedDocs"
   ]
  },
  {
   "cell_type": "markdown",
   "metadata": {},
   "source": [
    "Now we can train a Doc2Vec model:"
   ]
  },
  {
   "cell_type": "code",
   "execution_count": 424,
   "metadata": {
    "collapsed": true
   },
   "outputs": [],
   "source": [
    "apsD2V = gensim.models.doc2vec.Doc2Vec(apsDF['TaggedAbstracts'], size = 100) #Limiting to 100 dimensions"
   ]
  },
  {
   "cell_type": "markdown",
   "metadata": {},
   "source": [
    "We can get vectors for the tags/documents, just as we did with words. Documents are actually the centroids (high dimensional average points) of their words. "
   ]
  },
  {
   "cell_type": "code",
   "execution_count": 425,
   "metadata": {
    "scrolled": true
   },
   "outputs": [
    {
     "data": {
      "text/plain": [
       "array([ 0.73346984, -0.13325274, -0.06302337,  1.231637  , -1.2313054 ,\n",
       "        0.4168763 ,  0.643582  , -0.4491875 , -1.6653268 , -0.80638176,\n",
       "       -0.46863022,  1.7561258 , -0.17253369, -1.0576084 , -0.40470076,\n",
       "       -1.2811414 , -0.31585503, -0.06562977, -0.9014394 , -0.7942742 ,\n",
       "       -0.67845184,  1.4076664 ,  1.5227653 ,  1.3671234 ,  0.37329206,\n",
       "        0.07577804,  0.07679775,  0.7170996 , -0.52424663,  1.4658972 ,\n",
       "        0.88175094, -0.18718502,  0.9538433 , -0.14668554, -0.25636065,\n",
       "       -0.636192  ,  0.3104981 , -0.45533904, -0.72953045, -0.23121905,\n",
       "        0.33618367, -0.03105002, -0.3161761 , -0.02990106, -0.16141327,\n",
       "       -0.4348071 ,  0.9703629 ,  1.3136618 ,  0.86023384,  1.5384426 ,\n",
       "       -1.602061  , -0.6699388 , -1.3765596 , -0.64693314,  1.5389695 ,\n",
       "       -0.6603671 , -0.9598561 , -0.0059782 ,  0.00950028,  0.5280418 ,\n",
       "        0.4280107 , -0.17289518,  0.7612877 , -1.2143269 ,  0.37865853,\n",
       "       -0.36944506,  1.3616266 , -0.5374898 ,  0.3683463 , -1.5171258 ,\n",
       "        1.5956641 ,  0.5301522 ,  0.70651793,  0.43930307, -0.31935844,\n",
       "       -0.1868966 , -0.93383735,  1.134578  , -1.4862881 ,  0.9038583 ,\n",
       "        1.219671  ,  1.5539618 , -0.8144448 ,  0.05726785,  1.1523832 ,\n",
       "       -0.3086232 ,  0.6752133 , -1.1095598 ,  1.5229354 ,  1.3287047 ,\n",
       "        0.4992201 ,  0.81834656,  1.1864729 ,  1.4625905 , -0.74818677,\n",
       "        1.5908318 , -0.30470926, -0.93499947, -1.1222681 , -0.4866147 ],\n",
       "      dtype=float32)"
      ]
     },
     "execution_count": 425,
     "metadata": {},
     "output_type": "execute_result"
    }
   ],
   "source": [
    "apsD2V.docvecs[1952]"
   ]
  },
  {
   "cell_type": "markdown",
   "metadata": {},
   "source": [
    "The words can still be accessed in the same way:"
   ]
  },
  {
   "cell_type": "code",
   "execution_count": 426,
   "metadata": {},
   "outputs": [
    {
     "data": {
      "text/plain": [
       "array([-0.64295995, -0.2500468 , -0.23467462, -0.21275388,  0.6337157 ,\n",
       "        0.0293543 , -0.54436064, -0.99344474, -0.80255276, -0.50808734,\n",
       "        0.19864476,  0.81891   ,  0.30804932, -0.88630295, -0.29641688,\n",
       "        0.08500616,  0.5263936 ,  0.47387582,  0.22711095, -0.30012205,\n",
       "       -0.3993079 ,  0.11863466,  0.6414395 ,  0.68267375, -0.4639147 ,\n",
       "       -0.37130567, -0.64098144,  0.33128244,  0.177667  , -0.15493275,\n",
       "        0.68911004,  0.3644851 ,  0.48302564, -0.05340426,  0.33482692,\n",
       "       -0.6113427 ,  0.16273624,  0.61031157, -0.04309829,  0.3152845 ,\n",
       "       -0.87016326,  0.21978936, -0.52189106, -0.7750558 ,  0.28699753,\n",
       "        0.78917307, -0.42193592,  0.5581512 ,  0.70162475,  0.24896544,\n",
       "       -0.89374864, -0.13331969, -0.9373966 , -0.2895503 ,  1.0128361 ,\n",
       "       -0.6482408 , -0.2728868 ,  0.44462383,  0.9496401 ,  0.48471564,\n",
       "       -0.07062526,  0.58945084, -0.5583193 , -0.7186154 , -0.22396271,\n",
       "       -0.6973401 ,  0.03279728, -0.6148551 ,  0.26685983, -0.7700152 ,\n",
       "        0.59072524,  0.04631723, -0.11728531, -0.3540878 , -0.08424452,\n",
       "       -0.52595407, -0.8338617 , -0.08233306,  0.3844123 ,  0.40563217,\n",
       "       -0.3969798 , -0.48828155,  0.05491441, -0.38201204, -0.40255693,\n",
       "        0.12590766, -0.06389967, -0.9685562 ,  1.2246261 ,  0.17405683,\n",
       "        0.4843265 ,  0.43311054,  0.47130617,  0.44430104, -0.09291745,\n",
       "        0.6898782 ,  0.50210977, -0.04542089, -1.0805827 ,  0.20733348],\n",
       "      dtype=float32)"
      ]
     },
     "execution_count": 426,
     "metadata": {},
     "output_type": "execute_result"
    }
   ],
   "source": [
    "apsD2V['atom']"
   ]
  },
  {
   "cell_type": "markdown",
   "metadata": {},
   "source": [
    "We can still use the ``most_similar`` command to perform simple semantic equations:"
   ]
  },
  {
   "cell_type": "code",
   "execution_count": 427,
   "metadata": {},
   "outputs": [
    {
     "data": {
      "text/plain": [
       "[('creating', 0.7902812361717224)]"
      ]
     },
     "execution_count": 427,
     "metadata": {},
     "output_type": "execute_result"
    }
   ],
   "source": [
    "apsD2V.most_similar(positive = ['atom','electrons'], negative = ['electron'], topn = 1)"
   ]
  },
  {
   "cell_type": "markdown",
   "metadata": {},
   "source": [
    "This is interesting. **Electron** is to **electrons** as **atom** is to **atoms**. Another way to understand this, developed below is: **electrons - electron** induces a singular to plural dimension, so when we subtract **electron** from **atom** and add **electrons**, we get **atoms**! "
   ]
  },
  {
   "cell_type": "code",
   "execution_count": 428,
   "metadata": {},
   "outputs": [
    {
     "data": {
      "text/plain": [
       "[('herring', 0.9370138645172119)]"
      ]
     },
     "execution_count": 428,
     "metadata": {},
     "output_type": "execute_result"
    }
   ],
   "source": [
    "apsD2V.most_similar(positive = ['einstein','law'], negative = ['equation'], topn = 1)"
   ]
  },
  {
   "cell_type": "markdown",
   "metadata": {},
   "source": [
    "In other words **Einstein** minus **equation** plus **law** equals **Meissner**--Walthur Meissner studied mechanical engineering and physics ... and was more likely to produce a \"law\" than a \"equation\", like the Meissner effect, the damping of the magnetic field in superconductors. If we built our word-embedding with a bigger corpus like the entire arXiv, a massive repository of physics preprints, we would see many more such relationships like **gravity - Newton + Einstein = relativity**."
   ]
  },
  {
   "cell_type": "markdown",
   "metadata": {},
   "source": [
    "We can also compute all of these *by hand*--explicitly wth vector algebra: "
   ]
  },
  {
   "cell_type": "code",
   "execution_count": 429,
   "metadata": {},
   "outputs": [
    {
     "data": {
      "text/plain": [
       "array([[0.5817923]], dtype=float32)"
      ]
     },
     "execution_count": 429,
     "metadata": {},
     "output_type": "execute_result"
    }
   ],
   "source": [
    "sklearn.metrics.pairwise.cosine_similarity(apsD2V['electron'].reshape(1,-1), apsD2V['positron'].reshape(1,-1))\n",
    "#We reorient the vectors with .reshape(1, -1) so that they can be computed without a warning in sklearn"
   ]
  },
  {
   "cell_type": "markdown",
   "metadata": {},
   "source": [
    "In the doc2vec model, the documents have vectors just as the words do, so that we can compare documents with each other and also with words (similar to how a search engine locates a webpage with a query). First, we will calculate the distance between a word and documents in the dataset:"
   ]
  },
  {
   "cell_type": "code",
   "execution_count": 430,
   "metadata": {},
   "outputs": [
    {
     "data": {
      "text/plain": [
       "[('10.1103/PhysRev.100.1646', 0.6768751740455627),\n",
       " ('10.1103/PhysRev.112.812', 0.6133017539978027),\n",
       " ('10.1103/PhysRev.109.1537', 0.6123897433280945),\n",
       " ('10.1103/PhysRev.84.621', 0.6019729375839233),\n",
       " ('10.1103/PhysRev.98.1584', 0.594475507736206)]"
      ]
     },
     "execution_count": 430,
     "metadata": {},
     "output_type": "execute_result"
    }
   ],
   "source": [
    "apsD2V.docvecs.most_similar([ apsD2V['electron'] ], topn=5 )"
   ]
  },
  {
   "cell_type": "markdown",
   "metadata": {},
   "source": [
    "If we search for the first of these on the web (these are doi codes), we find the following...a pretty good match:\n",
    "<img src='../data/PhysRev.98.875.jpg'>"
   ]
  },
  {
   "cell_type": "markdown",
   "metadata": {},
   "source": [
    "Now let's go the other way around and find words most similar to this document:"
   ]
  },
  {
   "cell_type": "code",
   "execution_count": 431,
   "metadata": {},
   "outputs": [
    {
     "data": {
      "text/plain": [
       "[('opposing', 0.7272302508354187),\n",
       " ('larmor', 0.7204463481903076),\n",
       " ('electric', 0.6952329874038696),\n",
       " ('demagnetizing', 0.6847338080406189),\n",
       " ('magnetocrystalline', 0.6798843741416931)]"
      ]
     },
     "execution_count": 431,
     "metadata": {},
     "output_type": "execute_result"
    }
   ],
   "source": [
    "apsD2V.most_similar( [ apsD2V.docvecs['10.1103/PhysRev.98.875'] ], topn=5) "
   ]
  },
  {
   "cell_type": "markdown",
   "metadata": {},
   "source": [
    "We can even look for documents most like a query composed of multiple words:"
   ]
  },
  {
   "cell_type": "code",
   "execution_count": 432,
   "metadata": {},
   "outputs": [
    {
     "data": {
      "text/plain": [
       "[('10.1103/PhysRev.85.1012', 0.7946352958679199),\n",
       " ('10.1103/PhysRev.85.120', 0.7819576859474182),\n",
       " ('10.1103/PhysRev.113.156', 0.7710117101669312),\n",
       " ('10.1103/PhysRev.89.1165', 0.7620069980621338),\n",
       " ('10.1103/PhysRev.109.1193', 0.7531558275222778)]"
      ]
     },
     "execution_count": 432,
     "metadata": {},
     "output_type": "execute_result"
    }
   ],
   "source": [
    "apsD2V.docvecs.most_similar([ apsD2V['electron']+apsD2V['positron']+apsD2V['neutron']], topn=5 )"
   ]
  },
  {
   "cell_type": "markdown",
   "metadata": {},
   "source": [
    "Now let's plot some words and documents against one another with a heatmap:"
   ]
  },
  {
   "cell_type": "code",
   "execution_count": 433,
   "metadata": {
    "collapsed": true
   },
   "outputs": [],
   "source": [
    "heatmapMatrix = []\n",
    "for tagOuter in keywords:\n",
    "    column = []\n",
    "    tagVec = apsD2V.docvecs[tagOuter].reshape(1, -1)\n",
    "    for tagInner in keywords:\n",
    "        column.append(sklearn.metrics.pairwise.cosine_similarity(tagVec, apsD2V.docvecs[tagInner].reshape(1, -1))[0][0])\n",
    "    heatmapMatrix.append(column)\n",
    "heatmapMatrix = np.array(heatmapMatrix)"
   ]
  },
  {
   "cell_type": "code",
   "execution_count": 434,
   "metadata": {},
   "outputs": [
    {
     "data": {
      "image/png": "[encoded data removed]",
      "text/plain": [
       "<matplotlib.figure.Figure at 0x1ce893710>"
      ]
     },
     "metadata": {},
     "output_type": "display_data"
    }
   ],
   "source": [
    "fig, ax = plt.subplots()\n",
    "hmap = ax.pcolor(heatmapMatrix, cmap='terrain')\n",
    "cbar = plt.colorbar(hmap)\n",
    "\n",
    "cbar.set_label('cosine similarity', rotation=270)\n",
    "a = ax.set_xticks(np.arange(heatmapMatrix.shape[1]) + 0.5, minor=False)\n",
    "a = ax.set_yticks(np.arange(heatmapMatrix.shape[0]) + 0.5, minor=False)\n",
    "\n",
    "a = ax.set_xticklabels(keywords, minor=False, rotation=270)\n",
    "a = ax.set_yticklabels(keywords, minor=False)"
   ]
  },
  {
   "cell_type": "markdown",
   "metadata": {},
   "source": [
    "Now let's look at a heatmap of similarities between the first ten documents in the corpus:"
   ]
  },
  {
   "cell_type": "code",
   "execution_count": 189,
   "metadata": {
    "collapsed": true
   },
   "outputs": [],
   "source": [
    "targetDocs = apsDF['doi'][:10]\n",
    "\n",
    "heatmapMatrixD = []\n",
    "\n",
    "for tagOuter in targetDocs:\n",
    "    column = []\n",
    "    tagVec = apsD2V.docvecs[tagOuter].reshape(1, -1)\n",
    "    for tagInner in targetDocs:\n",
    "        column.append(sklearn.metrics.pairwise.cosine_similarity(tagVec, apsD2V.docvecs[tagInner].reshape(1, -1))[0][0])\n",
    "    heatmapMatrixD.append(column)\n",
    "heatmapMatrixD = np.array(heatmapMatrixD)"
   ]
  },
  {
   "cell_type": "code",
   "execution_count": 190,
   "metadata": {},
   "outputs": [
    {
     "data": {
      "image/png": "[encoded data removed]",
      "text/plain": [
       "<matplotlib.figure.Figure at 0x152d128d0>"
      ]
     },
     "metadata": {},
     "output_type": "display_data"
    }
   ],
   "source": [
    "fig, ax = plt.subplots()\n",
    "hmap = ax.pcolor(heatmapMatrixD, cmap='terrain')\n",
    "cbar = plt.colorbar(hmap)\n",
    "\n",
    "cbar.set_label('cosine similarity', rotation=270)\n",
    "a = ax.set_xticks(np.arange(heatmapMatrixD.shape[1]) + 0.5, minor=False)\n",
    "a = ax.set_yticks(np.arange(heatmapMatrixD.shape[0]) + 0.5, minor=False)\n",
    "\n",
    "a = ax.set_xticklabels(targetDocs, minor=False, rotation=270)\n",
    "a = ax.set_yticklabels(targetDocs, minor=False)"
   ]
  },
  {
   "cell_type": "markdown",
   "metadata": {},
   "source": [
    "Now let's look at a heatmap of similarities between the first ten documents and our keywords:"
   ]
  },
  {
   "cell_type": "code",
   "execution_count": 191,
   "metadata": {
    "collapsed": true
   },
   "outputs": [],
   "source": [
    "heatmapMatrixC = []\n",
    "\n",
    "for tagOuter in targetDocs:\n",
    "    column = []\n",
    "    tagVec = apsD2V.docvecs[tagOuter].reshape(1, -1)\n",
    "    for tagInner in keywords:\n",
    "        column.append(sklearn.metrics.pairwise.cosine_similarity(tagVec, apsD2V.docvecs[tagInner].reshape(1, -1))[0][0])\n",
    "    heatmapMatrixC.append(column)\n",
    "heatmapMatrixC = np.array(heatmapMatrixC)"
   ]
  },
  {
   "cell_type": "code",
   "execution_count": 192,
   "metadata": {},
   "outputs": [
    {
     "data": {
      "image/png": "[encoded data removed]",
      "text/plain": [
       "<matplotlib.figure.Figure at 0x152d12860>"
      ]
     },
     "metadata": {},
     "output_type": "display_data"
    }
   ],
   "source": [
    "fig, ax = plt.subplots()\n",
    "hmap = ax.pcolor(heatmapMatrixC, cmap='terrain')\n",
    "cbar = plt.colorbar(hmap)\n",
    "\n",
    "cbar.set_label('cosine similarity', rotation=270)\n",
    "a = ax.set_xticks(np.arange(heatmapMatrixC.shape[1]) + 0.5, minor=False)\n",
    "a = ax.set_yticks(np.arange(heatmapMatrixC.shape[0]) + 0.5, minor=False)\n",
    "\n",
    "a = ax.set_xticklabels(keywords, minor=False, rotation=270)\n",
    "a = ax.set_yticklabels(targetDocs, minor=False)"
   ]
  },
  {
   "cell_type": "markdown",
   "metadata": {},
   "source": [
    "We will save the model in case we would like to use it again."
   ]
  },
  {
   "cell_type": "code",
   "execution_count": 193,
   "metadata": {
    "collapsed": true
   },
   "outputs": [],
   "source": [
    "apsD2V.save('apsW2V')"
   ]
  },
  {
   "cell_type": "markdown",
   "metadata": {},
   "source": [
    "We can later load it:"
   ]
  },
  {
   "cell_type": "code",
   "execution_count": 194,
   "metadata": {
    "collapsed": true
   },
   "outputs": [],
   "source": [
    "#apsD2V = gensim.models.word2vec.Word2Vec.load('data/apsW2V')"
   ]
  },
  {
   "cell_type": "markdown",
   "metadata": {},
   "source": [
    "## <span style=\"color:red\">*Exercise 2*</span>\n",
    "\n",
    "<span style=\"color:red\">Construct cells immediately below this that build a doc2vec model with your corpus. Interrogate document and word relationships in the resulting space. Construct a heatmap that plots the distances between a subset of your documents against each other, and against a set of informative words. Find distances between *every* document in your corpus and a word or query of interest. What do these doc-doc proximities reveal about your corpus? What do these word-doc proximities highlight? Demonstrate and document one reasonable way to select a defensible subset of query-relevant documents for subsequent analysis."
   ]
  },
  {
   "cell_type": "markdown",
   "metadata": {},
   "source": [
    "I will first create a set of keyword to which I will compare the documents (reviews) of my corpus. In order to make comparisons I will also have to tokenize and normalize words."
   ]
  },
  {
   "cell_type": "code",
   "execution_count": 22,
   "metadata": {
    "collapsed": true
   },
   "outputs": [],
   "source": [
    "keywords = ['good', 'bad', 'taste', 'flavor', 'would', 'recommend', 'first', 'last']"
   ]
  },
  {
   "cell_type": "code",
   "execution_count": 23,
   "metadata": {},
   "outputs": [
    {
     "name": "stderr",
     "output_type": "stream",
     "text": [
      "/Users/arielazar/anaconda3/lib/python3.6/site-packages/ipykernel_launcher.py:1: SettingWithCopyWarning: \n",
      "A value is trying to be set on a copy of a slice from a DataFrame.\n",
      "Try using .loc[row_indexer,col_indexer] = value instead\n",
      "\n",
      "See the caveats in the documentation: http://pandas.pydata.org/pandas-docs/stable/indexing.html#indexing-view-versus-copy\n",
      "  \"\"\"Entry point for launching an IPython kernel.\n",
      "/Users/arielazar/anaconda3/lib/python3.6/site-packages/ipykernel_launcher.py:2: SettingWithCopyWarning: \n",
      "A value is trying to be set on a copy of a slice from a DataFrame.\n",
      "Try using .loc[row_indexer,col_indexer] = value instead\n",
      "\n",
      "See the caveats in the documentation: http://pandas.pydata.org/pandas-docs/stable/indexing.html#indexing-view-versus-copy\n",
      "  \n"
     ]
    },
    {
     "data": {
      "text/html": [
       "<div>\n",
       "<style scoped>\n",
       "    .dataframe tbody tr th:only-of-type {\n",
       "        vertical-align: middle;\n",
       "    }\n",
       "\n",
       "    .dataframe tbody tr th {\n",
       "        vertical-align: top;\n",
       "    }\n",
       "\n",
       "    .dataframe thead th {\n",
       "        text-align: right;\n",
       "    }\n",
       "</style>\n",
       "<table border=\"1\" class=\"dataframe\">\n",
       "  <thead>\n",
       "    <tr style=\"text-align: right;\">\n",
       "      <th></th>\n",
       "      <th>asin</th>\n",
       "      <th>helpful</th>\n",
       "      <th>overall</th>\n",
       "      <th>reviewText</th>\n",
       "      <th>reviewTime</th>\n",
       "      <th>reviewerID</th>\n",
       "      <th>reviewerName</th>\n",
       "      <th>summary</th>\n",
       "      <th>unixReviewTime</th>\n",
       "      <th>tokenized_sents</th>\n",
       "      <th>normalized_sents</th>\n",
       "      <th>tokenized_words</th>\n",
       "      <th>normalized_words</th>\n",
       "    </tr>\n",
       "  </thead>\n",
       "  <tbody>\n",
       "    <tr>\n",
       "      <th>9</th>\n",
       "      <td>616719923X</td>\n",
       "      <td>[0, 10]</td>\n",
       "      <td>1</td>\n",
       "      <td>I love green tea, I love Kit Kats, but the two...</td>\n",
       "      <td>09 19, 2012</td>\n",
       "      <td>A33NXNZ79H5K51</td>\n",
       "      <td>Jean M \"JM\"</td>\n",
       "      <td>Not a fan</td>\n",
       "      <td>1348012800</td>\n",
       "      <td>[[I, love, green, tea, ,, I, love, Kit, Kats, ...</td>\n",
       "      <td>[[love, green, tea, love, kit, kats, two, belo...</td>\n",
       "      <td>[I, love, green, tea, ,, I, love, Kit, Kats, ,...</td>\n",
       "      <td>[love, green, tea, love, kit, kats, two, belon...</td>\n",
       "    </tr>\n",
       "    <tr>\n",
       "      <th>32</th>\n",
       "      <td>B00004S1C5</td>\n",
       "      <td>[8, 11]</td>\n",
       "      <td>1</td>\n",
       "      <td>This product is no where near natural / organi...</td>\n",
       "      <td>03 29, 2013</td>\n",
       "      <td>A14YSMLYLJEMET</td>\n",
       "      <td>Amazon Customer</td>\n",
       "      <td>Not natural/organic at all</td>\n",
       "      <td>1364515200</td>\n",
       "      <td>[[This, product, is, no, where, near, natural,...</td>\n",
       "      <td>[[product, near, natural, wish, seen, reviews,...</td>\n",
       "      <td>[This, product, is, no, where, near, natural, ...</td>\n",
       "      <td>[product, near, natural, wish, seen, reviews, ...</td>\n",
       "    </tr>\n",
       "    <tr>\n",
       "      <th>75</th>\n",
       "      <td>B0000CCZYY</td>\n",
       "      <td>[1, 4]</td>\n",
       "      <td>1</td>\n",
       "      <td>Licorice is my favorite candy, and it promotes...</td>\n",
       "      <td>04 5, 2013</td>\n",
       "      <td>A3OH4OZFZGEH75</td>\n",
       "      <td>Amazon Customer</td>\n",
       "      <td>Not soft at all. Basically same as cheap licor...</td>\n",
       "      <td>1365120000</td>\n",
       "      <td>[[Licorice, is, my, favorite, candy, ,, and, i...</td>\n",
       "      <td>[[licorice, favorite, candy, promotes, good, d...</td>\n",
       "      <td>[Licorice, is, my, favorite, candy, ,, and, it...</td>\n",
       "      <td>[licorice, favorite, candy, promotes, good, di...</td>\n",
       "    </tr>\n",
       "    <tr>\n",
       "      <th>82</th>\n",
       "      <td>B0000CCZYY</td>\n",
       "      <td>[6, 11]</td>\n",
       "      <td>1</td>\n",
       "      <td>This is an awesome product, natural, not a lot...</td>\n",
       "      <td>05 7, 2013</td>\n",
       "      <td>A2OUNVRPRWH0</td>\n",
       "      <td>The Kittie \"Kittie\"</td>\n",
       "      <td>Love this candy!</td>\n",
       "      <td>1367884800</td>\n",
       "      <td>[[This, is, an, awesome, product, ,, natural, ...</td>\n",
       "      <td>[[awesome, product, natural, lot, ingredients,...</td>\n",
       "      <td>[This, is, an, awesome, product, ,, natural, ,...</td>\n",
       "      <td>[awesome, product, natural, lot, ingredients, ...</td>\n",
       "    </tr>\n",
       "    <tr>\n",
       "      <th>85</th>\n",
       "      <td>B0000CD06J</td>\n",
       "      <td>[0, 3]</td>\n",
       "      <td>1</td>\n",
       "      <td>As soon as I had a couple of sips, my eczema s...</td>\n",
       "      <td>03 6, 2013</td>\n",
       "      <td>AX04H2SPKO02S</td>\n",
       "      <td>J. Wang \"jyswang\"</td>\n",
       "      <td>NOT gluten free</td>\n",
       "      <td>1362528000</td>\n",
       "      <td>[[As, soon, as, I, had, a, couple, of, sips, ,...</td>\n",
       "      <td>[[soon, couple, sips, eczema, started, uncontr...</td>\n",
       "      <td>[As, soon, as, I, had, a, couple, of, sips, ,,...</td>\n",
       "      <td>[soon, couple, sips, eczema, started, uncontro...</td>\n",
       "    </tr>\n",
       "    <tr>\n",
       "      <th>162</th>\n",
       "      <td>B0000CNU1X</td>\n",
       "      <td>[0, 0]</td>\n",
       "      <td>1</td>\n",
       "      <td>unsure if I just got a bad batch or what...the...</td>\n",
       "      <td>01 23, 2013</td>\n",
       "      <td>A1M9L949MA66I3</td>\n",
       "      <td>orlandodawg</td>\n",
       "      <td>Not good</td>\n",
       "      <td>1358899200</td>\n",
       "      <td>[[unsure, if, I, just, got, a, bad, batch, or,...</td>\n",
       "      <td>[[unsure, got, bad, batch, flavor, bland, neve...</td>\n",
       "      <td>[unsure, if, I, just, got, a, bad, batch, or, ...</td>\n",
       "      <td>[unsure, got, bad, batch, flavor, bland, never...</td>\n",
       "    </tr>\n",
       "    <tr>\n",
       "      <th>217</th>\n",
       "      <td>B0000DGDMO</td>\n",
       "      <td>[1, 2]</td>\n",
       "      <td>1</td>\n",
       "      <td>Misleading.  The reason this is cheaper than t...</td>\n",
       "      <td>08 31, 2012</td>\n",
       "      <td>A30JPZ9TZ7I61U</td>\n",
       "      <td>Christopher Barrett \"Evil Corgi\"</td>\n",
       "      <td>Why is the picture showing the 24 pack?????</td>\n",
       "      <td>1346371200</td>\n",
       "      <td>[[Misleading, .], [The, reason, this, is, chea...</td>\n",
       "      <td>[[misleading], [reason, cheaper, flavors, pack...</td>\n",
       "      <td>[Misleading, ., The, reason, this, is, cheaper...</td>\n",
       "      <td>[misleading, reason, cheaper, flavors, pack, w...</td>\n",
       "    </tr>\n",
       "    <tr>\n",
       "      <th>265</th>\n",
       "      <td>B0000DID5R</td>\n",
       "      <td>[6, 27]</td>\n",
       "      <td>1</td>\n",
       "      <td>Well, I guess I'm the fly in this reviewer oin...</td>\n",
       "      <td>01 14, 2007</td>\n",
       "      <td>A34PAZQ73SL163</td>\n",
       "      <td>Bernard Chapin \"Ora Et Labora!\"</td>\n",
       "      <td>The Only One I Avoid.</td>\n",
       "      <td>1168732800</td>\n",
       "      <td>[[Well, ,, I, guess, I, 'm, the, fly, in, this...</td>\n",
       "      <td>[[well, guess, fly, reviewer, ointment, dave, ...</td>\n",
       "      <td>[Well, ,, I, guess, I, 'm, the, fly, in, this,...</td>\n",
       "      <td>[well, guess, fly, reviewer, ointment, dave, h...</td>\n",
       "    </tr>\n",
       "    <tr>\n",
       "      <th>270</th>\n",
       "      <td>B0000DID5R</td>\n",
       "      <td>[3, 4]</td>\n",
       "      <td>1</td>\n",
       "      <td>O.k., I'm going to offer a counterpoint to all...</td>\n",
       "      <td>11 11, 2012</td>\n",
       "      <td>A2MPW1R13SHA2S</td>\n",
       "      <td>Dangrenade</td>\n",
       "      <td>Unpleasant Heat, and No Flavor</td>\n",
       "      <td>1352592000</td>\n",
       "      <td>[[O.k., ,, I, 'm, going, to, offer, a, counter...</td>\n",
       "      <td>[[going, offer, counterpoint, positive, review...</td>\n",
       "      <td>[O.k., ,, I, 'm, going, to, offer, a, counterp...</td>\n",
       "      <td>[going, offer, counterpoint, positive, reviews...</td>\n",
       "    </tr>\n",
       "    <tr>\n",
       "      <th>290</th>\n",
       "      <td>B0000DID5R</td>\n",
       "      <td>[4, 24]</td>\n",
       "      <td>1</td>\n",
       "      <td>I just tried this sauce moments ago. Someone h...</td>\n",
       "      <td>03 1, 2011</td>\n",
       "      <td>A3FHWQ3H3ZT2YE</td>\n",
       "      <td>Patrice M. Christian \"Trixie.in.Dixie\"</td>\n",
       "      <td>Maybe my taste buds are different.</td>\n",
       "      <td>1298937600</td>\n",
       "      <td>[[I, just, tried, this, sauce, moments, ago, ....</td>\n",
       "      <td>[[tried, sauce, moments, ago], [someone, broug...</td>\n",
       "      <td>[I, just, tried, this, sauce, moments, ago, .,...</td>\n",
       "      <td>[tried, sauce, moments, ago, someone, brought,...</td>\n",
       "    </tr>\n",
       "    <tr>\n",
       "      <th>320</th>\n",
       "      <td>B0000DJDJZ</td>\n",
       "      <td>[8, 10]</td>\n",
       "      <td>1</td>\n",
       "      <td>Buyer Beware Please! This sweetener is not for...</td>\n",
       "      <td>04 30, 2012</td>\n",
       "      <td>A25VFHVGI4CFTP</td>\n",
       "      <td>Diana Robinson</td>\n",
       "      <td>Warning!  WARNING!  -ALCOHOL SUGARS!</td>\n",
       "      <td>1335744000</td>\n",
       "      <td>[[Buyer, Beware, Please, !], [This, sweetener,...</td>\n",
       "      <td>[[buyer, beware, please], [sweetener, everybod...</td>\n",
       "      <td>[Buyer, Beware, Please, !, This, sweetener, is...</td>\n",
       "      <td>[buyer, beware, please, sweetener, everybody, ...</td>\n",
       "    </tr>\n",
       "    <tr>\n",
       "      <th>339</th>\n",
       "      <td>B0000E5JIU</td>\n",
       "      <td>[0, 0]</td>\n",
       "      <td>1</td>\n",
       "      <td>Perhaps the best coffee is in the US if this i...</td>\n",
       "      <td>03 14, 2014</td>\n",
       "      <td>AHRKNAVOFIQG0</td>\n",
       "      <td>TruthMatters \"Truth Can Help\"</td>\n",
       "      <td>So this is what French coffee tastes like???  ...</td>\n",
       "      <td>1394755200</td>\n",
       "      <td>[[Perhaps, the, best, coffee, is, in, the, US,...</td>\n",
       "      <td>[[perhaps, best, coffee, us, example], [really...</td>\n",
       "      <td>[Perhaps, the, best, coffee, is, in, the, US, ...</td>\n",
       "      <td>[perhaps, best, coffee, us, example, really, f...</td>\n",
       "    </tr>\n",
       "    <tr>\n",
       "      <th>354</th>\n",
       "      <td>B0000GH6UG</td>\n",
       "      <td>[2, 3]</td>\n",
       "      <td>1</td>\n",
       "      <td>When I was incarcerated in a Mexican prison, t...</td>\n",
       "      <td>12 30, 2013</td>\n",
       "      <td>A3L61G6N7AT8N2</td>\n",
       "      <td>Bartok Kinski \"A casual stroll through the lu...</td>\n",
       "      <td>taste is awful</td>\n",
       "      <td>1388361600</td>\n",
       "      <td>[[When, I, was, incarcerated, in, a, Mexican, ...</td>\n",
       "      <td>[[incarcerated, mexican, prison, drink, joint]...</td>\n",
       "      <td>[When, I, was, incarcerated, in, a, Mexican, p...</td>\n",
       "      <td>[incarcerated, mexican, prison, drink, joint, ...</td>\n",
       "    </tr>\n",
       "    <tr>\n",
       "      <th>355</th>\n",
       "      <td>B0000GH6UG</td>\n",
       "      <td>[7, 17]</td>\n",
       "      <td>1</td>\n",
       "      <td>When I was incarcerated in a Mexican prison, t...</td>\n",
       "      <td>01 19, 2009</td>\n",
       "      <td>AI0NMYA3LKXW1</td>\n",
       "      <td>Bartok Kinski \"A casual stroll through the lu...</td>\n",
       "      <td>taste is awful</td>\n",
       "      <td>1232323200</td>\n",
       "      <td>[[When, I, was, incarcerated, in, a, Mexican, ...</td>\n",
       "      <td>[[incarcerated, mexican, prison, drink, joint]...</td>\n",
       "      <td>[When, I, was, incarcerated, in, a, Mexican, p...</td>\n",
       "      <td>[incarcerated, mexican, prison, drink, joint, ...</td>\n",
       "    </tr>\n",
       "    <tr>\n",
       "      <th>361</th>\n",
       "      <td>B0000GH6UQ</td>\n",
       "      <td>[1, 7]</td>\n",
       "      <td>1</td>\n",
       "      <td>I got this a few months ago with high hopes bu...</td>\n",
       "      <td>10 31, 2010</td>\n",
       "      <td>A29QXI9MWCVO7Q</td>\n",
       "      <td>from Hampton, VA \"amazon customer\"</td>\n",
       "      <td>Just OK</td>\n",
       "      <td>1288483200</td>\n",
       "      <td>[[I, got, this, a, few, months, ago, with, hig...</td>\n",
       "      <td>[[got, months, ago, high, hopes, barely, ok, k...</td>\n",
       "      <td>[I, got, this, a, few, months, ago, with, high...</td>\n",
       "      <td>[got, months, ago, high, hopes, barely, ok, ki...</td>\n",
       "    </tr>\n",
       "    <tr>\n",
       "      <th>383</th>\n",
       "      <td>B0000GHNT0</td>\n",
       "      <td>[3, 5]</td>\n",
       "      <td>1</td>\n",
       "      <td>This was by far my favorite hot sauce until th...</td>\n",
       "      <td>09 22, 2013</td>\n",
       "      <td>A6KWQKOHSFYQC</td>\n",
       "      <td>M. Pearce</td>\n",
       "      <td>Full of lead</td>\n",
       "      <td>1379808000</td>\n",
       "      <td>[[This, was, by, far, my, favorite, hot, sauce...</td>\n",
       "      <td>[[far, favorite, hot, sauce, university, nevad...</td>\n",
       "      <td>[This, was, by, far, my, favorite, hot, sauce,...</td>\n",
       "      <td>[far, favorite, hot, sauce, university, nevada...</td>\n",
       "    </tr>\n",
       "    <tr>\n",
       "      <th>470</th>\n",
       "      <td>B0000W0GQQ</td>\n",
       "      <td>[9, 22]</td>\n",
       "      <td>1</td>\n",
       "      <td>This product is very misleading. The bottle st...</td>\n",
       "      <td>02 27, 2013</td>\n",
       "      <td>A35Q0JH999NPN0</td>\n",
       "      <td>JS</td>\n",
       "      <td>Sugar Paste with vanilla flavor</td>\n",
       "      <td>1361923200</td>\n",
       "      <td>[[This, product, is, very, misleading, .], [Th...</td>\n",
       "      <td>[[product, misleading], [bottle, states, pure,...</td>\n",
       "      <td>[This, product, is, very, misleading, ., The, ...</td>\n",
       "      <td>[product, misleading, bottle, states, pure, va...</td>\n",
       "    </tr>\n",
       "    <tr>\n",
       "      <th>495</th>\n",
       "      <td>B00012182G</td>\n",
       "      <td>[49, 55]</td>\n",
       "      <td>1</td>\n",
       "      <td>Imagine the horror my son felt as he unwrapped...</td>\n",
       "      <td>12 27, 2012</td>\n",
       "      <td>A2GA64WZK8PKBC</td>\n",
       "      <td>Cat Feet</td>\n",
       "      <td>Not a plush toy!</td>\n",
       "      <td>1356566400</td>\n",
       "      <td>[[Imagine, the, horror, my, son, felt, as, he,...</td>\n",
       "      <td>[[imagine, horror, son, felt, unwrapped, chris...</td>\n",
       "      <td>[Imagine, the, horror, my, son, felt, as, he, ...</td>\n",
       "      <td>[imagine, horror, son, felt, unwrapped, christ...</td>\n",
       "    </tr>\n",
       "    <tr>\n",
       "      <th>504</th>\n",
       "      <td>B00012182G</td>\n",
       "      <td>[63, 78]</td>\n",
       "      <td>1</td>\n",
       "      <td>So I thought fresh meant I could eat it out of...</td>\n",
       "      <td>02 12, 2012</td>\n",
       "      <td>A7WH560VVUXB2</td>\n",
       "      <td>Kevin M. Derby</td>\n",
       "      <td>Read the Instructions</td>\n",
       "      <td>1329004800</td>\n",
       "      <td>[[So, I, thought, fresh, meant, I, could, eat,...</td>\n",
       "      <td>[[thought, fresh, meant, could, eat, box, much...</td>\n",
       "      <td>[So, I, thought, fresh, meant, I, could, eat, ...</td>\n",
       "      <td>[thought, fresh, meant, could, eat, box, much,...</td>\n",
       "    </tr>\n",
       "    <tr>\n",
       "      <th>521</th>\n",
       "      <td>B00013MY78</td>\n",
       "      <td>[1, 3]</td>\n",
       "      <td>1</td>\n",
       "      <td>Decent texture and freshness but there is a no...</td>\n",
       "      <td>03 3, 2014</td>\n",
       "      <td>AD2QRU9ZXBQZ1</td>\n",
       "      <td>Domestic Gnome</td>\n",
       "      <td>Chemical/industrial/medicinal aroma and flavor</td>\n",
       "      <td>1393804800</td>\n",
       "      <td>[[Decent, texture, and, freshness, but, there,...</td>\n",
       "      <td>[[decent, texture, freshness, noticeably, indu...</td>\n",
       "      <td>[Decent, texture, and, freshness, but, there, ...</td>\n",
       "      <td>[decent, texture, freshness, noticeably, indus...</td>\n",
       "    </tr>\n",
       "    <tr>\n",
       "      <th>539</th>\n",
       "      <td>B00014CZP8</td>\n",
       "      <td>[1, 3]</td>\n",
       "      <td>1</td>\n",
       "      <td>Stale, tastless crap. Dont bother. The hassle ...</td>\n",
       "      <td>04 6, 2012</td>\n",
       "      <td>A2WNN1DQVL4LH5</td>\n",
       "      <td>Caddycat</td>\n",
       "      <td>Pond water would taste better..</td>\n",
       "      <td>1333670400</td>\n",
       "      <td>[[Stale, ,, tastless, crap, .], [Dont, bother,...</td>\n",
       "      <td>[[stale, tastless, crap], [dont, bother], [has...</td>\n",
       "      <td>[Stale, ,, tastless, crap, ., Dont, bother, .,...</td>\n",
       "      <td>[stale, tastless, crap, dont, bother, hassle, ...</td>\n",
       "    </tr>\n",
       "    <tr>\n",
       "      <th>544</th>\n",
       "      <td>B00014CZP8</td>\n",
       "      <td>[0, 2]</td>\n",
       "      <td>1</td>\n",
       "      <td>I read where Dandelion tea could help with wei...</td>\n",
       "      <td>04 26, 2013</td>\n",
       "      <td>A2F0ROXOUD8890</td>\n",
       "      <td>Curly Blue</td>\n",
       "      <td>Couldn't use</td>\n",
       "      <td>1366934400</td>\n",
       "      <td>[[I, read, where, Dandelion, tea, could, help,...</td>\n",
       "      <td>[[read, dandelion, tea, could, help, weight, l...</td>\n",
       "      <td>[I, read, where, Dandelion, tea, could, help, ...</td>\n",
       "      <td>[read, dandelion, tea, could, help, weight, lo...</td>\n",
       "    </tr>\n",
       "    <tr>\n",
       "      <th>565</th>\n",
       "      <td>B00014CZP8</td>\n",
       "      <td>[0, 0]</td>\n",
       "      <td>1</td>\n",
       "      <td>I bought this on a lightning deal and am very ...</td>\n",
       "      <td>02 16, 2014</td>\n",
       "      <td>A3CI9DSB6Z76JF</td>\n",
       "      <td>LB \"Helfenfreude\"</td>\n",
       "      <td>Poor quality tea full of sharp hay-like bitter...</td>\n",
       "      <td>1392508800</td>\n",
       "      <td>[[I, bought, this, on, a, lightning, deal, and...</td>\n",
       "      <td>[[bought, lightning, deal, disappointed], [wan...</td>\n",
       "      <td>[I, bought, this, on, a, lightning, deal, and,...</td>\n",
       "      <td>[bought, lightning, deal, disappointed, want, ...</td>\n",
       "    </tr>\n",
       "    <tr>\n",
       "      <th>572</th>\n",
       "      <td>B00014CZP8</td>\n",
       "      <td>[5, 7]</td>\n",
       "      <td>1</td>\n",
       "      <td>if you have misgivings about magnesium stearat...</td>\n",
       "      <td>12 18, 2012</td>\n",
       "      <td>A2R62KGNIF8DX6</td>\n",
       "      <td>Moon Glough</td>\n",
       "      <td>magnesium stearate abounds within</td>\n",
       "      <td>1355788800</td>\n",
       "      <td>[[if, you, have, misgivings, about, magnesium,...</td>\n",
       "      <td>[[misgivings, magnesium, stearate, buy, produc...</td>\n",
       "      <td>[if, you, have, misgivings, about, magnesium, ...</td>\n",
       "      <td>[misgivings, magnesium, stearate, buy, product...</td>\n",
       "    </tr>\n",
       "    <tr>\n",
       "      <th>597</th>\n",
       "      <td>B00014CZP8</td>\n",
       "      <td>[0, 1]</td>\n",
       "      <td>1</td>\n",
       "      <td>I love parsley and add it to my cooking all th...</td>\n",
       "      <td>12 13, 2012</td>\n",
       "      <td>AI20XOYZ8L6LJ</td>\n",
       "      <td>Susy \"Pixiebrush\"</td>\n",
       "      <td>Yuck</td>\n",
       "      <td>1355356800</td>\n",
       "      <td>[[I, love, parsley, and, add, it, to, my, cook...</td>\n",
       "      <td>[[love, parsley, add, cooking, time], [thought...</td>\n",
       "      <td>[I, love, parsley, and, add, it, to, my, cooki...</td>\n",
       "      <td>[love, parsley, add, cooking, time, thought, l...</td>\n",
       "    </tr>\n",
       "    <tr>\n",
       "      <th>611</th>\n",
       "      <td>B00014CZQC</td>\n",
       "      <td>[11, 22]</td>\n",
       "      <td>1</td>\n",
       "      <td>I didn't have such luck with this product as t...</td>\n",
       "      <td>10 26, 2007</td>\n",
       "      <td>A2DB720I9XRX7K</td>\n",
       "      <td>K. Draper</td>\n",
       "      <td>Rough Stuff</td>\n",
       "      <td>1193356800</td>\n",
       "      <td>[[I, did, n't, have, such, luck, with, this, p...</td>\n",
       "      <td>[[luck, product, reviewers, unfortunately, got...</td>\n",
       "      <td>[I, did, n't, have, such, luck, with, this, pr...</td>\n",
       "      <td>[luck, product, reviewers, unfortunately, got,...</td>\n",
       "    </tr>\n",
       "    <tr>\n",
       "      <th>613</th>\n",
       "      <td>B00014CZQC</td>\n",
       "      <td>[1, 8]</td>\n",
       "      <td>1</td>\n",
       "      <td>I hate the new version which is watered down w...</td>\n",
       "      <td>03 18, 2013</td>\n",
       "      <td>A844QT2C8NQC</td>\n",
       "      <td>punkin</td>\n",
       "      <td>New version DOES NOT WORK</td>\n",
       "      <td>1363564800</td>\n",
       "      <td>[[I, hate, the, new, version, which, is, water...</td>\n",
       "      <td>[[hate, new, version, watered, chamomile, effe...</td>\n",
       "      <td>[I, hate, the, new, version, which, is, watere...</td>\n",
       "      <td>[hate, new, version, watered, chamomile, effec...</td>\n",
       "    </tr>\n",
       "    <tr>\n",
       "      <th>619</th>\n",
       "      <td>B00014D37W</td>\n",
       "      <td>[21, 29]</td>\n",
       "      <td>1</td>\n",
       "      <td>This is refined not unrefined. How amazing, th...</td>\n",
       "      <td>12 12, 2011</td>\n",
       "      <td>A2XKJ1KX6XUHYP</td>\n",
       "      <td>NYFB</td>\n",
       "      <td>Misleading...</td>\n",
       "      <td>1323648000</td>\n",
       "      <td>[[This, is, refined, not, unrefined, .], [How,...</td>\n",
       "      <td>[[refined, unrefined], [amazing, seller, provi...</td>\n",
       "      <td>[This, is, refined, not, unrefined, ., How, am...</td>\n",
       "      <td>[refined, unrefined, amazing, seller, provide,...</td>\n",
       "    </tr>\n",
       "    <tr>\n",
       "      <th>660</th>\n",
       "      <td>B00014EO2A</td>\n",
       "      <td>[4, 6]</td>\n",
       "      <td>1</td>\n",
       "      <td>Since I'm on a limited income, I look for the ...</td>\n",
       "      <td>08 29, 2013</td>\n",
       "      <td>A1OXH6BF4LJEVH</td>\n",
       "      <td>Penny Duff</td>\n",
       "      <td>If you're going to make jello, avoid this stuff!</td>\n",
       "      <td>1377734400</td>\n",
       "      <td>[[Since, I, 'm, on, a, limited, income, ,, I, ...</td>\n",
       "      <td>[[since, limited, income, look, best, price, g...</td>\n",
       "      <td>[Since, I, 'm, on, a, limited, income, ,, I, l...</td>\n",
       "      <td>[since, limited, income, look, best, price, ge...</td>\n",
       "    </tr>\n",
       "    <tr>\n",
       "      <th>714</th>\n",
       "      <td>B00014JNI0</td>\n",
       "      <td>[20, 34]</td>\n",
       "      <td>1</td>\n",
       "      <td>First let me just say..I thought about this be...</td>\n",
       "      <td>08 27, 2013</td>\n",
       "      <td>A1LPAJPQYR6M19</td>\n",
       "      <td>Laurie</td>\n",
       "      <td>UPSET!</td>\n",
       "      <td>1377561600</td>\n",
       "      <td>[[First, let, me, just, say..I, thought, about...</td>\n",
       "      <td>[[first, let, thought, wrote, review, taking, ...</td>\n",
       "      <td>[First, let, me, just, say..I, thought, about,...</td>\n",
       "      <td>[first, let, thought, wrote, review, taking, t...</td>\n",
       "    </tr>\n",
       "    <tr>\n",
       "      <th>...</th>\n",
       "      <td>...</td>\n",
       "      <td>...</td>\n",
       "      <td>...</td>\n",
       "      <td>...</td>\n",
       "      <td>...</td>\n",
       "      <td>...</td>\n",
       "      <td>...</td>\n",
       "      <td>...</td>\n",
       "      <td>...</td>\n",
       "      <td>...</td>\n",
       "      <td>...</td>\n",
       "      <td>...</td>\n",
       "      <td>...</td>\n",
       "    </tr>\n",
       "    <tr>\n",
       "      <th>150083</th>\n",
       "      <td>B00H727UU2</td>\n",
       "      <td>[1, 1]</td>\n",
       "      <td>1</td>\n",
       "      <td>Definitely disappointed in the Kernel Season's...</td>\n",
       "      <td>05 21, 2014</td>\n",
       "      <td>A2QR043WBXXX6L</td>\n",
       "      <td>Stephen Cunningham</td>\n",
       "      <td>Nope.  Not my nacho....</td>\n",
       "      <td>1400630400</td>\n",
       "      <td>[[Definitely, disappointed, in, the, Kernel, S...</td>\n",
       "      <td>[[definitely, disappointed, kernel, season, na...</td>\n",
       "      <td>[Definitely, disappointed, in, the, Kernel, Se...</td>\n",
       "      <td>[definitely, disappointed, kernel, season, nac...</td>\n",
       "    </tr>\n",
       "    <tr>\n",
       "      <th>150313</th>\n",
       "      <td>B00H8PK63G</td>\n",
       "      <td>[0, 1]</td>\n",
       "      <td>1</td>\n",
       "      <td>I will not be buying these any time soon. yuck...</td>\n",
       "      <td>05 3, 2014</td>\n",
       "      <td>A28SSSEO1HPAVT</td>\n",
       "      <td>Richard knutson</td>\n",
       "      <td>full of sugar</td>\n",
       "      <td>1399075200</td>\n",
       "      <td>[[I, will, not, be, buying, these, any, time, ...</td>\n",
       "      <td>[[buying, time, soon], [yuck], [taste, right, ...</td>\n",
       "      <td>[I, will, not, be, buying, these, any, time, s...</td>\n",
       "      <td>[buying, time, soon, yuck, taste, right, poor,...</td>\n",
       "    </tr>\n",
       "    <tr>\n",
       "      <th>150320</th>\n",
       "      <td>B00HANG4VO</td>\n",
       "      <td>[0, 0]</td>\n",
       "      <td>1</td>\n",
       "      <td>Not my cup of tea. LOL It's a weird combinatio...</td>\n",
       "      <td>07 2, 2014</td>\n",
       "      <td>A8KKLML9M0S1G</td>\n",
       "      <td>L REN \"laurenelise00\"</td>\n",
       "      <td>One Star</td>\n",
       "      <td>1404259200</td>\n",
       "      <td>[[Not, my, cup, of, tea, .], [LOL, It, 's, a, ...</td>\n",
       "      <td>[[cup, tea], [lol, weird, combination, opinion...</td>\n",
       "      <td>[Not, my, cup, of, tea, ., LOL, It, 's, a, wei...</td>\n",
       "      <td>[cup, tea, lol, weird, combination, opinion, tho]</td>\n",
       "    </tr>\n",
       "    <tr>\n",
       "      <th>150326</th>\n",
       "      <td>B00HBBYWNW</td>\n",
       "      <td>[1, 1]</td>\n",
       "      <td>1</td>\n",
       "      <td>I should have known better than to think that ...</td>\n",
       "      <td>03 6, 2014</td>\n",
       "      <td>A3OE8046KWT42B</td>\n",
       "      <td>Amazon Customer</td>\n",
       "      <td>Coffee For People Who Don't Like Coffee</td>\n",
       "      <td>1394064000</td>\n",
       "      <td>[[I, should, have, known, better, than, to, th...</td>\n",
       "      <td>[[known, better, think, coffee, marketed, tv, ...</td>\n",
       "      <td>[I, should, have, known, better, than, to, thi...</td>\n",
       "      <td>[known, better, think, coffee, marketed, tv, s...</td>\n",
       "    </tr>\n",
       "    <tr>\n",
       "      <th>150333</th>\n",
       "      <td>B00HBBYWNW</td>\n",
       "      <td>[0, 0]</td>\n",
       "      <td>1</td>\n",
       "      <td>I didn't care for this product and would not p...</td>\n",
       "      <td>03 9, 2014</td>\n",
       "      <td>A12FPG5P7T0IMA</td>\n",
       "      <td>Bonner '62</td>\n",
       "      <td>Sleazy Is Right</td>\n",
       "      <td>1394323200</td>\n",
       "      <td>[[I, did, n't, care, for, this, product, and, ...</td>\n",
       "      <td>[[care, product, would, purchase], [tasted, wa...</td>\n",
       "      <td>[I, did, n't, care, for, this, product, and, w...</td>\n",
       "      <td>[care, product, would, purchase, tasted, water...</td>\n",
       "    </tr>\n",
       "    <tr>\n",
       "      <th>150352</th>\n",
       "      <td>B00HBBYWNW</td>\n",
       "      <td>[0, 0]</td>\n",
       "      <td>1</td>\n",
       "      <td>The mail lady delivered this swill today. My w...</td>\n",
       "      <td>03 3, 2014</td>\n",
       "      <td>A100WO06OQR8BQ</td>\n",
       "      <td>Duffer. \"Bo\"</td>\n",
       "      <td>Hogwash</td>\n",
       "      <td>1393804800</td>\n",
       "      <td>[[The, mail, lady, delivered, this, swill, tod...</td>\n",
       "      <td>[[mail, lady, delivered, swill, today], [wife,...</td>\n",
       "      <td>[The, mail, lady, delivered, this, swill, toda...</td>\n",
       "      <td>[mail, lady, delivered, swill, today, wife, br...</td>\n",
       "    </tr>\n",
       "    <tr>\n",
       "      <th>150424</th>\n",
       "      <td>B00HBBYWNW</td>\n",
       "      <td>[0, 0]</td>\n",
       "      <td>1</td>\n",
       "      <td>This is one of the worst coffees I've ever had...</td>\n",
       "      <td>02 23, 2014</td>\n",
       "      <td>AS44QEHT3KSPK</td>\n",
       "      <td>slaphappy</td>\n",
       "      <td>awful</td>\n",
       "      <td>1393113600</td>\n",
       "      <td>[[This, is, one, of, the, worst, coffees, I, '...</td>\n",
       "      <td>[[one, worst, coffees, ever], [tasted, old, we...</td>\n",
       "      <td>[This, is, one, of, the, worst, coffees, I, 'v...</td>\n",
       "      <td>[one, worst, coffees, ever, tasted, old, weak,...</td>\n",
       "    </tr>\n",
       "    <tr>\n",
       "      <th>150437</th>\n",
       "      <td>B00HBBYWNW</td>\n",
       "      <td>[0, 0]</td>\n",
       "      <td>1</td>\n",
       "      <td>I was disappointed with almost all of the asso...</td>\n",
       "      <td>02 17, 2014</td>\n",
       "      <td>A1PB1BJSULOG4L</td>\n",
       "      <td>USTVMAN</td>\n",
       "      <td>Wimpy stuff....</td>\n",
       "      <td>1392595200</td>\n",
       "      <td>[[I, was, disappointed, with, almost, all, of,...</td>\n",
       "      <td>[[disappointed, almost, assorted, flavors], [s...</td>\n",
       "      <td>[I, was, disappointed, with, almost, all, of, ...</td>\n",
       "      <td>[disappointed, almost, assorted, flavors, stan...</td>\n",
       "    </tr>\n",
       "    <tr>\n",
       "      <th>150438</th>\n",
       "      <td>B00HBBYWNW</td>\n",
       "      <td>[0, 0]</td>\n",
       "      <td>1</td>\n",
       "      <td>It tastes burned and stale, like I got it at a...</td>\n",
       "      <td>03 20, 2014</td>\n",
       "      <td>A1IW1ANBV0DPVI</td>\n",
       "      <td>Vee</td>\n",
       "      <td>So gross. Avoid!</td>\n",
       "      <td>1395273600</td>\n",
       "      <td>[[It, tastes, burned, and, stale, ,, like, I, ...</td>\n",
       "      <td>[[tastes, burned, stale, like, got, gas, stati...</td>\n",
       "      <td>[It, tastes, burned, and, stale, ,, like, I, g...</td>\n",
       "      <td>[tastes, burned, stale, like, got, gas, statio...</td>\n",
       "    </tr>\n",
       "    <tr>\n",
       "      <th>150479</th>\n",
       "      <td>B00HHFWJS2</td>\n",
       "      <td>[2, 7]</td>\n",
       "      <td>1</td>\n",
       "      <td>This Green Giant Vegetable Puree is not my kin...</td>\n",
       "      <td>02 25, 2014</td>\n",
       "      <td>A1D9V11QUHXENQ</td>\n",
       "      <td>Big Al \"Alan Rivire\"</td>\n",
       "      <td>Baby food</td>\n",
       "      <td>1393286400</td>\n",
       "      <td>[[This, Green, Giant, Vegetable, Puree, is, no...</td>\n",
       "      <td>[[green, giant, vegetable, puree, kind, veggie...</td>\n",
       "      <td>[This, Green, Giant, Vegetable, Puree, is, not...</td>\n",
       "      <td>[green, giant, vegetable, puree, kind, veggies...</td>\n",
       "    </tr>\n",
       "    <tr>\n",
       "      <th>150527</th>\n",
       "      <td>B00HHFWJS2</td>\n",
       "      <td>[1, 2]</td>\n",
       "      <td>1</td>\n",
       "      <td>I ordered these to mix in with smoothies. Not ...</td>\n",
       "      <td>05 15, 2014</td>\n",
       "      <td>AEUY5C51JAWWH</td>\n",
       "      <td>Scout Leader</td>\n",
       "      <td>Eww....</td>\n",
       "      <td>1400112000</td>\n",
       "      <td>[[I, ordered, these, to, mix, in, with, smooth...</td>\n",
       "      <td>[[ordered, mix, smoothies], [product, unappeti...</td>\n",
       "      <td>[I, ordered, these, to, mix, in, with, smoothi...</td>\n",
       "      <td>[ordered, mix, smoothies, product, unappetizin...</td>\n",
       "    </tr>\n",
       "    <tr>\n",
       "      <th>150541</th>\n",
       "      <td>B00HJ83CYW</td>\n",
       "      <td>[0, 0]</td>\n",
       "      <td>1</td>\n",
       "      <td>I tried toasting this and adding a lot of Kerr...</td>\n",
       "      <td>05 29, 2014</td>\n",
       "      <td>AD6GX7BKC4VTX</td>\n",
       "      <td>BV \"BV\"</td>\n",
       "      <td>Made me gag</td>\n",
       "      <td>1401321600</td>\n",
       "      <td>[[I, tried, toasting, this, and, adding, a, lo...</td>\n",
       "      <td>[[tried, toasting, adding, lot, kerrigold, but...</td>\n",
       "      <td>[I, tried, toasting, this, and, adding, a, lot...</td>\n",
       "      <td>[tried, toasting, adding, lot, kerrigold, butt...</td>\n",
       "    </tr>\n",
       "    <tr>\n",
       "      <th>150544</th>\n",
       "      <td>B00HJ83CYW</td>\n",
       "      <td>[3, 3]</td>\n",
       "      <td>1</td>\n",
       "      <td>I had high hopes for this bread-The Coconut Pa...</td>\n",
       "      <td>03 19, 2014</td>\n",
       "      <td>A3094EPI56GKZ6</td>\n",
       "      <td>Kristen E. Bogren \"Kristen Bogren\"</td>\n",
       "      <td>DON'T DO IT ITS HORRIBLE</td>\n",
       "      <td>1395187200</td>\n",
       "      <td>[[I, had, high, hopes, for, this, bread-The, C...</td>\n",
       "      <td>[[high, hopes, coconut, paleo], [second, loaf,...</td>\n",
       "      <td>[I, had, high, hopes, for, this, bread-The, Co...</td>\n",
       "      <td>[high, hopes, coconut, paleo, second, loaf, bo...</td>\n",
       "    </tr>\n",
       "    <tr>\n",
       "      <th>150603</th>\n",
       "      <td>B00HLVDTZE</td>\n",
       "      <td>[3, 4]</td>\n",
       "      <td>1</td>\n",
       "      <td>Why oh why I follow for suggestions for weight...</td>\n",
       "      <td>04 30, 2014</td>\n",
       "      <td>A15RFUYKBBGX5S</td>\n",
       "      <td>Debra Hughes</td>\n",
       "      <td>Dr. Oz -</td>\n",
       "      <td>1398816000</td>\n",
       "      <td>[[Why, oh, why, I, follow, for, suggestions, f...</td>\n",
       "      <td>[[oh, follow, suggestions, weight, loss, beyon...</td>\n",
       "      <td>[Why, oh, why, I, follow, for, suggestions, fo...</td>\n",
       "      <td>[oh, follow, suggestions, weight, loss, beyond...</td>\n",
       "    </tr>\n",
       "    <tr>\n",
       "      <th>150673</th>\n",
       "      <td>B00HXIXWKM</td>\n",
       "      <td>[0, 7]</td>\n",
       "      <td>1</td>\n",
       "      <td>I don't know how people are preparing this to ...</td>\n",
       "      <td>12 26, 2013</td>\n",
       "      <td>A2Y4AGDHAHIFRL</td>\n",
       "      <td>Katie Scarlet</td>\n",
       "      <td>Didn't Like It</td>\n",
       "      <td>1388016000</td>\n",
       "      <td>[[I, do, n't, know, how, people, are, preparin...</td>\n",
       "      <td>[[know, people, preparing, give, high, ratings...</td>\n",
       "      <td>[I, do, n't, know, how, people, are, preparing...</td>\n",
       "      <td>[know, people, preparing, give, high, ratings,...</td>\n",
       "    </tr>\n",
       "    <tr>\n",
       "      <th>150725</th>\n",
       "      <td>B00I33696K</td>\n",
       "      <td>[14, 22]</td>\n",
       "      <td>1</td>\n",
       "      <td>When the package arrived?  The box was damaged...</td>\n",
       "      <td>11 14, 2012</td>\n",
       "      <td>A258XI7LXU9ZG0</td>\n",
       "      <td>Larry</td>\n",
       "      <td>We love Reeses!</td>\n",
       "      <td>1352851200</td>\n",
       "      <td>[[When, the, package, arrived, ?], [The, box, ...</td>\n",
       "      <td>[[package, arrived], [box, damaged, reeses, me...</td>\n",
       "      <td>[When, the, package, arrived, ?, The, box, was...</td>\n",
       "      <td>[package, arrived, box, damaged, reeses, melte...</td>\n",
       "    </tr>\n",
       "    <tr>\n",
       "      <th>150787</th>\n",
       "      <td>B00IFHD01G</td>\n",
       "      <td>[0, 0]</td>\n",
       "      <td>1</td>\n",
       "      <td>This product does not taste like lemonade, unl...</td>\n",
       "      <td>07 19, 2014</td>\n",
       "      <td>AHSHR8WG45XRT</td>\n",
       "      <td>YA Librarian \"YA Librarian\"</td>\n",
       "      <td>Bitter aftertaste</td>\n",
       "      <td>1405728000</td>\n",
       "      <td>[[This, product, does, not, taste, like, lemon...</td>\n",
       "      <td>[[product, taste, like, lemonade, unless, lemo...</td>\n",
       "      <td>[This, product, does, not, taste, like, lemona...</td>\n",
       "      <td>[product, taste, like, lemonade, unless, lemon...</td>\n",
       "    </tr>\n",
       "    <tr>\n",
       "      <th>150788</th>\n",
       "      <td>B00IJ4JBJA</td>\n",
       "      <td>[0, 0]</td>\n",
       "      <td>1</td>\n",
       "      <td>I tried both the lean version and the escape v...</td>\n",
       "      <td>07 10, 2014</td>\n",
       "      <td>A16WPA6JV83YXT</td>\n",
       "      <td>NaN</td>\n",
       "      <td>Do not buy these as they will not brew as they...</td>\n",
       "      <td>1404950400</td>\n",
       "      <td>[[I, tried, both, the, lean, version, and, the...</td>\n",
       "      <td>[[tried, lean, version, escape, version, simpl...</td>\n",
       "      <td>[I, tried, both, the, lean, version, and, the,...</td>\n",
       "      <td>[tried, lean, version, escape, version, simply...</td>\n",
       "    </tr>\n",
       "    <tr>\n",
       "      <th>150821</th>\n",
       "      <td>B00IJ4JBJA</td>\n",
       "      <td>[0, 0]</td>\n",
       "      <td>1</td>\n",
       "      <td>First of all, the coffee tastes okay. For some...</td>\n",
       "      <td>07 10, 2014</td>\n",
       "      <td>A2ZWTFZRNQW7D5</td>\n",
       "      <td>Jeremy Storly</td>\n",
       "      <td>Natural flavors overwhelm taste, K-cups will b...</td>\n",
       "      <td>1404950400</td>\n",
       "      <td>[[First, of, all, ,, the, coffee, tastes, okay...</td>\n",
       "      <td>[[first, coffee, tastes, okay], [reason, manuf...</td>\n",
       "      <td>[First, of, all, ,, the, coffee, tastes, okay,...</td>\n",
       "      <td>[first, coffee, tastes, okay, reason, manufact...</td>\n",
       "    </tr>\n",
       "    <tr>\n",
       "      <th>150842</th>\n",
       "      <td>B00IJ4JBJA</td>\n",
       "      <td>[1, 1]</td>\n",
       "      <td>1</td>\n",
       "      <td>I wasn't very fond of the flavor of this coffe...</td>\n",
       "      <td>07 17, 2014</td>\n",
       "      <td>AXNJFYJRDK7CJ</td>\n",
       "      <td>Megan Bostic \"I like the sun, monkeys and I w...</td>\n",
       "      <td>I would rather eat a pound of X-Lax than drink...</td>\n",
       "      <td>1405555200</td>\n",
       "      <td>[[I, was, n't, very, fond, of, the, flavor, of...</td>\n",
       "      <td>[[fond, flavor, coffee, first], [give, star, m...</td>\n",
       "      <td>[I, was, n't, very, fond, of, the, flavor, of,...</td>\n",
       "      <td>[fond, flavor, coffee, first, give, star, made...</td>\n",
       "    </tr>\n",
       "    <tr>\n",
       "      <th>150850</th>\n",
       "      <td>B00IJ4JBJA</td>\n",
       "      <td>[1, 4]</td>\n",
       "      <td>1</td>\n",
       "      <td>I expected a robust flavor from a dark roast. ...</td>\n",
       "      <td>06 23, 2014</td>\n",
       "      <td>A17TASZJT6Y39D</td>\n",
       "      <td>Mr. August \"Literature lover\"</td>\n",
       "      <td>NO Taste or Flavor</td>\n",
       "      <td>1403481600</td>\n",
       "      <td>[[I, expected, a, robust, flavor, from, a, dar...</td>\n",
       "      <td>[[expected, robust, flavor, dark, roast], [sug...</td>\n",
       "      <td>[I, expected, a, robust, flavor, from, a, dark...</td>\n",
       "      <td>[expected, robust, flavor, dark, roast, sugar,...</td>\n",
       "    </tr>\n",
       "    <tr>\n",
       "      <th>150858</th>\n",
       "      <td>B00IJ4JBJA</td>\n",
       "      <td>[2, 2]</td>\n",
       "      <td>1</td>\n",
       "      <td>No! No! No! I really had high hopes for this p...</td>\n",
       "      <td>07 8, 2014</td>\n",
       "      <td>A2XAQOWHRPY98K</td>\n",
       "      <td>Rick R. Reed \"Seattle Book Lover\"</td>\n",
       "      <td>If you want an exploding K-Cup, go for it!</td>\n",
       "      <td>1404777600</td>\n",
       "      <td>[[No, !], [No, !], [No, !], [I, really, had, h...</td>\n",
       "      <td>[[], [], [], [really, high, hopes, product, fi...</td>\n",
       "      <td>[No, !, No, !, No, !, I, really, had, high, ho...</td>\n",
       "      <td>[really, high, hopes, product, first, time, us...</td>\n",
       "    </tr>\n",
       "    <tr>\n",
       "      <th>150871</th>\n",
       "      <td>B00IJ4JBJA</td>\n",
       "      <td>[0, 0]</td>\n",
       "      <td>1</td>\n",
       "      <td>Couple things that put me off about this parti...</td>\n",
       "      <td>07 23, 2014</td>\n",
       "      <td>A37JNUJSVAJKYN</td>\n",
       "      <td>V. Cummings \"victorc1978\"</td>\n",
       "      <td>Horrible!</td>\n",
       "      <td>1406073600</td>\n",
       "      <td>[[Couple, things, that, put, me, off, about, t...</td>\n",
       "      <td>[[couple, things, put, particular, taste, horr...</td>\n",
       "      <td>[Couple, things, that, put, me, off, about, th...</td>\n",
       "      <td>[couple, things, put, particular, taste, horri...</td>\n",
       "    </tr>\n",
       "    <tr>\n",
       "      <th>150890</th>\n",
       "      <td>B00IP6Y21E</td>\n",
       "      <td>[1, 1]</td>\n",
       "      <td>1</td>\n",
       "      <td>This is probably the worst oatmeal I've ever t...</td>\n",
       "      <td>06 14, 2014</td>\n",
       "      <td>ATS7LYGLUX34L</td>\n",
       "      <td>Daniel V. Reilly</td>\n",
       "      <td>Awful.</td>\n",
       "      <td>1402704000</td>\n",
       "      <td>[[This, is, probably, the, worst, oatmeal, I, ...</td>\n",
       "      <td>[[probably, worst, oatmeal, ever, get, would, ...</td>\n",
       "      <td>[This, is, probably, the, worst, oatmeal, I, '...</td>\n",
       "      <td>[probably, worst, oatmeal, ever, get, would, w...</td>\n",
       "    </tr>\n",
       "    <tr>\n",
       "      <th>150900</th>\n",
       "      <td>B00IP6Y21E</td>\n",
       "      <td>[1, 1]</td>\n",
       "      <td>1</td>\n",
       "      <td>I love microwave oatmeal.  Put the oatmeal and...</td>\n",
       "      <td>05 24, 2014</td>\n",
       "      <td>A2HZ3Z494VS1KG</td>\n",
       "      <td>g3</td>\n",
       "      <td>not worth the hassle</td>\n",
       "      <td>1400889600</td>\n",
       "      <td>[[I, love, microwave, oatmeal, .], [Put, the, ...</td>\n",
       "      <td>[[love, microwave, oatmeal], [put, oatmeal, wa...</td>\n",
       "      <td>[I, love, microwave, oatmeal, ., Put, the, oat...</td>\n",
       "      <td>[love, microwave, oatmeal, put, oatmeal, water...</td>\n",
       "    </tr>\n",
       "    <tr>\n",
       "      <th>150926</th>\n",
       "      <td>B00IP6Y21E</td>\n",
       "      <td>[1, 1]</td>\n",
       "      <td>1</td>\n",
       "      <td>So the first time I made this I was a little c...</td>\n",
       "      <td>06 18, 2014</td>\n",
       "      <td>A3LHIRT4SR3F9T</td>\n",
       "      <td>Nikki W. \"Nikki W.\"</td>\n",
       "      <td>I'll stick with my crockpot recipe.</td>\n",
       "      <td>1403049600</td>\n",
       "      <td>[[So, the, first, time, I, made, this, I, was,...</td>\n",
       "      <td>[[first, time, made, little, confused], [looke...</td>\n",
       "      <td>[So, the, first, time, I, made, this, I, was, ...</td>\n",
       "      <td>[first, time, made, little, confused, looked, ...</td>\n",
       "    </tr>\n",
       "    <tr>\n",
       "      <th>150952</th>\n",
       "      <td>B00IRL93SY</td>\n",
       "      <td>[0, 2]</td>\n",
       "      <td>1</td>\n",
       "      <td>I was expecting a nice full coffee with some b...</td>\n",
       "      <td>05 30, 2014</td>\n",
       "      <td>A35R32TA60XD57</td>\n",
       "      <td>M. Torma</td>\n",
       "      <td>Just dreadful!</td>\n",
       "      <td>1401408000</td>\n",
       "      <td>[[I, was, expecting, a, nice, full, coffee, wi...</td>\n",
       "      <td>[[expecting, nice, full, coffee, brighter, ton...</td>\n",
       "      <td>[I, was, expecting, a, nice, full, coffee, wit...</td>\n",
       "      <td>[expecting, nice, full, coffee, brighter, tone...</td>\n",
       "    </tr>\n",
       "    <tr>\n",
       "      <th>150968</th>\n",
       "      <td>B00ISQD2QM</td>\n",
       "      <td>[1, 2]</td>\n",
       "      <td>1</td>\n",
       "      <td>In all honesty, I prefer my coffee fresh roast...</td>\n",
       "      <td>07 3, 2014</td>\n",
       "      <td>AV67P142JTRAH</td>\n",
       "      <td>book reader \"mary\"</td>\n",
       "      <td>Not my cup of Joe</td>\n",
       "      <td>1404345600</td>\n",
       "      <td>[[In, all, honesty, ,, I, prefer, my, coffee, ...</td>\n",
       "      <td>[[honesty, prefer, coffee, fresh, roasted, fre...</td>\n",
       "      <td>[In, all, honesty, ,, I, prefer, my, coffee, f...</td>\n",
       "      <td>[honesty, prefer, coffee, fresh, roasted, fres...</td>\n",
       "    </tr>\n",
       "    <tr>\n",
       "      <th>150970</th>\n",
       "      <td>B00ISQD2QM</td>\n",
       "      <td>[0, 1]</td>\n",
       "      <td>1</td>\n",
       "      <td>The first cup of coffee that I drank this morn...</td>\n",
       "      <td>07 1, 2014</td>\n",
       "      <td>A2CZPM110DW516</td>\n",
       "      <td>Brian W. Fairbanks \"Brian W. Fairbanks\"</td>\n",
       "      <td>Like drinking hot water</td>\n",
       "      <td>1404172800</td>\n",
       "      <td>[[The, first, cup, of, coffee, that, I, drank,...</td>\n",
       "      <td>[[first, cup, coffee, drank, morning, instant,...</td>\n",
       "      <td>[The, first, cup, of, coffee, that, I, drank, ...</td>\n",
       "      <td>[first, cup, coffee, drank, morning, instant, ...</td>\n",
       "    </tr>\n",
       "    <tr>\n",
       "      <th>150985</th>\n",
       "      <td>B00ISVHJ3Y</td>\n",
       "      <td>[0, 0]</td>\n",
       "      <td>1</td>\n",
       "      <td>I tried this once. Once. I NEED sweetener in m...</td>\n",
       "      <td>07 21, 2014</td>\n",
       "      <td>A1C760KGFSRI6F</td>\n",
       "      <td>Alexis Coxon</td>\n",
       "      <td>Just awful</td>\n",
       "      <td>1405900800</td>\n",
       "      <td>[[I, tried, this, once, .], [Once, .], [I, NEE...</td>\n",
       "      <td>[[tried], [], [need, sweetener, coffee, ca, st...</td>\n",
       "      <td>[I, tried, this, once, ., Once, ., I, NEED, sw...</td>\n",
       "      <td>[tried, need, sweetener, coffee, ca, stand, ta...</td>\n",
       "    </tr>\n",
       "  </tbody>\n",
       "</table>\n",
       "<p>5779 rows × 13 columns</p>\n",
       "</div>"
      ],
      "text/plain": [
       "              asin   helpful  overall  \\\n",
       "9       616719923X   [0, 10]        1   \n",
       "32      B00004S1C5   [8, 11]        1   \n",
       "75      B0000CCZYY    [1, 4]        1   \n",
       "82      B0000CCZYY   [6, 11]        1   \n",
       "85      B0000CD06J    [0, 3]        1   \n",
       "162     B0000CNU1X    [0, 0]        1   \n",
       "217     B0000DGDMO    [1, 2]        1   \n",
       "265     B0000DID5R   [6, 27]        1   \n",
       "270     B0000DID5R    [3, 4]        1   \n",
       "290     B0000DID5R   [4, 24]        1   \n",
       "320     B0000DJDJZ   [8, 10]        1   \n",
       "339     B0000E5JIU    [0, 0]        1   \n",
       "354     B0000GH6UG    [2, 3]        1   \n",
       "355     B0000GH6UG   [7, 17]        1   \n",
       "361     B0000GH6UQ    [1, 7]        1   \n",
       "383     B0000GHNT0    [3, 5]        1   \n",
       "470     B0000W0GQQ   [9, 22]        1   \n",
       "495     B00012182G  [49, 55]        1   \n",
       "504     B00012182G  [63, 78]        1   \n",
       "521     B00013MY78    [1, 3]        1   \n",
       "539     B00014CZP8    [1, 3]        1   \n",
       "544     B00014CZP8    [0, 2]        1   \n",
       "565     B00014CZP8    [0, 0]        1   \n",
       "572     B00014CZP8    [5, 7]        1   \n",
       "597     B00014CZP8    [0, 1]        1   \n",
       "611     B00014CZQC  [11, 22]        1   \n",
       "613     B00014CZQC    [1, 8]        1   \n",
       "619     B00014D37W  [21, 29]        1   \n",
       "660     B00014EO2A    [4, 6]        1   \n",
       "714     B00014JNI0  [20, 34]        1   \n",
       "...            ...       ...      ...   \n",
       "150083  B00H727UU2    [1, 1]        1   \n",
       "150313  B00H8PK63G    [0, 1]        1   \n",
       "150320  B00HANG4VO    [0, 0]        1   \n",
       "150326  B00HBBYWNW    [1, 1]        1   \n",
       "150333  B00HBBYWNW    [0, 0]        1   \n",
       "150352  B00HBBYWNW    [0, 0]        1   \n",
       "150424  B00HBBYWNW    [0, 0]        1   \n",
       "150437  B00HBBYWNW    [0, 0]        1   \n",
       "150438  B00HBBYWNW    [0, 0]        1   \n",
       "150479  B00HHFWJS2    [2, 7]        1   \n",
       "150527  B00HHFWJS2    [1, 2]        1   \n",
       "150541  B00HJ83CYW    [0, 0]        1   \n",
       "150544  B00HJ83CYW    [3, 3]        1   \n",
       "150603  B00HLVDTZE    [3, 4]        1   \n",
       "150673  B00HXIXWKM    [0, 7]        1   \n",
       "150725  B00I33696K  [14, 22]        1   \n",
       "150787  B00IFHD01G    [0, 0]        1   \n",
       "150788  B00IJ4JBJA    [0, 0]        1   \n",
       "150821  B00IJ4JBJA    [0, 0]        1   \n",
       "150842  B00IJ4JBJA    [1, 1]        1   \n",
       "150850  B00IJ4JBJA    [1, 4]        1   \n",
       "150858  B00IJ4JBJA    [2, 2]        1   \n",
       "150871  B00IJ4JBJA    [0, 0]        1   \n",
       "150890  B00IP6Y21E    [1, 1]        1   \n",
       "150900  B00IP6Y21E    [1, 1]        1   \n",
       "150926  B00IP6Y21E    [1, 1]        1   \n",
       "150952  B00IRL93SY    [0, 2]        1   \n",
       "150968  B00ISQD2QM    [1, 2]        1   \n",
       "150970  B00ISQD2QM    [0, 1]        1   \n",
       "150985  B00ISVHJ3Y    [0, 0]        1   \n",
       "\n",
       "                                               reviewText   reviewTime  \\\n",
       "9       I love green tea, I love Kit Kats, but the two...  09 19, 2012   \n",
       "32      This product is no where near natural / organi...  03 29, 2013   \n",
       "75      Licorice is my favorite candy, and it promotes...   04 5, 2013   \n",
       "82      This is an awesome product, natural, not a lot...   05 7, 2013   \n",
       "85      As soon as I had a couple of sips, my eczema s...   03 6, 2013   \n",
       "162     unsure if I just got a bad batch or what...the...  01 23, 2013   \n",
       "217     Misleading.  The reason this is cheaper than t...  08 31, 2012   \n",
       "265     Well, I guess I'm the fly in this reviewer oin...  01 14, 2007   \n",
       "270     O.k., I'm going to offer a counterpoint to all...  11 11, 2012   \n",
       "290     I just tried this sauce moments ago. Someone h...   03 1, 2011   \n",
       "320     Buyer Beware Please! This sweetener is not for...  04 30, 2012   \n",
       "339     Perhaps the best coffee is in the US if this i...  03 14, 2014   \n",
       "354     When I was incarcerated in a Mexican prison, t...  12 30, 2013   \n",
       "355     When I was incarcerated in a Mexican prison, t...  01 19, 2009   \n",
       "361     I got this a few months ago with high hopes bu...  10 31, 2010   \n",
       "383     This was by far my favorite hot sauce until th...  09 22, 2013   \n",
       "470     This product is very misleading. The bottle st...  02 27, 2013   \n",
       "495     Imagine the horror my son felt as he unwrapped...  12 27, 2012   \n",
       "504     So I thought fresh meant I could eat it out of...  02 12, 2012   \n",
       "521     Decent texture and freshness but there is a no...   03 3, 2014   \n",
       "539     Stale, tastless crap. Dont bother. The hassle ...   04 6, 2012   \n",
       "544     I read where Dandelion tea could help with wei...  04 26, 2013   \n",
       "565     I bought this on a lightning deal and am very ...  02 16, 2014   \n",
       "572     if you have misgivings about magnesium stearat...  12 18, 2012   \n",
       "597     I love parsley and add it to my cooking all th...  12 13, 2012   \n",
       "611     I didn't have such luck with this product as t...  10 26, 2007   \n",
       "613     I hate the new version which is watered down w...  03 18, 2013   \n",
       "619     This is refined not unrefined. How amazing, th...  12 12, 2011   \n",
       "660     Since I'm on a limited income, I look for the ...  08 29, 2013   \n",
       "714     First let me just say..I thought about this be...  08 27, 2013   \n",
       "...                                                   ...          ...   \n",
       "150083  Definitely disappointed in the Kernel Season's...  05 21, 2014   \n",
       "150313  I will not be buying these any time soon. yuck...   05 3, 2014   \n",
       "150320  Not my cup of tea. LOL It's a weird combinatio...   07 2, 2014   \n",
       "150326  I should have known better than to think that ...   03 6, 2014   \n",
       "150333  I didn't care for this product and would not p...   03 9, 2014   \n",
       "150352  The mail lady delivered this swill today. My w...   03 3, 2014   \n",
       "150424  This is one of the worst coffees I've ever had...  02 23, 2014   \n",
       "150437  I was disappointed with almost all of the asso...  02 17, 2014   \n",
       "150438  It tastes burned and stale, like I got it at a...  03 20, 2014   \n",
       "150479  This Green Giant Vegetable Puree is not my kin...  02 25, 2014   \n",
       "150527  I ordered these to mix in with smoothies. Not ...  05 15, 2014   \n",
       "150541  I tried toasting this and adding a lot of Kerr...  05 29, 2014   \n",
       "150544  I had high hopes for this bread-The Coconut Pa...  03 19, 2014   \n",
       "150603  Why oh why I follow for suggestions for weight...  04 30, 2014   \n",
       "150673  I don't know how people are preparing this to ...  12 26, 2013   \n",
       "150725  When the package arrived?  The box was damaged...  11 14, 2012   \n",
       "150787  This product does not taste like lemonade, unl...  07 19, 2014   \n",
       "150788  I tried both the lean version and the escape v...  07 10, 2014   \n",
       "150821  First of all, the coffee tastes okay. For some...  07 10, 2014   \n",
       "150842  I wasn't very fond of the flavor of this coffe...  07 17, 2014   \n",
       "150850  I expected a robust flavor from a dark roast. ...  06 23, 2014   \n",
       "150858  No! No! No! I really had high hopes for this p...   07 8, 2014   \n",
       "150871  Couple things that put me off about this parti...  07 23, 2014   \n",
       "150890  This is probably the worst oatmeal I've ever t...  06 14, 2014   \n",
       "150900  I love microwave oatmeal.  Put the oatmeal and...  05 24, 2014   \n",
       "150926  So the first time I made this I was a little c...  06 18, 2014   \n",
       "150952  I was expecting a nice full coffee with some b...  05 30, 2014   \n",
       "150968  In all honesty, I prefer my coffee fresh roast...   07 3, 2014   \n",
       "150970  The first cup of coffee that I drank this morn...   07 1, 2014   \n",
       "150985  I tried this once. Once. I NEED sweetener in m...  07 21, 2014   \n",
       "\n",
       "            reviewerID                                      reviewerName  \\\n",
       "9       A33NXNZ79H5K51                                       Jean M \"JM\"   \n",
       "32      A14YSMLYLJEMET                                   Amazon Customer   \n",
       "75      A3OH4OZFZGEH75                                   Amazon Customer   \n",
       "82        A2OUNVRPRWH0                               The Kittie \"Kittie\"   \n",
       "85       AX04H2SPKO02S                                 J. Wang \"jyswang\"   \n",
       "162     A1M9L949MA66I3                                       orlandodawg   \n",
       "217     A30JPZ9TZ7I61U                  Christopher Barrett \"Evil Corgi\"   \n",
       "265     A34PAZQ73SL163                   Bernard Chapin \"Ora Et Labora!\"   \n",
       "270     A2MPW1R13SHA2S                                        Dangrenade   \n",
       "290     A3FHWQ3H3ZT2YE            Patrice M. Christian \"Trixie.in.Dixie\"   \n",
       "320     A25VFHVGI4CFTP                                    Diana Robinson   \n",
       "339      AHRKNAVOFIQG0                     TruthMatters \"Truth Can Help\"   \n",
       "354     A3L61G6N7AT8N2  Bartok Kinski \"A casual stroll through the lu...   \n",
       "355      AI0NMYA3LKXW1  Bartok Kinski \"A casual stroll through the lu...   \n",
       "361     A29QXI9MWCVO7Q                from Hampton, VA \"amazon customer\"   \n",
       "383      A6KWQKOHSFYQC                                         M. Pearce   \n",
       "470     A35Q0JH999NPN0                                                JS   \n",
       "495     A2GA64WZK8PKBC                                          Cat Feet   \n",
       "504      A7WH560VVUXB2                                    Kevin M. Derby   \n",
       "521      AD2QRU9ZXBQZ1                                    Domestic Gnome   \n",
       "539     A2WNN1DQVL4LH5                                          Caddycat   \n",
       "544     A2F0ROXOUD8890                                        Curly Blue   \n",
       "565     A3CI9DSB6Z76JF                                 LB \"Helfenfreude\"   \n",
       "572     A2R62KGNIF8DX6                                       Moon Glough   \n",
       "597      AI20XOYZ8L6LJ                                 Susy \"Pixiebrush\"   \n",
       "611     A2DB720I9XRX7K                                         K. Draper   \n",
       "613       A844QT2C8NQC                                            punkin   \n",
       "619     A2XKJ1KX6XUHYP                                              NYFB   \n",
       "660     A1OXH6BF4LJEVH                                        Penny Duff   \n",
       "714     A1LPAJPQYR6M19                                            Laurie   \n",
       "...                ...                                               ...   \n",
       "150083  A2QR043WBXXX6L                                Stephen Cunningham   \n",
       "150313  A28SSSEO1HPAVT                                   Richard knutson   \n",
       "150320   A8KKLML9M0S1G                             L REN \"laurenelise00\"   \n",
       "150326  A3OE8046KWT42B                                   Amazon Customer   \n",
       "150333  A12FPG5P7T0IMA                                        Bonner '62   \n",
       "150352  A100WO06OQR8BQ                                      Duffer. \"Bo\"   \n",
       "150424   AS44QEHT3KSPK                                         slaphappy   \n",
       "150437  A1PB1BJSULOG4L                                           USTVMAN   \n",
       "150438  A1IW1ANBV0DPVI                                               Vee   \n",
       "150479  A1D9V11QUHXENQ                              Big Al \"Alan Rivire\"   \n",
       "150527   AEUY5C51JAWWH                                      Scout Leader   \n",
       "150541   AD6GX7BKC4VTX                                           BV \"BV\"   \n",
       "150544  A3094EPI56GKZ6                Kristen E. Bogren \"Kristen Bogren\"   \n",
       "150603  A15RFUYKBBGX5S                                      Debra Hughes   \n",
       "150673  A2Y4AGDHAHIFRL                                     Katie Scarlet   \n",
       "150725  A258XI7LXU9ZG0                                             Larry   \n",
       "150787   AHSHR8WG45XRT                       YA Librarian \"YA Librarian\"   \n",
       "150788  A16WPA6JV83YXT                                               NaN   \n",
       "150821  A2ZWTFZRNQW7D5                                     Jeremy Storly   \n",
       "150842   AXNJFYJRDK7CJ  Megan Bostic \"I like the sun, monkeys and I w...   \n",
       "150850  A17TASZJT6Y39D                     Mr. August \"Literature lover\"   \n",
       "150858  A2XAQOWHRPY98K                 Rick R. Reed \"Seattle Book Lover\"   \n",
       "150871  A37JNUJSVAJKYN                         V. Cummings \"victorc1978\"   \n",
       "150890   ATS7LYGLUX34L                                  Daniel V. Reilly   \n",
       "150900  A2HZ3Z494VS1KG                                                g3   \n",
       "150926  A3LHIRT4SR3F9T                               Nikki W. \"Nikki W.\"   \n",
       "150952  A35R32TA60XD57                                          M. Torma   \n",
       "150968   AV67P142JTRAH                                book reader \"mary\"   \n",
       "150970  A2CZPM110DW516           Brian W. Fairbanks \"Brian W. Fairbanks\"   \n",
       "150985  A1C760KGFSRI6F                                      Alexis Coxon   \n",
       "\n",
       "                                                  summary  unixReviewTime  \\\n",
       "9                                               Not a fan      1348012800   \n",
       "32                             Not natural/organic at all      1364515200   \n",
       "75      Not soft at all. Basically same as cheap licor...      1365120000   \n",
       "82                                       Love this candy!      1367884800   \n",
       "85                                        NOT gluten free      1362528000   \n",
       "162                                              Not good      1358899200   \n",
       "217           Why is the picture showing the 24 pack?????      1346371200   \n",
       "265                                 The Only One I Avoid.      1168732800   \n",
       "270                        Unpleasant Heat, and No Flavor      1352592000   \n",
       "290                    Maybe my taste buds are different.      1298937600   \n",
       "320                  Warning!  WARNING!  -ALCOHOL SUGARS!      1335744000   \n",
       "339     So this is what French coffee tastes like???  ...      1394755200   \n",
       "354                                        taste is awful      1388361600   \n",
       "355                                        taste is awful      1232323200   \n",
       "361                                               Just OK      1288483200   \n",
       "383                                          Full of lead      1379808000   \n",
       "470                       Sugar Paste with vanilla flavor      1361923200   \n",
       "495                                      Not a plush toy!      1356566400   \n",
       "504                                 Read the Instructions      1329004800   \n",
       "521        Chemical/industrial/medicinal aroma and flavor      1393804800   \n",
       "539                       Pond water would taste better..      1333670400   \n",
       "544                                          Couldn't use      1366934400   \n",
       "565     Poor quality tea full of sharp hay-like bitter...      1392508800   \n",
       "572                     magnesium stearate abounds within      1355788800   \n",
       "597                                                  Yuck      1355356800   \n",
       "611                                           Rough Stuff      1193356800   \n",
       "613                             New version DOES NOT WORK      1363564800   \n",
       "619                                         Misleading...      1323648000   \n",
       "660      If you're going to make jello, avoid this stuff!      1377734400   \n",
       "714                                                UPSET!      1377561600   \n",
       "...                                                   ...             ...   \n",
       "150083                            Nope.  Not my nacho....      1400630400   \n",
       "150313                                      full of sugar      1399075200   \n",
       "150320                                           One Star      1404259200   \n",
       "150326            Coffee For People Who Don't Like Coffee      1394064000   \n",
       "150333                                    Sleazy Is Right      1394323200   \n",
       "150352                                            Hogwash      1393804800   \n",
       "150424                                              awful      1393113600   \n",
       "150437                                    Wimpy stuff....      1392595200   \n",
       "150438                                   So gross. Avoid!      1395273600   \n",
       "150479                                          Baby food      1393286400   \n",
       "150527                                            Eww....      1400112000   \n",
       "150541                                        Made me gag      1401321600   \n",
       "150544                           DON'T DO IT ITS HORRIBLE      1395187200   \n",
       "150603                                           Dr. Oz -      1398816000   \n",
       "150673                                     Didn't Like It      1388016000   \n",
       "150725                                    We love Reeses!      1352851200   \n",
       "150787                                  Bitter aftertaste      1405728000   \n",
       "150788  Do not buy these as they will not brew as they...      1404950400   \n",
       "150821  Natural flavors overwhelm taste, K-cups will b...      1404950400   \n",
       "150842  I would rather eat a pound of X-Lax than drink...      1405555200   \n",
       "150850                                 NO Taste or Flavor      1403481600   \n",
       "150858         If you want an exploding K-Cup, go for it!      1404777600   \n",
       "150871                                          Horrible!      1406073600   \n",
       "150890                                             Awful.      1402704000   \n",
       "150900                               not worth the hassle      1400889600   \n",
       "150926                I'll stick with my crockpot recipe.      1403049600   \n",
       "150952                                     Just dreadful!      1401408000   \n",
       "150968                                  Not my cup of Joe      1404345600   \n",
       "150970                            Like drinking hot water      1404172800   \n",
       "150985                                         Just awful      1405900800   \n",
       "\n",
       "                                          tokenized_sents  \\\n",
       "9       [[I, love, green, tea, ,, I, love, Kit, Kats, ...   \n",
       "32      [[This, product, is, no, where, near, natural,...   \n",
       "75      [[Licorice, is, my, favorite, candy, ,, and, i...   \n",
       "82      [[This, is, an, awesome, product, ,, natural, ...   \n",
       "85      [[As, soon, as, I, had, a, couple, of, sips, ,...   \n",
       "162     [[unsure, if, I, just, got, a, bad, batch, or,...   \n",
       "217     [[Misleading, .], [The, reason, this, is, chea...   \n",
       "265     [[Well, ,, I, guess, I, 'm, the, fly, in, this...   \n",
       "270     [[O.k., ,, I, 'm, going, to, offer, a, counter...   \n",
       "290     [[I, just, tried, this, sauce, moments, ago, ....   \n",
       "320     [[Buyer, Beware, Please, !], [This, sweetener,...   \n",
       "339     [[Perhaps, the, best, coffee, is, in, the, US,...   \n",
       "354     [[When, I, was, incarcerated, in, a, Mexican, ...   \n",
       "355     [[When, I, was, incarcerated, in, a, Mexican, ...   \n",
       "361     [[I, got, this, a, few, months, ago, with, hig...   \n",
       "383     [[This, was, by, far, my, favorite, hot, sauce...   \n",
       "470     [[This, product, is, very, misleading, .], [Th...   \n",
       "495     [[Imagine, the, horror, my, son, felt, as, he,...   \n",
       "504     [[So, I, thought, fresh, meant, I, could, eat,...   \n",
       "521     [[Decent, texture, and, freshness, but, there,...   \n",
       "539     [[Stale, ,, tastless, crap, .], [Dont, bother,...   \n",
       "544     [[I, read, where, Dandelion, tea, could, help,...   \n",
       "565     [[I, bought, this, on, a, lightning, deal, and...   \n",
       "572     [[if, you, have, misgivings, about, magnesium,...   \n",
       "597     [[I, love, parsley, and, add, it, to, my, cook...   \n",
       "611     [[I, did, n't, have, such, luck, with, this, p...   \n",
       "613     [[I, hate, the, new, version, which, is, water...   \n",
       "619     [[This, is, refined, not, unrefined, .], [How,...   \n",
       "660     [[Since, I, 'm, on, a, limited, income, ,, I, ...   \n",
       "714     [[First, let, me, just, say..I, thought, about...   \n",
       "...                                                   ...   \n",
       "150083  [[Definitely, disappointed, in, the, Kernel, S...   \n",
       "150313  [[I, will, not, be, buying, these, any, time, ...   \n",
       "150320  [[Not, my, cup, of, tea, .], [LOL, It, 's, a, ...   \n",
       "150326  [[I, should, have, known, better, than, to, th...   \n",
       "150333  [[I, did, n't, care, for, this, product, and, ...   \n",
       "150352  [[The, mail, lady, delivered, this, swill, tod...   \n",
       "150424  [[This, is, one, of, the, worst, coffees, I, '...   \n",
       "150437  [[I, was, disappointed, with, almost, all, of,...   \n",
       "150438  [[It, tastes, burned, and, stale, ,, like, I, ...   \n",
       "150479  [[This, Green, Giant, Vegetable, Puree, is, no...   \n",
       "150527  [[I, ordered, these, to, mix, in, with, smooth...   \n",
       "150541  [[I, tried, toasting, this, and, adding, a, lo...   \n",
       "150544  [[I, had, high, hopes, for, this, bread-The, C...   \n",
       "150603  [[Why, oh, why, I, follow, for, suggestions, f...   \n",
       "150673  [[I, do, n't, know, how, people, are, preparin...   \n",
       "150725  [[When, the, package, arrived, ?], [The, box, ...   \n",
       "150787  [[This, product, does, not, taste, like, lemon...   \n",
       "150788  [[I, tried, both, the, lean, version, and, the...   \n",
       "150821  [[First, of, all, ,, the, coffee, tastes, okay...   \n",
       "150842  [[I, was, n't, very, fond, of, the, flavor, of...   \n",
       "150850  [[I, expected, a, robust, flavor, from, a, dar...   \n",
       "150858  [[No, !], [No, !], [No, !], [I, really, had, h...   \n",
       "150871  [[Couple, things, that, put, me, off, about, t...   \n",
       "150890  [[This, is, probably, the, worst, oatmeal, I, ...   \n",
       "150900  [[I, love, microwave, oatmeal, .], [Put, the, ...   \n",
       "150926  [[So, the, first, time, I, made, this, I, was,...   \n",
       "150952  [[I, was, expecting, a, nice, full, coffee, wi...   \n",
       "150968  [[In, all, honesty, ,, I, prefer, my, coffee, ...   \n",
       "150970  [[The, first, cup, of, coffee, that, I, drank,...   \n",
       "150985  [[I, tried, this, once, .], [Once, .], [I, NEE...   \n",
       "\n",
       "                                         normalized_sents  \\\n",
       "9       [[love, green, tea, love, kit, kats, two, belo...   \n",
       "32      [[product, near, natural, wish, seen, reviews,...   \n",
       "75      [[licorice, favorite, candy, promotes, good, d...   \n",
       "82      [[awesome, product, natural, lot, ingredients,...   \n",
       "85      [[soon, couple, sips, eczema, started, uncontr...   \n",
       "162     [[unsure, got, bad, batch, flavor, bland, neve...   \n",
       "217     [[misleading], [reason, cheaper, flavors, pack...   \n",
       "265     [[well, guess, fly, reviewer, ointment, dave, ...   \n",
       "270     [[going, offer, counterpoint, positive, review...   \n",
       "290     [[tried, sauce, moments, ago], [someone, broug...   \n",
       "320     [[buyer, beware, please], [sweetener, everybod...   \n",
       "339     [[perhaps, best, coffee, us, example], [really...   \n",
       "354     [[incarcerated, mexican, prison, drink, joint]...   \n",
       "355     [[incarcerated, mexican, prison, drink, joint]...   \n",
       "361     [[got, months, ago, high, hopes, barely, ok, k...   \n",
       "383     [[far, favorite, hot, sauce, university, nevad...   \n",
       "470     [[product, misleading], [bottle, states, pure,...   \n",
       "495     [[imagine, horror, son, felt, unwrapped, chris...   \n",
       "504     [[thought, fresh, meant, could, eat, box, much...   \n",
       "521     [[decent, texture, freshness, noticeably, indu...   \n",
       "539     [[stale, tastless, crap], [dont, bother], [has...   \n",
       "544     [[read, dandelion, tea, could, help, weight, l...   \n",
       "565     [[bought, lightning, deal, disappointed], [wan...   \n",
       "572     [[misgivings, magnesium, stearate, buy, produc...   \n",
       "597     [[love, parsley, add, cooking, time], [thought...   \n",
       "611     [[luck, product, reviewers, unfortunately, got...   \n",
       "613     [[hate, new, version, watered, chamomile, effe...   \n",
       "619     [[refined, unrefined], [amazing, seller, provi...   \n",
       "660     [[since, limited, income, look, best, price, g...   \n",
       "714     [[first, let, thought, wrote, review, taking, ...   \n",
       "...                                                   ...   \n",
       "150083  [[definitely, disappointed, kernel, season, na...   \n",
       "150313  [[buying, time, soon], [yuck], [taste, right, ...   \n",
       "150320  [[cup, tea], [lol, weird, combination, opinion...   \n",
       "150326  [[known, better, think, coffee, marketed, tv, ...   \n",
       "150333  [[care, product, would, purchase], [tasted, wa...   \n",
       "150352  [[mail, lady, delivered, swill, today], [wife,...   \n",
       "150424  [[one, worst, coffees, ever], [tasted, old, we...   \n",
       "150437  [[disappointed, almost, assorted, flavors], [s...   \n",
       "150438  [[tastes, burned, stale, like, got, gas, stati...   \n",
       "150479  [[green, giant, vegetable, puree, kind, veggie...   \n",
       "150527  [[ordered, mix, smoothies], [product, unappeti...   \n",
       "150541  [[tried, toasting, adding, lot, kerrigold, but...   \n",
       "150544  [[high, hopes, coconut, paleo], [second, loaf,...   \n",
       "150603  [[oh, follow, suggestions, weight, loss, beyon...   \n",
       "150673  [[know, people, preparing, give, high, ratings...   \n",
       "150725  [[package, arrived], [box, damaged, reeses, me...   \n",
       "150787  [[product, taste, like, lemonade, unless, lemo...   \n",
       "150788  [[tried, lean, version, escape, version, simpl...   \n",
       "150821  [[first, coffee, tastes, okay], [reason, manuf...   \n",
       "150842  [[fond, flavor, coffee, first], [give, star, m...   \n",
       "150850  [[expected, robust, flavor, dark, roast], [sug...   \n",
       "150858  [[], [], [], [really, high, hopes, product, fi...   \n",
       "150871  [[couple, things, put, particular, taste, horr...   \n",
       "150890  [[probably, worst, oatmeal, ever, get, would, ...   \n",
       "150900  [[love, microwave, oatmeal], [put, oatmeal, wa...   \n",
       "150926  [[first, time, made, little, confused], [looke...   \n",
       "150952  [[expecting, nice, full, coffee, brighter, ton...   \n",
       "150968  [[honesty, prefer, coffee, fresh, roasted, fre...   \n",
       "150970  [[first, cup, coffee, drank, morning, instant,...   \n",
       "150985  [[tried], [], [need, sweetener, coffee, ca, st...   \n",
       "\n",
       "                                          tokenized_words  \\\n",
       "9       [I, love, green, tea, ,, I, love, Kit, Kats, ,...   \n",
       "32      [This, product, is, no, where, near, natural, ...   \n",
       "75      [Licorice, is, my, favorite, candy, ,, and, it...   \n",
       "82      [This, is, an, awesome, product, ,, natural, ,...   \n",
       "85      [As, soon, as, I, had, a, couple, of, sips, ,,...   \n",
       "162     [unsure, if, I, just, got, a, bad, batch, or, ...   \n",
       "217     [Misleading, ., The, reason, this, is, cheaper...   \n",
       "265     [Well, ,, I, guess, I, 'm, the, fly, in, this,...   \n",
       "270     [O.k., ,, I, 'm, going, to, offer, a, counterp...   \n",
       "290     [I, just, tried, this, sauce, moments, ago, .,...   \n",
       "320     [Buyer, Beware, Please, !, This, sweetener, is...   \n",
       "339     [Perhaps, the, best, coffee, is, in, the, US, ...   \n",
       "354     [When, I, was, incarcerated, in, a, Mexican, p...   \n",
       "355     [When, I, was, incarcerated, in, a, Mexican, p...   \n",
       "361     [I, got, this, a, few, months, ago, with, high...   \n",
       "383     [This, was, by, far, my, favorite, hot, sauce,...   \n",
       "470     [This, product, is, very, misleading, ., The, ...   \n",
       "495     [Imagine, the, horror, my, son, felt, as, he, ...   \n",
       "504     [So, I, thought, fresh, meant, I, could, eat, ...   \n",
       "521     [Decent, texture, and, freshness, but, there, ...   \n",
       "539     [Stale, ,, tastless, crap, ., Dont, bother, .,...   \n",
       "544     [I, read, where, Dandelion, tea, could, help, ...   \n",
       "565     [I, bought, this, on, a, lightning, deal, and,...   \n",
       "572     [if, you, have, misgivings, about, magnesium, ...   \n",
       "597     [I, love, parsley, and, add, it, to, my, cooki...   \n",
       "611     [I, did, n't, have, such, luck, with, this, pr...   \n",
       "613     [I, hate, the, new, version, which, is, watere...   \n",
       "619     [This, is, refined, not, unrefined, ., How, am...   \n",
       "660     [Since, I, 'm, on, a, limited, income, ,, I, l...   \n",
       "714     [First, let, me, just, say..I, thought, about,...   \n",
       "...                                                   ...   \n",
       "150083  [Definitely, disappointed, in, the, Kernel, Se...   \n",
       "150313  [I, will, not, be, buying, these, any, time, s...   \n",
       "150320  [Not, my, cup, of, tea, ., LOL, It, 's, a, wei...   \n",
       "150326  [I, should, have, known, better, than, to, thi...   \n",
       "150333  [I, did, n't, care, for, this, product, and, w...   \n",
       "150352  [The, mail, lady, delivered, this, swill, toda...   \n",
       "150424  [This, is, one, of, the, worst, coffees, I, 'v...   \n",
       "150437  [I, was, disappointed, with, almost, all, of, ...   \n",
       "150438  [It, tastes, burned, and, stale, ,, like, I, g...   \n",
       "150479  [This, Green, Giant, Vegetable, Puree, is, not...   \n",
       "150527  [I, ordered, these, to, mix, in, with, smoothi...   \n",
       "150541  [I, tried, toasting, this, and, adding, a, lot...   \n",
       "150544  [I, had, high, hopes, for, this, bread-The, Co...   \n",
       "150603  [Why, oh, why, I, follow, for, suggestions, fo...   \n",
       "150673  [I, do, n't, know, how, people, are, preparing...   \n",
       "150725  [When, the, package, arrived, ?, The, box, was...   \n",
       "150787  [This, product, does, not, taste, like, lemona...   \n",
       "150788  [I, tried, both, the, lean, version, and, the,...   \n",
       "150821  [First, of, all, ,, the, coffee, tastes, okay,...   \n",
       "150842  [I, was, n't, very, fond, of, the, flavor, of,...   \n",
       "150850  [I, expected, a, robust, flavor, from, a, dark...   \n",
       "150858  [No, !, No, !, No, !, I, really, had, high, ho...   \n",
       "150871  [Couple, things, that, put, me, off, about, th...   \n",
       "150890  [This, is, probably, the, worst, oatmeal, I, '...   \n",
       "150900  [I, love, microwave, oatmeal, ., Put, the, oat...   \n",
       "150926  [So, the, first, time, I, made, this, I, was, ...   \n",
       "150952  [I, was, expecting, a, nice, full, coffee, wit...   \n",
       "150968  [In, all, honesty, ,, I, prefer, my, coffee, f...   \n",
       "150970  [The, first, cup, of, coffee, that, I, drank, ...   \n",
       "150985  [I, tried, this, once, ., Once, ., I, NEED, sw...   \n",
       "\n",
       "                                         normalized_words  \n",
       "9       [love, green, tea, love, kit, kats, two, belon...  \n",
       "32      [product, near, natural, wish, seen, reviews, ...  \n",
       "75      [licorice, favorite, candy, promotes, good, di...  \n",
       "82      [awesome, product, natural, lot, ingredients, ...  \n",
       "85      [soon, couple, sips, eczema, started, uncontro...  \n",
       "162     [unsure, got, bad, batch, flavor, bland, never...  \n",
       "217     [misleading, reason, cheaper, flavors, pack, w...  \n",
       "265     [well, guess, fly, reviewer, ointment, dave, h...  \n",
       "270     [going, offer, counterpoint, positive, reviews...  \n",
       "290     [tried, sauce, moments, ago, someone, brought,...  \n",
       "320     [buyer, beware, please, sweetener, everybody, ...  \n",
       "339     [perhaps, best, coffee, us, example, really, f...  \n",
       "354     [incarcerated, mexican, prison, drink, joint, ...  \n",
       "355     [incarcerated, mexican, prison, drink, joint, ...  \n",
       "361     [got, months, ago, high, hopes, barely, ok, ki...  \n",
       "383     [far, favorite, hot, sauce, university, nevada...  \n",
       "470     [product, misleading, bottle, states, pure, va...  \n",
       "495     [imagine, horror, son, felt, unwrapped, christ...  \n",
       "504     [thought, fresh, meant, could, eat, box, much,...  \n",
       "521     [decent, texture, freshness, noticeably, indus...  \n",
       "539     [stale, tastless, crap, dont, bother, hassle, ...  \n",
       "544     [read, dandelion, tea, could, help, weight, lo...  \n",
       "565     [bought, lightning, deal, disappointed, want, ...  \n",
       "572     [misgivings, magnesium, stearate, buy, product...  \n",
       "597     [love, parsley, add, cooking, time, thought, l...  \n",
       "611     [luck, product, reviewers, unfortunately, got,...  \n",
       "613     [hate, new, version, watered, chamomile, effec...  \n",
       "619     [refined, unrefined, amazing, seller, provide,...  \n",
       "660     [since, limited, income, look, best, price, ge...  \n",
       "714     [first, let, thought, wrote, review, taking, t...  \n",
       "...                                                   ...  \n",
       "150083  [definitely, disappointed, kernel, season, nac...  \n",
       "150313  [buying, time, soon, yuck, taste, right, poor,...  \n",
       "150320  [cup, tea, lol, weird, combination, opinion, tho]  \n",
       "150326  [known, better, think, coffee, marketed, tv, s...  \n",
       "150333  [care, product, would, purchase, tasted, water...  \n",
       "150352  [mail, lady, delivered, swill, today, wife, br...  \n",
       "150424  [one, worst, coffees, ever, tasted, old, weak,...  \n",
       "150437  [disappointed, almost, assorted, flavors, stan...  \n",
       "150438  [tastes, burned, stale, like, got, gas, statio...  \n",
       "150479  [green, giant, vegetable, puree, kind, veggies...  \n",
       "150527  [ordered, mix, smoothies, product, unappetizin...  \n",
       "150541  [tried, toasting, adding, lot, kerrigold, butt...  \n",
       "150544  [high, hopes, coconut, paleo, second, loaf, bo...  \n",
       "150603  [oh, follow, suggestions, weight, loss, beyond...  \n",
       "150673  [know, people, preparing, give, high, ratings,...  \n",
       "150725  [package, arrived, box, damaged, reeses, melte...  \n",
       "150787  [product, taste, like, lemonade, unless, lemon...  \n",
       "150788  [tried, lean, version, escape, version, simply...  \n",
       "150821  [first, coffee, tastes, okay, reason, manufact...  \n",
       "150842  [fond, flavor, coffee, first, give, star, made...  \n",
       "150850  [expected, robust, flavor, dark, roast, sugar,...  \n",
       "150858  [really, high, hopes, product, first, time, us...  \n",
       "150871  [couple, things, put, particular, taste, horri...  \n",
       "150890  [probably, worst, oatmeal, ever, get, would, w...  \n",
       "150900  [love, microwave, oatmeal, put, oatmeal, water...  \n",
       "150926  [first, time, made, little, confused, looked, ...  \n",
       "150952  [expecting, nice, full, coffee, brighter, tone...  \n",
       "150968  [honesty, prefer, coffee, fresh, roasted, fres...  \n",
       "150970  [first, cup, coffee, drank, morning, instant, ...  \n",
       "150985  [tried, need, sweetener, coffee, ca, stand, ta...  \n",
       "\n",
       "[5779 rows x 13 columns]"
      ]
     },
     "execution_count": 23,
     "metadata": {},
     "output_type": "execute_result"
    }
   ],
   "source": [
    "amazonRev1DF['tokenized_words'] = amazonRev1DF['reviewText'].apply(lambda x: nltk.word_tokenize(x))\n",
    "amazonRev1DF['normalized_words'] = amazonRev1DF['tokenized_words'].apply(lambda x: lucem_illud.normalizeTokens(x, stopwordLst = lucem_illud.stop_words_basic, stemmer = None))\n",
    "amazonRev1DF"
   ]
  },
  {
   "cell_type": "code",
   "execution_count": 24,
   "metadata": {},
   "outputs": [
    {
     "name": "stderr",
     "output_type": "stream",
     "text": [
      "/Users/arielazar/anaconda3/lib/python3.6/site-packages/ipykernel_launcher.py:1: SettingWithCopyWarning: \n",
      "A value is trying to be set on a copy of a slice from a DataFrame.\n",
      "Try using .loc[row_indexer,col_indexer] = value instead\n",
      "\n",
      "See the caveats in the documentation: http://pandas.pydata.org/pandas-docs/stable/indexing.html#indexing-view-versus-copy\n",
      "  \"\"\"Entry point for launching an IPython kernel.\n",
      "/Users/arielazar/anaconda3/lib/python3.6/site-packages/ipykernel_launcher.py:2: SettingWithCopyWarning: \n",
      "A value is trying to be set on a copy of a slice from a DataFrame.\n",
      "Try using .loc[row_indexer,col_indexer] = value instead\n",
      "\n",
      "See the caveats in the documentation: http://pandas.pydata.org/pandas-docs/stable/indexing.html#indexing-view-versus-copy\n",
      "  \n"
     ]
    },
    {
     "data": {
      "text/html": [
       "<div>\n",
       "<style scoped>\n",
       "    .dataframe tbody tr th:only-of-type {\n",
       "        vertical-align: middle;\n",
       "    }\n",
       "\n",
       "    .dataframe tbody tr th {\n",
       "        vertical-align: top;\n",
       "    }\n",
       "\n",
       "    .dataframe thead th {\n",
       "        text-align: right;\n",
       "    }\n",
       "</style>\n",
       "<table border=\"1\" class=\"dataframe\">\n",
       "  <thead>\n",
       "    <tr style=\"text-align: right;\">\n",
       "      <th></th>\n",
       "      <th>asin</th>\n",
       "      <th>helpful</th>\n",
       "      <th>overall</th>\n",
       "      <th>reviewText</th>\n",
       "      <th>reviewTime</th>\n",
       "      <th>reviewerID</th>\n",
       "      <th>reviewerName</th>\n",
       "      <th>summary</th>\n",
       "      <th>unixReviewTime</th>\n",
       "      <th>tokenized_sents</th>\n",
       "      <th>normalized_sents</th>\n",
       "      <th>tokenized_words</th>\n",
       "      <th>normalized_words</th>\n",
       "    </tr>\n",
       "  </thead>\n",
       "  <tbody>\n",
       "    <tr>\n",
       "      <th>3</th>\n",
       "      <td>616719923X</td>\n",
       "      <td>[0, 0]</td>\n",
       "      <td>5</td>\n",
       "      <td>I had never had it before, was curious to see ...</td>\n",
       "      <td>05 20, 2013</td>\n",
       "      <td>A31QY5TASILE89</td>\n",
       "      <td>DebraDownSth</td>\n",
       "      <td>Unexpected flavor meld</td>\n",
       "      <td>1369008000</td>\n",
       "      <td>[[I, had, never, had, it, before, ,, was, curi...</td>\n",
       "      <td>[[never, curious, see, like], [smooth, great, ...</td>\n",
       "      <td>[I, had, never, had, it, before, ,, was, curio...</td>\n",
       "      <td>[never, curious, see, like, smooth, great, sub...</td>\n",
       "    </tr>\n",
       "    <tr>\n",
       "      <th>7</th>\n",
       "      <td>616719923X</td>\n",
       "      <td>[2, 3]</td>\n",
       "      <td>5</td>\n",
       "      <td>Creamy white chocolate infused with Matcha gre...</td>\n",
       "      <td>07 5, 2013</td>\n",
       "      <td>A3FIVHUOGMUMPK</td>\n",
       "      <td>greenlife</td>\n",
       "      <td>So Delicious!!</td>\n",
       "      <td>1372982400</td>\n",
       "      <td>[[Creamy, white, chocolate, infused, with, Mat...</td>\n",
       "      <td>[[creamy, white, chocolate, infused, matcha, g...</td>\n",
       "      <td>[Creamy, white, chocolate, infused, with, Matc...</td>\n",
       "      <td>[creamy, white, chocolate, infused, matcha, gr...</td>\n",
       "    </tr>\n",
       "    <tr>\n",
       "      <th>8</th>\n",
       "      <td>616719923X</td>\n",
       "      <td>[0, 0]</td>\n",
       "      <td>5</td>\n",
       "      <td>After hearing mixed opinions about these Kit K...</td>\n",
       "      <td>06 14, 2013</td>\n",
       "      <td>A27FSPAMTQF1J8</td>\n",
       "      <td>Japhyl</td>\n",
       "      <td>These are my favorite candies ever!</td>\n",
       "      <td>1371168000</td>\n",
       "      <td>[[After, hearing, mixed, opinions, about, thes...</td>\n",
       "      <td>[[hearing, mixed, opinions, kit, kats, decided...</td>\n",
       "      <td>[After, hearing, mixed, opinions, about, these...</td>\n",
       "      <td>[hearing, mixed, opinions, kit, kats, decided,...</td>\n",
       "    </tr>\n",
       "    <tr>\n",
       "      <th>10</th>\n",
       "      <td>616719923X</td>\n",
       "      <td>[6, 8]</td>\n",
       "      <td>5</td>\n",
       "      <td>I ordered these in Summer so they of course ar...</td>\n",
       "      <td>10 2, 2013</td>\n",
       "      <td>A220GN2X2R47JE</td>\n",
       "      <td>Jeremy</td>\n",
       "      <td>Amazing!</td>\n",
       "      <td>1380672000</td>\n",
       "      <td>[[I, ordered, these, in, Summer, so, they, of,...</td>\n",
       "      <td>[[ordered, summer, course, arrived, melted, tr...</td>\n",
       "      <td>[I, ordered, these, in, Summer, so, they, of, ...</td>\n",
       "      <td>[ordered, summer, course, arrived, melted, tri...</td>\n",
       "    </tr>\n",
       "    <tr>\n",
       "      <th>11</th>\n",
       "      <td>616719923X</td>\n",
       "      <td>[2, 3]</td>\n",
       "      <td>5</td>\n",
       "      <td>These are definitely THE BEST candy bar out th...</td>\n",
       "      <td>05 26, 2013</td>\n",
       "      <td>A3C5Z05IKSSFB9</td>\n",
       "      <td>M. Magpoc \"maliasuperstar\"</td>\n",
       "      <td>I wish I could find these in a store instead o...</td>\n",
       "      <td>1369526400</td>\n",
       "      <td>[[These, are, definitely, THE, BEST, candy, ba...</td>\n",
       "      <td>[[definitely, best, candy, bar], [wish, able, ...</td>\n",
       "      <td>[These, are, definitely, THE, BEST, candy, bar...</td>\n",
       "      <td>[definitely, best, candy, bar, wish, able, fin...</td>\n",
       "    </tr>\n",
       "    <tr>\n",
       "      <th>12</th>\n",
       "      <td>616719923X</td>\n",
       "      <td>[0, 0]</td>\n",
       "      <td>5</td>\n",
       "      <td>Yes - this is one of the most expensive candie...</td>\n",
       "      <td>07 6, 2013</td>\n",
       "      <td>AHA6G4IMEMAJR</td>\n",
       "      <td>M. Zinn \"mczinn\"</td>\n",
       "      <td>Thank goodness they are expensive</td>\n",
       "      <td>1373068800</td>\n",
       "      <td>[[Yes, -, this, is, one, of, the, most, expens...</td>\n",
       "      <td>[[yes, one, expensive, candies, around, comes,...</td>\n",
       "      <td>[Yes, -, this, is, one, of, the, most, expensi...</td>\n",
       "      <td>[yes, one, expensive, candies, around, comes, ...</td>\n",
       "    </tr>\n",
       "    <tr>\n",
       "      <th>13</th>\n",
       "      <td>616719923X</td>\n",
       "      <td>[0, 0]</td>\n",
       "      <td>5</td>\n",
       "      <td>I love the green tea kitkat, taste so good, no...</td>\n",
       "      <td>06 8, 2013</td>\n",
       "      <td>A1Q2E3W9PRG313</td>\n",
       "      <td>Sabrina</td>\n",
       "      <td>it is good</td>\n",
       "      <td>1370649600</td>\n",
       "      <td>[[I, love, the, green, tea, kitkat, ,, taste, ...</td>\n",
       "      <td>[[love, green, tea, kitkat, taste, good, sweet...</td>\n",
       "      <td>[I, love, the, green, tea, kitkat, ,, taste, s...</td>\n",
       "      <td>[love, green, tea, kitkat, taste, good, sweet,...</td>\n",
       "    </tr>\n",
       "    <tr>\n",
       "      <th>16</th>\n",
       "      <td>9742356831</td>\n",
       "      <td>[0, 0]</td>\n",
       "      <td>5</td>\n",
       "      <td>This curry paste makes a delicious curry.  I j...</td>\n",
       "      <td>05 28, 2013</td>\n",
       "      <td>A23RYWDS884TUL</td>\n",
       "      <td>Another Freak</td>\n",
       "      <td>Delicious!</td>\n",
       "      <td>1369699200</td>\n",
       "      <td>[[This, curry, paste, makes, a, delicious, cur...</td>\n",
       "      <td>[[curry, paste, makes, delicious, curry], [fri...</td>\n",
       "      <td>[This, curry, paste, makes, a, delicious, curr...</td>\n",
       "      <td>[curry, paste, makes, delicious, curry, fried,...</td>\n",
       "    </tr>\n",
       "    <tr>\n",
       "      <th>17</th>\n",
       "      <td>9742356831</td>\n",
       "      <td>[1, 2]</td>\n",
       "      <td>5</td>\n",
       "      <td>I've purchased different curries in the grocer...</td>\n",
       "      <td>09 17, 2012</td>\n",
       "      <td>A945RBQWGZXCK</td>\n",
       "      <td>Cheryl</td>\n",
       "      <td>Great flavor</td>\n",
       "      <td>1347840000</td>\n",
       "      <td>[[I, 've, purchased, different, curries, in, t...</td>\n",
       "      <td>[[purchased, different, curries, grocery, stor...</td>\n",
       "      <td>[I, 've, purchased, different, curries, in, th...</td>\n",
       "      <td>[purchased, different, curries, grocery, store...</td>\n",
       "    </tr>\n",
       "    <tr>\n",
       "      <th>18</th>\n",
       "      <td>9742356831</td>\n",
       "      <td>[2, 2]</td>\n",
       "      <td>5</td>\n",
       "      <td>I love ethnic foods and to cook them. I recent...</td>\n",
       "      <td>08 3, 2013</td>\n",
       "      <td>A1TCSC0YWT82Q0</td>\n",
       "      <td>GinSing</td>\n",
       "      <td>OMG! What a treasure find!</td>\n",
       "      <td>1375488000</td>\n",
       "      <td>[[I, love, ethnic, foods, and, to, cook, them,...</td>\n",
       "      <td>[[love, ethnic, foods, cook], [recently, purch...</td>\n",
       "      <td>[I, love, ethnic, foods, and, to, cook, them, ...</td>\n",
       "      <td>[love, ethnic, foods, cook, recently, purchase...</td>\n",
       "    </tr>\n",
       "    <tr>\n",
       "      <th>20</th>\n",
       "      <td>9742356831</td>\n",
       "      <td>[0, 0]</td>\n",
       "      <td>5</td>\n",
       "      <td>So many flavors. I can't begin to tell you how...</td>\n",
       "      <td>04 27, 2014</td>\n",
       "      <td>A3IB4CQ2QEJLJ8</td>\n",
       "      <td>J. Zack</td>\n",
       "      <td>Thai curry is the way to go to add spice to an...</td>\n",
       "      <td>1398556800</td>\n",
       "      <td>[[So, many, flavors, .], [I, ca, n't, begin, t...</td>\n",
       "      <td>[[many, flavors], [ca, begin, tell, much, love...</td>\n",
       "      <td>[So, many, flavors, ., I, ca, n't, begin, to, ...</td>\n",
       "      <td>[many, flavors, ca, begin, tell, much, love, m...</td>\n",
       "    </tr>\n",
       "    <tr>\n",
       "      <th>21</th>\n",
       "      <td>9742356831</td>\n",
       "      <td>[1, 2]</td>\n",
       "      <td>5</td>\n",
       "      <td>I've used this a lot recently in some of my ch...</td>\n",
       "      <td>11 27, 2012</td>\n",
       "      <td>AQA5DF3RWKETQ</td>\n",
       "      <td>LindaE</td>\n",
       "      <td>Thai Green Curry</td>\n",
       "      <td>1353974400</td>\n",
       "      <td>[[I, 've, used, this, a, lot, recently, in, so...</td>\n",
       "      <td>[[used, lot, recently, chicken, dishes], [use,...</td>\n",
       "      <td>[I, 've, used, this, a, lot, recently, in, som...</td>\n",
       "      <td>[used, lot, recently, chicken, dishes, use, lo...</td>\n",
       "    </tr>\n",
       "    <tr>\n",
       "      <th>22</th>\n",
       "      <td>9742356831</td>\n",
       "      <td>[1, 2]</td>\n",
       "      <td>5</td>\n",
       "      <td>This is a huge step up in quality from the kin...</td>\n",
       "      <td>01 25, 2013</td>\n",
       "      <td>AOHQ17LGZHTI5</td>\n",
       "      <td>Matthew S.</td>\n",
       "      <td>Make green curry quite easy</td>\n",
       "      <td>1359072000</td>\n",
       "      <td>[[This, is, a, huge, step, up, in, quality, fr...</td>\n",
       "      <td>[[huge, step, quality, kind, normally, availab...</td>\n",
       "      <td>[This, is, a, huge, step, up, in, quality, fro...</td>\n",
       "      <td>[huge, step, quality, kind, normally, availabl...</td>\n",
       "    </tr>\n",
       "    <tr>\n",
       "      <th>23</th>\n",
       "      <td>9742356831</td>\n",
       "      <td>[4, 4]</td>\n",
       "      <td>5</td>\n",
       "      <td>I have two things in mind when I make a Thai c...</td>\n",
       "      <td>11 5, 2013</td>\n",
       "      <td>AZKRFNQ8EFO4T</td>\n",
       "      <td>Mike Williams</td>\n",
       "      <td>Authentic, easy, and delicious!</td>\n",
       "      <td>1383609600</td>\n",
       "      <td>[[I, have, two, things, in, mind, when, I, mak...</td>\n",
       "      <td>[[two, things, mind, make, thai, curry, want, ...</td>\n",
       "      <td>[I, have, two, things, in, mind, when, I, make...</td>\n",
       "      <td>[two, things, mind, make, thai, curry, want, t...</td>\n",
       "    </tr>\n",
       "    <tr>\n",
       "      <th>24</th>\n",
       "      <td>9742356831</td>\n",
       "      <td>[0, 0]</td>\n",
       "      <td>5</td>\n",
       "      <td>I like to make my own curry but this is a tast...</td>\n",
       "      <td>06 27, 2014</td>\n",
       "      <td>A1Z7Y2GMAP9SRY</td>\n",
       "      <td>M. Thompson \"Dyson Diva\"</td>\n",
       "      <td>Yum!</td>\n",
       "      <td>1403827200</td>\n",
       "      <td>[[I, like, to, make, my, own, curry, but, this...</td>\n",
       "      <td>[[like, make, curry, tasty, alternative], [use...</td>\n",
       "      <td>[I, like, to, make, my, own, curry, but, this,...</td>\n",
       "      <td>[like, make, curry, tasty, alternative, use, b...</td>\n",
       "    </tr>\n",
       "    <tr>\n",
       "      <th>25</th>\n",
       "      <td>9742356831</td>\n",
       "      <td>[0, 1]</td>\n",
       "      <td>5</td>\n",
       "      <td>Because of Mae Ploy Thai Green Curry Paste, gr...</td>\n",
       "      <td>08 4, 2012</td>\n",
       "      <td>ANDN9BU8C5XWN</td>\n",
       "      <td>Noell Rose</td>\n",
       "      <td>My new signature dish!</td>\n",
       "      <td>1344038400</td>\n",
       "      <td>[[Because, of, Mae, Ploy, Thai, Green, Curry, ...</td>\n",
       "      <td>[[mae, ploy, thai, green, curry, paste, green,...</td>\n",
       "      <td>[Because, of, Mae, Ploy, Thai, Green, Curry, P...</td>\n",
       "      <td>[mae, ploy, thai, green, curry, paste, green, ...</td>\n",
       "    </tr>\n",
       "    <tr>\n",
       "      <th>27</th>\n",
       "      <td>9742356831</td>\n",
       "      <td>[0, 0]</td>\n",
       "      <td>5</td>\n",
       "      <td>Being newbie to THai cooking, these are great ...</td>\n",
       "      <td>05 29, 2013</td>\n",
       "      <td>AWX83GL66IKBC</td>\n",
       "      <td>serioushopper \"Ely\"</td>\n",
       "      <td>Taste great</td>\n",
       "      <td>1369785600</td>\n",
       "      <td>[[Being, newbie, to, THai, cooking, ,, these, ...</td>\n",
       "      <td>[[newbie, thai, cooking, great, addition, kitc...</td>\n",
       "      <td>[Being, newbie, to, THai, cooking, ,, these, a...</td>\n",
       "      <td>[newbie, thai, cooking, great, addition, kitch...</td>\n",
       "    </tr>\n",
       "    <tr>\n",
       "      <th>28</th>\n",
       "      <td>9742356831</td>\n",
       "      <td>[1, 1]</td>\n",
       "      <td>5</td>\n",
       "      <td>I have tried all the curris from Mae Ploy (exc...</td>\n",
       "      <td>12 22, 2013</td>\n",
       "      <td>A3TGHJJ3ZE8KCH</td>\n",
       "      <td>S. Thornton \"Tea Freak\"</td>\n",
       "      <td>Delicious</td>\n",
       "      <td>1387670400</td>\n",
       "      <td>[[I, have, tried, all, the, curris, from, Mae,...</td>\n",
       "      <td>[[tried, curris, mae, ploy, excluding, panag, ...</td>\n",
       "      <td>[I, have, tried, all, the, curris, from, Mae, ...</td>\n",
       "      <td>[tried, curris, mae, ploy, excluding, panag, v...</td>\n",
       "    </tr>\n",
       "    <tr>\n",
       "      <th>30</th>\n",
       "      <td>9742356831</td>\n",
       "      <td>[3, 4]</td>\n",
       "      <td>5</td>\n",
       "      <td>I have both the red and green curry paste.  Th...</td>\n",
       "      <td>07 14, 2011</td>\n",
       "      <td>A2ANBEX40KLY4O</td>\n",
       "      <td>TrishS \"TrishS\"</td>\n",
       "      <td>Tasty and fast</td>\n",
       "      <td>1310601600</td>\n",
       "      <td>[[I, have, both, the, red, and, green, curry, ...</td>\n",
       "      <td>[[red, green, curry, paste], [green, milder], ...</td>\n",
       "      <td>[I, have, both, the, red, and, green, curry, p...</td>\n",
       "      <td>[red, green, curry, paste, green, milder, use,...</td>\n",
       "    </tr>\n",
       "    <tr>\n",
       "      <th>31</th>\n",
       "      <td>B00004S1C5</td>\n",
       "      <td>[1, 2]</td>\n",
       "      <td>5</td>\n",
       "      <td>These dyes create awesome colors for kids craf...</td>\n",
       "      <td>08 7, 2012</td>\n",
       "      <td>A1C8NAHYR6Z10F</td>\n",
       "      <td>A. Horikawa</td>\n",
       "      <td>Great for kids crafts!</td>\n",
       "      <td>1344297600</td>\n",
       "      <td>[[These, dyes, create, awesome, colors, for, k...</td>\n",
       "      <td>[[dyes, create, awesome, colors, kids, crafts]...</td>\n",
       "      <td>[These, dyes, create, awesome, colors, for, ki...</td>\n",
       "      <td>[dyes, create, awesome, colors, kids, crafts, ...</td>\n",
       "    </tr>\n",
       "    <tr>\n",
       "      <th>33</th>\n",
       "      <td>B00004S1C5</td>\n",
       "      <td>[0, 0]</td>\n",
       "      <td>5</td>\n",
       "      <td>Used for making red and green caramel corn for...</td>\n",
       "      <td>05 24, 2013</td>\n",
       "      <td>A1358PQON9ZAK4</td>\n",
       "      <td>lj</td>\n",
       "      <td>Only tested red and green, but did they worked...</td>\n",
       "      <td>1369353600</td>\n",
       "      <td>[[Used, for, making, red, and, green, caramel,...</td>\n",
       "      <td>[[used, making, red, green, caramel, corn, chr...</td>\n",
       "      <td>[Used, for, making, red, and, green, caramel, ...</td>\n",
       "      <td>[used, making, red, green, caramel, corn, chri...</td>\n",
       "    </tr>\n",
       "    <tr>\n",
       "      <th>34</th>\n",
       "      <td>B00004S1C5</td>\n",
       "      <td>[0, 0]</td>\n",
       "      <td>5</td>\n",
       "      <td>This is a nice basic selection of gel food col...</td>\n",
       "      <td>02 21, 2012</td>\n",
       "      <td>ARTSSZHO3ZYYR</td>\n",
       "      <td>R. Billings</td>\n",
       "      <td>gel food coloring kit</td>\n",
       "      <td>1329782400</td>\n",
       "      <td>[[This, is, a, nice, basic, selection, of, gel...</td>\n",
       "      <td>[[nice, basic, selection, gel, food, colorings...</td>\n",
       "      <td>[This, is, a, nice, basic, selection, of, gel,...</td>\n",
       "      <td>[nice, basic, selection, gel, food, colorings,...</td>\n",
       "    </tr>\n",
       "    <tr>\n",
       "      <th>35</th>\n",
       "      <td>B00004S1C5</td>\n",
       "      <td>[9, 10]</td>\n",
       "      <td>5</td>\n",
       "      <td>This are so much easier to use than the Wilson...</td>\n",
       "      <td>08 9, 2000</td>\n",
       "      <td>A1KXONFPU2XQ5K</td>\n",
       "      <td>Stephanie Manley</td>\n",
       "      <td>Very easy to use</td>\n",
       "      <td>965779200</td>\n",
       "      <td>[[This, are, so, much, easier, to, use, than, ...</td>\n",
       "      <td>[[much, easier, use, wilson, paste, colors], [...</td>\n",
       "      <td>[This, are, so, much, easier, to, use, than, t...</td>\n",
       "      <td>[much, easier, use, wilson, paste, colors, col...</td>\n",
       "    </tr>\n",
       "    <tr>\n",
       "      <th>38</th>\n",
       "      <td>B0000531B7</td>\n",
       "      <td>[0, 0]</td>\n",
       "      <td>5</td>\n",
       "      <td>I really enjoy these bars as a quick breakfast...</td>\n",
       "      <td>07 1, 2014</td>\n",
       "      <td>ATN5X2PM7OB3K</td>\n",
       "      <td>Danny Mack</td>\n",
       "      <td>I really enjoy these bars as a quick breakfast</td>\n",
       "      <td>1404172800</td>\n",
       "      <td>[[I, really, enjoy, these, bars, as, a, quick,...</td>\n",
       "      <td>[[really, enjoy, bars, quick, breakfast, lunch...</td>\n",
       "      <td>[I, really, enjoy, these, bars, as, a, quick, ...</td>\n",
       "      <td>[really, enjoy, bars, quick, breakfast, lunch,...</td>\n",
       "    </tr>\n",
       "    <tr>\n",
       "      <th>39</th>\n",
       "      <td>B0000531B7</td>\n",
       "      <td>[1, 1]</td>\n",
       "      <td>5</td>\n",
       "      <td>Frankly, I was worried about buying these on l...</td>\n",
       "      <td>04 10, 2014</td>\n",
       "      <td>A2BYV7S1QP2YIG</td>\n",
       "      <td>Dr. Oceanfront \"Oceanfront\"</td>\n",
       "      <td>Good, filling bar...</td>\n",
       "      <td>1397088000</td>\n",
       "      <td>[[Frankly, ,, I, was, worried, about, buying, ...</td>\n",
       "      <td>[[frankly, worried, buying, line, heard, stori...</td>\n",
       "      <td>[Frankly, ,, I, was, worried, about, buying, t...</td>\n",
       "      <td>[frankly, worried, buying, line, heard, storie...</td>\n",
       "    </tr>\n",
       "    <tr>\n",
       "      <th>41</th>\n",
       "      <td>B0000531B7</td>\n",
       "      <td>[0, 0]</td>\n",
       "      <td>5</td>\n",
       "      <td>I have to watch what I eat as I am diabetic.  ...</td>\n",
       "      <td>07 28, 2012</td>\n",
       "      <td>A1X1CEGHTHMBL1</td>\n",
       "      <td>jjceo</td>\n",
       "      <td>Helpful nutrition when you need it for that po...</td>\n",
       "      <td>1343433600</td>\n",
       "      <td>[[I, have, to, watch, what, I, eat, as, I, am,...</td>\n",
       "      <td>[[watch, eat, diabetic], [result, experience, ...</td>\n",
       "      <td>[I, have, to, watch, what, I, eat, as, I, am, ...</td>\n",
       "      <td>[watch, eat, diabetic, result, experience, low...</td>\n",
       "    </tr>\n",
       "    <tr>\n",
       "      <th>42</th>\n",
       "      <td>B0000531B7</td>\n",
       "      <td>[30, 34]</td>\n",
       "      <td>5</td>\n",
       "      <td>I make no claims to sports nutrition (or any n...</td>\n",
       "      <td>03 4, 2006</td>\n",
       "      <td>A1SYLII0808HD6</td>\n",
       "      <td>M. Allen Greenbaum</td>\n",
       "      <td>4 1/2  A Apple Crisp A Day Does...Something fo...</td>\n",
       "      <td>1141430400</td>\n",
       "      <td>[[I, make, no, claims, to, sports, nutrition, ...</td>\n",
       "      <td>[[make, claims, sports, nutrition, nutrition, ...</td>\n",
       "      <td>[I, make, no, claims, to, sports, nutrition, (...</td>\n",
       "      <td>[make, claims, sports, nutrition, nutrition, m...</td>\n",
       "    </tr>\n",
       "    <tr>\n",
       "      <th>44</th>\n",
       "      <td>B0000531B7</td>\n",
       "      <td>[5, 6]</td>\n",
       "      <td>5</td>\n",
       "      <td>If you are a fan of peanut butter and chocolat...</td>\n",
       "      <td>11 4, 2006</td>\n",
       "      <td>A3MLKJ1HHA2SX0</td>\n",
       "      <td>Robert L. Stinnett</td>\n",
       "      <td>Best Energy Bar Out There</td>\n",
       "      <td>1162598400</td>\n",
       "      <td>[[If, you, are, a, fan, of, peanut, butter, an...</td>\n",
       "      <td>[[fan, peanut, butter, chocolate, bar], [tried...</td>\n",
       "      <td>[If, you, are, a, fan, of, peanut, butter, and...</td>\n",
       "      <td>[fan, peanut, butter, chocolate, bar, tried, n...</td>\n",
       "    </tr>\n",
       "    <tr>\n",
       "      <th>45</th>\n",
       "      <td>B0000531B7</td>\n",
       "      <td>[0, 0]</td>\n",
       "      <td>5</td>\n",
       "      <td>Love these things before a work out, they prov...</td>\n",
       "      <td>09 7, 2013</td>\n",
       "      <td>A3D21GURDGTS0J</td>\n",
       "      <td>sess882</td>\n",
       "      <td>powerbar</td>\n",
       "      <td>1378512000</td>\n",
       "      <td>[[Love, these, things, before, a, work, out, ,...</td>\n",
       "      <td>[[love, things, work, provide, good, energy, p...</td>\n",
       "      <td>[Love, these, things, before, a, work, out, ,,...</td>\n",
       "      <td>[love, things, work, provide, good, energy, pu...</td>\n",
       "    </tr>\n",
       "    <tr>\n",
       "      <th>47</th>\n",
       "      <td>B00005344V</td>\n",
       "      <td>[12, 12]</td>\n",
       "      <td>5</td>\n",
       "      <td>Traditional Medicinals' \"Breathe Easy\" is an a...</td>\n",
       "      <td>02 20, 2008</td>\n",
       "      <td>A3EBHHCZO6V2A4</td>\n",
       "      <td>Amaranth \"music fan\"</td>\n",
       "      <td>Learning to Exhale</td>\n",
       "      <td>1203465600</td>\n",
       "      <td>[[Traditional, Medicinals, ', ``, Breathe, Eas...</td>\n",
       "      <td>[[traditional, medicinals, breathe, easy, amaz...</td>\n",
       "      <td>[Traditional, Medicinals, ', ``, Breathe, Easy...</td>\n",
       "      <td>[traditional, medicinals, breathe, easy, amazi...</td>\n",
       "    </tr>\n",
       "    <tr>\n",
       "      <th>...</th>\n",
       "      <td>...</td>\n",
       "      <td>...</td>\n",
       "      <td>...</td>\n",
       "      <td>...</td>\n",
       "      <td>...</td>\n",
       "      <td>...</td>\n",
       "      <td>...</td>\n",
       "      <td>...</td>\n",
       "      <td>...</td>\n",
       "      <td>...</td>\n",
       "      <td>...</td>\n",
       "      <td>...</td>\n",
       "      <td>...</td>\n",
       "    </tr>\n",
       "    <tr>\n",
       "      <th>151190</th>\n",
       "      <td>B00K00H9I6</td>\n",
       "      <td>[4, 4]</td>\n",
       "      <td>5</td>\n",
       "      <td>When I was offered a review sample of this syr...</td>\n",
       "      <td>07 7, 2014</td>\n",
       "      <td>A2NYK9KWFMJV4Y</td>\n",
       "      <td>Mike Tarrani \"Jazz Drummer\"</td>\n",
       "      <td>Exceptional quality</td>\n",
       "      <td>1404691200</td>\n",
       "      <td>[[When, I, was, offered, a, review, sample, of...</td>\n",
       "      <td>[[offered, review, sample, syrup, curious, tas...</td>\n",
       "      <td>[When, I, was, offered, a, review, sample, of,...</td>\n",
       "      <td>[offered, review, sample, syrup, curious, tast...</td>\n",
       "    </tr>\n",
       "    <tr>\n",
       "      <th>151191</th>\n",
       "      <td>B00K00H9I6</td>\n",
       "      <td>[1, 1]</td>\n",
       "      <td>5</td>\n",
       "      <td>Love the fact that this is ORGANIC. My daughte...</td>\n",
       "      <td>07 18, 2014</td>\n",
       "      <td>A2NOW4U7W3F7RI</td>\n",
       "      <td>rpv</td>\n",
       "      <td>Love the fact that this is ORGANIC</td>\n",
       "      <td>1405641600</td>\n",
       "      <td>[[Love, the, fact, that, this, is, ORGANIC, .]...</td>\n",
       "      <td>[[love, fact, organic], [daughter, loves, mapl...</td>\n",
       "      <td>[Love, the, fact, that, this, is, ORGANIC, ., ...</td>\n",
       "      <td>[love, fact, organic, daughter, loves, maple, ...</td>\n",
       "    </tr>\n",
       "    <tr>\n",
       "      <th>151192</th>\n",
       "      <td>B00K00H9I6</td>\n",
       "      <td>[4, 5]</td>\n",
       "      <td>5</td>\n",
       "      <td>I am not new to &amp;#34;real&amp;#34; maple syrups, b...</td>\n",
       "      <td>07 8, 2014</td>\n",
       "      <td>ARBKYIVNYWK3C</td>\n",
       "      <td>RST10</td>\n",
       "      <td>Rich, complex, enjoyable!</td>\n",
       "      <td>1404777600</td>\n",
       "      <td>[[I, am, not, new, to, &amp;, #, 34, ;, real, &amp;, #...</td>\n",
       "      <td>[[new, real, maple, syrups, traditionally, buy...</td>\n",
       "      <td>[I, am, not, new, to, &amp;, #, 34, ;, real, &amp;, #,...</td>\n",
       "      <td>[new, real, maple, syrups, traditionally, buye...</td>\n",
       "    </tr>\n",
       "    <tr>\n",
       "      <th>151193</th>\n",
       "      <td>B00K00H9I6</td>\n",
       "      <td>[0, 0]</td>\n",
       "      <td>5</td>\n",
       "      <td>The first time I tried this I didn't like it -...</td>\n",
       "      <td>07 16, 2014</td>\n",
       "      <td>A3CG93783LP0FO</td>\n",
       "      <td>Yarii \"fifty shades of blonde\"</td>\n",
       "      <td>I changed my mind</td>\n",
       "      <td>1405468800</td>\n",
       "      <td>[[The, first, time, I, tried, this, I, did, n'...</td>\n",
       "      <td>[[first, time, tried, like, syrup, thin, prefe...</td>\n",
       "      <td>[The, first, time, I, tried, this, I, did, n't...</td>\n",
       "      <td>[first, time, tried, like, syrup, thin, prefer...</td>\n",
       "    </tr>\n",
       "    <tr>\n",
       "      <th>151199</th>\n",
       "      <td>B00KC0LGI8</td>\n",
       "      <td>[0, 0]</td>\n",
       "      <td>5</td>\n",
       "      <td>Surprisingly good!  OK, this really isn't &amp;#34...</td>\n",
       "      <td>07 8, 2014</td>\n",
       "      <td>A35X2JJI49OBZP</td>\n",
       "      <td>C. Bayne \"katluvr_1\"</td>\n",
       "      <td>Not really sudden, but very good!</td>\n",
       "      <td>1404777600</td>\n",
       "      <td>[[Surprisingly, good, !], [OK, ,, this, really...</td>\n",
       "      <td>[[surprisingly, good], [ok, really, sudden, un...</td>\n",
       "      <td>[Surprisingly, good, !, OK, ,, this, really, i...</td>\n",
       "      <td>[surprisingly, good, ok, really, sudden, unles...</td>\n",
       "    </tr>\n",
       "    <tr>\n",
       "      <th>151201</th>\n",
       "      <td>B00KC0LGI8</td>\n",
       "      <td>[0, 0]</td>\n",
       "      <td>5</td>\n",
       "      <td>This salad mixture was strange at first, and I...</td>\n",
       "      <td>07 7, 2014</td>\n",
       "      <td>AN0N05A9LIJEQ</td>\n",
       "      <td>critters</td>\n",
       "      <td>REALLY grew on me! Says no microwave</td>\n",
       "      <td>1404691200</td>\n",
       "      <td>[[This, salad, mixture, was, strange, at, firs...</td>\n",
       "      <td>[[salad, mixture, strange, first, going, give,...</td>\n",
       "      <td>[This, salad, mixture, was, strange, at, first...</td>\n",
       "      <td>[salad, mixture, strange, first, going, give, ...</td>\n",
       "    </tr>\n",
       "    <tr>\n",
       "      <th>151203</th>\n",
       "      <td>B00KC0LGI8</td>\n",
       "      <td>[0, 0]</td>\n",
       "      <td>5</td>\n",
       "      <td>Three words describe this grain salad with dri...</td>\n",
       "      <td>07 1, 2014</td>\n",
       "      <td>A3VLCQX7NG1N0E</td>\n",
       "      <td>Erin O'Riordan</td>\n",
       "      <td>Tastes Great</td>\n",
       "      <td>1404172800</td>\n",
       "      <td>[[Three, words, describe, this, grain, salad, ...</td>\n",
       "      <td>[[three, words, describe, grain, salad, dried,...</td>\n",
       "      <td>[Three, words, describe, this, grain, salad, w...</td>\n",
       "      <td>[three, words, describe, grain, salad, dried, ...</td>\n",
       "    </tr>\n",
       "    <tr>\n",
       "      <th>151204</th>\n",
       "      <td>B00KC0LGI8</td>\n",
       "      <td>[0, 0]</td>\n",
       "      <td>5</td>\n",
       "      <td>the wife made this as a side to our meal. this...</td>\n",
       "      <td>07 7, 2014</td>\n",
       "      <td>A3JT29L4YFEIMJ</td>\n",
       "      <td>Fred Stephen</td>\n",
       "      <td>betty crocker suddenly grain salad-harvestmix</td>\n",
       "      <td>1404691200</td>\n",
       "      <td>[[the, wife, made, this, as, a, side, to, our,...</td>\n",
       "      <td>[[wife, made, side, meal], [good, stuff, side,...</td>\n",
       "      <td>[the, wife, made, this, as, a, side, to, our, ...</td>\n",
       "      <td>[wife, made, side, meal, good, stuff, side, pl...</td>\n",
       "    </tr>\n",
       "    <tr>\n",
       "      <th>151208</th>\n",
       "      <td>B00KC0LGI8</td>\n",
       "      <td>[0, 0]</td>\n",
       "      <td>5</td>\n",
       "      <td>I am making the Harvest Grains to serve with f...</td>\n",
       "      <td>07 14, 2014</td>\n",
       "      <td>A1ZCYC0RHTRMZF</td>\n",
       "      <td>Kristin J. Johnson \"Three-time published author\"</td>\n",
       "      <td>Tasty, crunchatizing side dish, prep is not ov...</td>\n",
       "      <td>1405296000</td>\n",
       "      <td>[[I, am, making, the, Harvest, Grains, to, ser...</td>\n",
       "      <td>[[making, harvest, grains, serve, flank, steak...</td>\n",
       "      <td>[I, am, making, the, Harvest, Grains, to, serv...</td>\n",
       "      <td>[making, harvest, grains, serve, flank, steak,...</td>\n",
       "    </tr>\n",
       "    <tr>\n",
       "      <th>151210</th>\n",
       "      <td>B00KC0LGI8</td>\n",
       "      <td>[0, 0]</td>\n",
       "      <td>5</td>\n",
       "      <td>This Betty Crocker Suddenly Salad using harves...</td>\n",
       "      <td>07 7, 2014</td>\n",
       "      <td>A2Y15RV8JQ36H4</td>\n",
       "      <td>Letta Meinen</td>\n",
       "      <td>Fast and eEasy Salad</td>\n",
       "      <td>1404691200</td>\n",
       "      <td>[[This, Betty, Crocker, Suddenly, Salad, using...</td>\n",
       "      <td>[[betty, crocker, suddenly, salad, using, harv...</td>\n",
       "      <td>[This, Betty, Crocker, Suddenly, Salad, using,...</td>\n",
       "      <td>[betty, crocker, suddenly, salad, using, harve...</td>\n",
       "    </tr>\n",
       "    <tr>\n",
       "      <th>151212</th>\n",
       "      <td>B00KC0LGI8</td>\n",
       "      <td>[0, 0]</td>\n",
       "      <td>5</td>\n",
       "      <td>Betty Crocker rice and grains is boiled up in ...</td>\n",
       "      <td>07 2, 2014</td>\n",
       "      <td>ABOTQXNUBA1MM</td>\n",
       "      <td>Mark F. Braun</td>\n",
       "      <td>Delicious and so easy to do</td>\n",
       "      <td>1404259200</td>\n",
       "      <td>[[Betty, Crocker, rice, and, grains, is, boile...</td>\n",
       "      <td>[[betty, crocker, rice, grains, boiled, baggy,...</td>\n",
       "      <td>[Betty, Crocker, rice, and, grains, is, boiled...</td>\n",
       "      <td>[betty, crocker, rice, grains, boiled, baggy, ...</td>\n",
       "    </tr>\n",
       "    <tr>\n",
       "      <th>151214</th>\n",
       "      <td>B00KC0LGI8</td>\n",
       "      <td>[0, 1]</td>\n",
       "      <td>5</td>\n",
       "      <td>I wasn't sure about this especially when I rea...</td>\n",
       "      <td>07 10, 2014</td>\n",
       "      <td>ADS99W8WMEXZ2</td>\n",
       "      <td>Michelle Dunn \"Author &amp; artist\"</td>\n",
       "      <td>Healthy, easy and tasty</td>\n",
       "      <td>1404950400</td>\n",
       "      <td>[[I, was, n't, sure, about, this, especially, ...</td>\n",
       "      <td>[[sure, especially, read, eat, cold], [reason,...</td>\n",
       "      <td>[I, was, n't, sure, about, this, especially, w...</td>\n",
       "      <td>[sure, especially, read, eat, cold, reason, th...</td>\n",
       "    </tr>\n",
       "    <tr>\n",
       "      <th>151215</th>\n",
       "      <td>B00KC0LGI8</td>\n",
       "      <td>[0, 0]</td>\n",
       "      <td>5</td>\n",
       "      <td>I regularly cook for vegans and vegetarians in...</td>\n",
       "      <td>07 18, 2014</td>\n",
       "      <td>A14L2638XC00EZ</td>\n",
       "      <td>Monica J. Kern</td>\n",
       "      <td>A tasty side dish for summer</td>\n",
       "      <td>1405641600</td>\n",
       "      <td>[[I, regularly, cook, for, vegans, and, vegeta...</td>\n",
       "      <td>[[regularly, cook, vegans, vegetarians, family...</td>\n",
       "      <td>[I, regularly, cook, for, vegans, and, vegetar...</td>\n",
       "      <td>[regularly, cook, vegans, vegetarians, family,...</td>\n",
       "    </tr>\n",
       "    <tr>\n",
       "      <th>151216</th>\n",
       "      <td>B00KC0LGI8</td>\n",
       "      <td>[0, 0]</td>\n",
       "      <td>5</td>\n",
       "      <td>This is an easy side dish.  We are trying to e...</td>\n",
       "      <td>07 21, 2014</td>\n",
       "      <td>A1Z7Y2GMAP9SRY</td>\n",
       "      <td>M. Thompson \"Dyson Diva\"</td>\n",
       "      <td>Tasty!</td>\n",
       "      <td>1405900800</td>\n",
       "      <td>[[This, is, an, easy, side, dish, .], [We, are...</td>\n",
       "      <td>[[easy, side, dish], [trying, eat, grains, tas...</td>\n",
       "      <td>[This, is, an, easy, side, dish, ., We, are, t...</td>\n",
       "      <td>[easy, side, dish, trying, eat, grains, tasty,...</td>\n",
       "    </tr>\n",
       "    <tr>\n",
       "      <th>151219</th>\n",
       "      <td>B00KC0LGI8</td>\n",
       "      <td>[0, 0]</td>\n",
       "      <td>5</td>\n",
       "      <td>Reading the description of the product made us...</td>\n",
       "      <td>07 4, 2014</td>\n",
       "      <td>A1NGFGBX2VCQS8</td>\n",
       "      <td>Ralph Furlong</td>\n",
       "      <td>Betty Crocker Dry Meals Suddenly Grain Salad</td>\n",
       "      <td>1404432000</td>\n",
       "      <td>[[Reading, the, description, of, the, product,...</td>\n",
       "      <td>[[reading, description, product, made, us, wan...</td>\n",
       "      <td>[Reading, the, description, of, the, product, ...</td>\n",
       "      <td>[reading, description, product, made, us, want...</td>\n",
       "    </tr>\n",
       "    <tr>\n",
       "      <th>151225</th>\n",
       "      <td>B00KC0LGI8</td>\n",
       "      <td>[0, 0]</td>\n",
       "      <td>5</td>\n",
       "      <td>A box of this Betty Crocker Harvest Grains Sal...</td>\n",
       "      <td>07 1, 2014</td>\n",
       "      <td>AK9FTWLCW09RR</td>\n",
       "      <td>Techie Evan</td>\n",
       "      <td>Flavorful!!</td>\n",
       "      <td>1404172800</td>\n",
       "      <td>[[A, box, of, this, Betty, Crocker, Harvest, G...</td>\n",
       "      <td>[[box, betty, crocker, harvest, grains, salad,...</td>\n",
       "      <td>[A, box, of, this, Betty, Crocker, Harvest, Gr...</td>\n",
       "      <td>[box, betty, crocker, harvest, grains, salad, ...</td>\n",
       "    </tr>\n",
       "    <tr>\n",
       "      <th>151226</th>\n",
       "      <td>B00KC0LGI8</td>\n",
       "      <td>[1, 2]</td>\n",
       "      <td>5</td>\n",
       "      <td>I am always on the lookout for a nice, light, ...</td>\n",
       "      <td>06 29, 2014</td>\n",
       "      <td>A23O8T3LNL9YY8</td>\n",
       "      <td>Trish \"A Sun Salutin', Crochet Hookin' Chick!\"</td>\n",
       "      <td>Passed the Grae test...</td>\n",
       "      <td>1404000000</td>\n",
       "      <td>[[I, am, always, on, the, lookout, for, a, nic...</td>\n",
       "      <td>[[always, lookout, nice, light, side, summerti...</td>\n",
       "      <td>[I, am, always, on, the, lookout, for, a, nice...</td>\n",
       "      <td>[always, lookout, nice, light, side, summertim...</td>\n",
       "    </tr>\n",
       "    <tr>\n",
       "      <th>151228</th>\n",
       "      <td>B00KC0LGI8</td>\n",
       "      <td>[0, 0]</td>\n",
       "      <td>5</td>\n",
       "      <td>Just added some left over grilled chicken to t...</td>\n",
       "      <td>07 1, 2014</td>\n",
       "      <td>A1MKPMJPD22YY</td>\n",
       "      <td>\u001aGRANDMA ROCKS\u001a</td>\n",
       "      <td>WE LOVE THIS BETTY CROCKER'S SUDDENLY SALAD!</td>\n",
       "      <td>1404172800</td>\n",
       "      <td>[[Just, added, some, left, over, grilled, chic...</td>\n",
       "      <td>[[added, left, grilled, chicken, suddenly, sal...</td>\n",
       "      <td>[Just, added, some, left, over, grilled, chick...</td>\n",
       "      <td>[added, left, grilled, chicken, suddenly, sala...</td>\n",
       "    </tr>\n",
       "    <tr>\n",
       "      <th>151231</th>\n",
       "      <td>B00KCJRVO2</td>\n",
       "      <td>[0, 0]</td>\n",
       "      <td>5</td>\n",
       "      <td>Usually the label &amp;#34;gluten free&amp;#34; is a c...</td>\n",
       "      <td>07 12, 2014</td>\n",
       "      <td>A3H8PA7AG48K33</td>\n",
       "      <td>A. Silverstone</td>\n",
       "      <td>Get Your Morning Going Right</td>\n",
       "      <td>1405123200</td>\n",
       "      <td>[[Usually, the, label, &amp;, #, 34, ;, gluten, fr...</td>\n",
       "      <td>[[usually, label, gluten, free, code, word, ta...</td>\n",
       "      <td>[Usually, the, label, &amp;, #, 34, ;, gluten, fre...</td>\n",
       "      <td>[usually, label, gluten, free, code, word, tas...</td>\n",
       "    </tr>\n",
       "    <tr>\n",
       "      <th>151232</th>\n",
       "      <td>B00KCJRVO2</td>\n",
       "      <td>[0, 0]</td>\n",
       "      <td>5</td>\n",
       "      <td>I love oatmeal, and I'm always up to trying a ...</td>\n",
       "      <td>07 21, 2014</td>\n",
       "      <td>A2H2I5FY1PUHP1</td>\n",
       "      <td>Boilermate</td>\n",
       "      <td>What Instant Oatmeal Is Supposed to Be Like</td>\n",
       "      <td>1405900800</td>\n",
       "      <td>[[I, love, oatmeal, ,, and, I, 'm, always, up,...</td>\n",
       "      <td>[[love, oatmeal, always, trying, new, brand, v...</td>\n",
       "      <td>[I, love, oatmeal, ,, and, I, 'm, always, up, ...</td>\n",
       "      <td>[love, oatmeal, always, trying, new, brand, va...</td>\n",
       "    </tr>\n",
       "    <tr>\n",
       "      <th>151234</th>\n",
       "      <td>B00KCJRVO2</td>\n",
       "      <td>[0, 0]</td>\n",
       "      <td>5</td>\n",
       "      <td>My daughter and husband are both gluten free a...</td>\n",
       "      <td>07 15, 2014</td>\n",
       "      <td>A3KPJ1MOGTZVGC</td>\n",
       "      <td>Catfish Kozmo</td>\n",
       "      <td>Vital for those with gluten alergies</td>\n",
       "      <td>1405382400</td>\n",
       "      <td>[[My, daughter, and, husband, are, both, glute...</td>\n",
       "      <td>[[daughter, husband, gluten, free, love, oatme...</td>\n",
       "      <td>[My, daughter, and, husband, are, both, gluten...</td>\n",
       "      <td>[daughter, husband, gluten, free, love, oatmea...</td>\n",
       "    </tr>\n",
       "    <tr>\n",
       "      <th>151235</th>\n",
       "      <td>B00KCJRVO2</td>\n",
       "      <td>[0, 0]</td>\n",
       "      <td>5</td>\n",
       "      <td>Oh my!  Insanely good oatmeal and GLUTEN FREE....</td>\n",
       "      <td>06 30, 2014</td>\n",
       "      <td>A3A7Y3TSPPZU9T</td>\n",
       "      <td>coffeebrain</td>\n",
       "      <td>Yay!  Gluten Free Oatmeal!</td>\n",
       "      <td>1404086400</td>\n",
       "      <td>[[Oh, my, !], [Insanely, good, oatmeal, and, G...</td>\n",
       "      <td>[[oh], [insanely, good, oatmeal, gluten, free]...</td>\n",
       "      <td>[Oh, my, !, Insanely, good, oatmeal, and, GLUT...</td>\n",
       "      <td>[oh, insanely, good, oatmeal, gluten, free, ne...</td>\n",
       "    </tr>\n",
       "    <tr>\n",
       "      <th>151239</th>\n",
       "      <td>B00KCJRVO2</td>\n",
       "      <td>[0, 0]</td>\n",
       "      <td>5</td>\n",
       "      <td>I don't need to eat gluten free but since I go...</td>\n",
       "      <td>07 1, 2014</td>\n",
       "      <td>A3MZNRSDQ32UUH</td>\n",
       "      <td>imsocrazy \"frenzied reader\"</td>\n",
       "      <td>Tastes great</td>\n",
       "      <td>1404172800</td>\n",
       "      <td>[[I, do, n't, need, to, eat, gluten, free, but...</td>\n",
       "      <td>[[need, eat, gluten, free, since, got, sent, t...</td>\n",
       "      <td>[I, do, n't, need, to, eat, gluten, free, but,...</td>\n",
       "      <td>[need, eat, gluten, free, since, got, sent, th...</td>\n",
       "    </tr>\n",
       "    <tr>\n",
       "      <th>151241</th>\n",
       "      <td>B00KCJRVO2</td>\n",
       "      <td>[0, 0]</td>\n",
       "      <td>5</td>\n",
       "      <td>Surprisingly delicious for instant oatmeal. Wh...</td>\n",
       "      <td>07 10, 2014</td>\n",
       "      <td>A3SLC8F6VIWXIR</td>\n",
       "      <td>John T. Horner \"jthorner\"</td>\n",
       "      <td>Surprisingly delicious for instant oatmeal</td>\n",
       "      <td>1404950400</td>\n",
       "      <td>[[Surprisingly, delicious, for, instant, oatme...</td>\n",
       "      <td>[[surprisingly, delicious, instant, oatmeal], ...</td>\n",
       "      <td>[Surprisingly, delicious, for, instant, oatmea...</td>\n",
       "      <td>[surprisingly, delicious, instant, oatmeal, ti...</td>\n",
       "    </tr>\n",
       "    <tr>\n",
       "      <th>151242</th>\n",
       "      <td>B00KCJRVO2</td>\n",
       "      <td>[0, 0]</td>\n",
       "      <td>5</td>\n",
       "      <td>This is a wonderful product.  It is comforting...</td>\n",
       "      <td>07 3, 2014</td>\n",
       "      <td>AI2XINIZFPBI8</td>\n",
       "      <td>Kitty \"Kitty\"</td>\n",
       "      <td>Wonderful!</td>\n",
       "      <td>1404345600</td>\n",
       "      <td>[[This, is, a, wonderful, product, .], [It, is...</td>\n",
       "      <td>[[wonderful, product], [comforting, certified,...</td>\n",
       "      <td>[This, is, a, wonderful, product, ., It, is, c...</td>\n",
       "      <td>[wonderful, product, comforting, certified, gl...</td>\n",
       "    </tr>\n",
       "    <tr>\n",
       "      <th>151243</th>\n",
       "      <td>B00KCJRVO2</td>\n",
       "      <td>[0, 0]</td>\n",
       "      <td>5</td>\n",
       "      <td>Unlike most GF breakfast products, this isn't ...</td>\n",
       "      <td>07 21, 2014</td>\n",
       "      <td>A398R165PXFOSS</td>\n",
       "      <td>Mental Mommy \"Mental Mommy\"</td>\n",
       "      <td>Just like \"normal\" oatmeal!</td>\n",
       "      <td>1405900800</td>\n",
       "      <td>[[Unlike, most, GF, breakfast, products, ,, th...</td>\n",
       "      <td>[[unlike, gf, breakfast, products, different, ...</td>\n",
       "      <td>[Unlike, most, GF, breakfast, products, ,, thi...</td>\n",
       "      <td>[unlike, gf, breakfast, products, different, t...</td>\n",
       "    </tr>\n",
       "    <tr>\n",
       "      <th>151244</th>\n",
       "      <td>B00KCJRVO2</td>\n",
       "      <td>[1, 1]</td>\n",
       "      <td>5</td>\n",
       "      <td>A lot of these quick oatmeal products don't ma...</td>\n",
       "      <td>07 6, 2014</td>\n",
       "      <td>A11T807LX2EF00</td>\n",
       "      <td>Michael</td>\n",
       "      <td>Easy to make and the taste is quite good. Exce...</td>\n",
       "      <td>1404604800</td>\n",
       "      <td>[[A, lot, of, these, quick, oatmeal, products,...</td>\n",
       "      <td>[[lot, quick, oatmeal, products, make, grade],...</td>\n",
       "      <td>[A, lot, of, these, quick, oatmeal, products, ...</td>\n",
       "      <td>[lot, quick, oatmeal, products, make, grade, z...</td>\n",
       "    </tr>\n",
       "    <tr>\n",
       "      <th>151246</th>\n",
       "      <td>B00KCJRVO2</td>\n",
       "      <td>[0, 0]</td>\n",
       "      <td>5</td>\n",
       "      <td>My daughter thinks it tastes just like the reg...</td>\n",
       "      <td>07 21, 2014</td>\n",
       "      <td>A3H0ZQ74ITU83J</td>\n",
       "      <td>Mom and Teacher</td>\n",
       "      <td>Thank you Chex!</td>\n",
       "      <td>1405900800</td>\n",
       "      <td>[[My, daughter, thinks, it, tastes, just, like...</td>\n",
       "      <td>[[daughter, thinks, tastes, like, regular, qua...</td>\n",
       "      <td>[My, daughter, thinks, it, tastes, just, like,...</td>\n",
       "      <td>[daughter, thinks, tastes, like, regular, quak...</td>\n",
       "    </tr>\n",
       "    <tr>\n",
       "      <th>151248</th>\n",
       "      <td>B00KCJRVO2</td>\n",
       "      <td>[0, 0]</td>\n",
       "      <td>5</td>\n",
       "      <td>I like oatmeal and will often make a pot of Mc...</td>\n",
       "      <td>07 6, 2014</td>\n",
       "      <td>A3VYKXHQDICC6</td>\n",
       "      <td>philo_vance</td>\n",
       "      <td>Excellent</td>\n",
       "      <td>1404604800</td>\n",
       "      <td>[[I, like, oatmeal, and, will, often, make, a,...</td>\n",
       "      <td>[[like, oatmeal, often, make, pot, mccann, sto...</td>\n",
       "      <td>[I, like, oatmeal, and, will, often, make, a, ...</td>\n",
       "      <td>[like, oatmeal, often, make, pot, mccann, stor...</td>\n",
       "    </tr>\n",
       "    <tr>\n",
       "      <th>151251</th>\n",
       "      <td>B00KCJRVO2</td>\n",
       "      <td>[1, 1]</td>\n",
       "      <td>5</td>\n",
       "      <td>While I usually review CDs and DVDs, as well a...</td>\n",
       "      <td>07 1, 2014</td>\n",
       "      <td>ASEBX8TBYWQWA</td>\n",
       "      <td>Steven I. Ramm \"Steve Ramm &amp;#34;Anything Phon...</td>\n",
       "      <td>Compares favorably in taste and texture with o...</td>\n",
       "      <td>1404172800</td>\n",
       "      <td>[[While, I, usually, review, CDs, and, DVDs, ,...</td>\n",
       "      <td>[[usually, review, cds, dvds, well, entertainm...</td>\n",
       "      <td>[While, I, usually, review, CDs, and, DVDs, ,,...</td>\n",
       "      <td>[usually, review, cds, dvds, well, entertainme...</td>\n",
       "    </tr>\n",
       "  </tbody>\n",
       "</table>\n",
       "<p>87446 rows × 13 columns</p>\n",
       "</div>"
      ],
      "text/plain": [
       "              asin   helpful  overall  \\\n",
       "3       616719923X    [0, 0]        5   \n",
       "7       616719923X    [2, 3]        5   \n",
       "8       616719923X    [0, 0]        5   \n",
       "10      616719923X    [6, 8]        5   \n",
       "11      616719923X    [2, 3]        5   \n",
       "12      616719923X    [0, 0]        5   \n",
       "13      616719923X    [0, 0]        5   \n",
       "16      9742356831    [0, 0]        5   \n",
       "17      9742356831    [1, 2]        5   \n",
       "18      9742356831    [2, 2]        5   \n",
       "20      9742356831    [0, 0]        5   \n",
       "21      9742356831    [1, 2]        5   \n",
       "22      9742356831    [1, 2]        5   \n",
       "23      9742356831    [4, 4]        5   \n",
       "24      9742356831    [0, 0]        5   \n",
       "25      9742356831    [0, 1]        5   \n",
       "27      9742356831    [0, 0]        5   \n",
       "28      9742356831    [1, 1]        5   \n",
       "30      9742356831    [3, 4]        5   \n",
       "31      B00004S1C5    [1, 2]        5   \n",
       "33      B00004S1C5    [0, 0]        5   \n",
       "34      B00004S1C5    [0, 0]        5   \n",
       "35      B00004S1C5   [9, 10]        5   \n",
       "38      B0000531B7    [0, 0]        5   \n",
       "39      B0000531B7    [1, 1]        5   \n",
       "41      B0000531B7    [0, 0]        5   \n",
       "42      B0000531B7  [30, 34]        5   \n",
       "44      B0000531B7    [5, 6]        5   \n",
       "45      B0000531B7    [0, 0]        5   \n",
       "47      B00005344V  [12, 12]        5   \n",
       "...            ...       ...      ...   \n",
       "151190  B00K00H9I6    [4, 4]        5   \n",
       "151191  B00K00H9I6    [1, 1]        5   \n",
       "151192  B00K00H9I6    [4, 5]        5   \n",
       "151193  B00K00H9I6    [0, 0]        5   \n",
       "151199  B00KC0LGI8    [0, 0]        5   \n",
       "151201  B00KC0LGI8    [0, 0]        5   \n",
       "151203  B00KC0LGI8    [0, 0]        5   \n",
       "151204  B00KC0LGI8    [0, 0]        5   \n",
       "151208  B00KC0LGI8    [0, 0]        5   \n",
       "151210  B00KC0LGI8    [0, 0]        5   \n",
       "151212  B00KC0LGI8    [0, 0]        5   \n",
       "151214  B00KC0LGI8    [0, 1]        5   \n",
       "151215  B00KC0LGI8    [0, 0]        5   \n",
       "151216  B00KC0LGI8    [0, 0]        5   \n",
       "151219  B00KC0LGI8    [0, 0]        5   \n",
       "151225  B00KC0LGI8    [0, 0]        5   \n",
       "151226  B00KC0LGI8    [1, 2]        5   \n",
       "151228  B00KC0LGI8    [0, 0]        5   \n",
       "151231  B00KCJRVO2    [0, 0]        5   \n",
       "151232  B00KCJRVO2    [0, 0]        5   \n",
       "151234  B00KCJRVO2    [0, 0]        5   \n",
       "151235  B00KCJRVO2    [0, 0]        5   \n",
       "151239  B00KCJRVO2    [0, 0]        5   \n",
       "151241  B00KCJRVO2    [0, 0]        5   \n",
       "151242  B00KCJRVO2    [0, 0]        5   \n",
       "151243  B00KCJRVO2    [0, 0]        5   \n",
       "151244  B00KCJRVO2    [1, 1]        5   \n",
       "151246  B00KCJRVO2    [0, 0]        5   \n",
       "151248  B00KCJRVO2    [0, 0]        5   \n",
       "151251  B00KCJRVO2    [1, 1]        5   \n",
       "\n",
       "                                               reviewText   reviewTime  \\\n",
       "3       I had never had it before, was curious to see ...  05 20, 2013   \n",
       "7       Creamy white chocolate infused with Matcha gre...   07 5, 2013   \n",
       "8       After hearing mixed opinions about these Kit K...  06 14, 2013   \n",
       "10      I ordered these in Summer so they of course ar...   10 2, 2013   \n",
       "11      These are definitely THE BEST candy bar out th...  05 26, 2013   \n",
       "12      Yes - this is one of the most expensive candie...   07 6, 2013   \n",
       "13      I love the green tea kitkat, taste so good, no...   06 8, 2013   \n",
       "16      This curry paste makes a delicious curry.  I j...  05 28, 2013   \n",
       "17      I've purchased different curries in the grocer...  09 17, 2012   \n",
       "18      I love ethnic foods and to cook them. I recent...   08 3, 2013   \n",
       "20      So many flavors. I can't begin to tell you how...  04 27, 2014   \n",
       "21      I've used this a lot recently in some of my ch...  11 27, 2012   \n",
       "22      This is a huge step up in quality from the kin...  01 25, 2013   \n",
       "23      I have two things in mind when I make a Thai c...   11 5, 2013   \n",
       "24      I like to make my own curry but this is a tast...  06 27, 2014   \n",
       "25      Because of Mae Ploy Thai Green Curry Paste, gr...   08 4, 2012   \n",
       "27      Being newbie to THai cooking, these are great ...  05 29, 2013   \n",
       "28      I have tried all the curris from Mae Ploy (exc...  12 22, 2013   \n",
       "30      I have both the red and green curry paste.  Th...  07 14, 2011   \n",
       "31      These dyes create awesome colors for kids craf...   08 7, 2012   \n",
       "33      Used for making red and green caramel corn for...  05 24, 2013   \n",
       "34      This is a nice basic selection of gel food col...  02 21, 2012   \n",
       "35      This are so much easier to use than the Wilson...   08 9, 2000   \n",
       "38      I really enjoy these bars as a quick breakfast...   07 1, 2014   \n",
       "39      Frankly, I was worried about buying these on l...  04 10, 2014   \n",
       "41      I have to watch what I eat as I am diabetic.  ...  07 28, 2012   \n",
       "42      I make no claims to sports nutrition (or any n...   03 4, 2006   \n",
       "44      If you are a fan of peanut butter and chocolat...   11 4, 2006   \n",
       "45      Love these things before a work out, they prov...   09 7, 2013   \n",
       "47      Traditional Medicinals' \"Breathe Easy\" is an a...  02 20, 2008   \n",
       "...                                                   ...          ...   \n",
       "151190  When I was offered a review sample of this syr...   07 7, 2014   \n",
       "151191  Love the fact that this is ORGANIC. My daughte...  07 18, 2014   \n",
       "151192  I am not new to &#34;real&#34; maple syrups, b...   07 8, 2014   \n",
       "151193  The first time I tried this I didn't like it -...  07 16, 2014   \n",
       "151199  Surprisingly good!  OK, this really isn't &#34...   07 8, 2014   \n",
       "151201  This salad mixture was strange at first, and I...   07 7, 2014   \n",
       "151203  Three words describe this grain salad with dri...   07 1, 2014   \n",
       "151204  the wife made this as a side to our meal. this...   07 7, 2014   \n",
       "151208  I am making the Harvest Grains to serve with f...  07 14, 2014   \n",
       "151210  This Betty Crocker Suddenly Salad using harves...   07 7, 2014   \n",
       "151212  Betty Crocker rice and grains is boiled up in ...   07 2, 2014   \n",
       "151214  I wasn't sure about this especially when I rea...  07 10, 2014   \n",
       "151215  I regularly cook for vegans and vegetarians in...  07 18, 2014   \n",
       "151216  This is an easy side dish.  We are trying to e...  07 21, 2014   \n",
       "151219  Reading the description of the product made us...   07 4, 2014   \n",
       "151225  A box of this Betty Crocker Harvest Grains Sal...   07 1, 2014   \n",
       "151226  I am always on the lookout for a nice, light, ...  06 29, 2014   \n",
       "151228  Just added some left over grilled chicken to t...   07 1, 2014   \n",
       "151231  Usually the label &#34;gluten free&#34; is a c...  07 12, 2014   \n",
       "151232  I love oatmeal, and I'm always up to trying a ...  07 21, 2014   \n",
       "151234  My daughter and husband are both gluten free a...  07 15, 2014   \n",
       "151235  Oh my!  Insanely good oatmeal and GLUTEN FREE....  06 30, 2014   \n",
       "151239  I don't need to eat gluten free but since I go...   07 1, 2014   \n",
       "151241  Surprisingly delicious for instant oatmeal. Wh...  07 10, 2014   \n",
       "151242  This is a wonderful product.  It is comforting...   07 3, 2014   \n",
       "151243  Unlike most GF breakfast products, this isn't ...  07 21, 2014   \n",
       "151244  A lot of these quick oatmeal products don't ma...   07 6, 2014   \n",
       "151246  My daughter thinks it tastes just like the reg...  07 21, 2014   \n",
       "151248  I like oatmeal and will often make a pot of Mc...   07 6, 2014   \n",
       "151251  While I usually review CDs and DVDs, as well a...   07 1, 2014   \n",
       "\n",
       "            reviewerID                                      reviewerName  \\\n",
       "3       A31QY5TASILE89                                      DebraDownSth   \n",
       "7       A3FIVHUOGMUMPK                                         greenlife   \n",
       "8       A27FSPAMTQF1J8                                            Japhyl   \n",
       "10      A220GN2X2R47JE                                            Jeremy   \n",
       "11      A3C5Z05IKSSFB9                        M. Magpoc \"maliasuperstar\"   \n",
       "12       AHA6G4IMEMAJR                                  M. Zinn \"mczinn\"   \n",
       "13      A1Q2E3W9PRG313                                           Sabrina   \n",
       "16      A23RYWDS884TUL                                     Another Freak   \n",
       "17       A945RBQWGZXCK                                            Cheryl   \n",
       "18      A1TCSC0YWT82Q0                                           GinSing   \n",
       "20      A3IB4CQ2QEJLJ8                                           J. Zack   \n",
       "21       AQA5DF3RWKETQ                                            LindaE   \n",
       "22       AOHQ17LGZHTI5                                        Matthew S.   \n",
       "23       AZKRFNQ8EFO4T                                     Mike Williams   \n",
       "24      A1Z7Y2GMAP9SRY                          M. Thompson \"Dyson Diva\"   \n",
       "25       ANDN9BU8C5XWN                                        Noell Rose   \n",
       "27       AWX83GL66IKBC                               serioushopper \"Ely\"   \n",
       "28      A3TGHJJ3ZE8KCH                           S. Thornton \"Tea Freak\"   \n",
       "30      A2ANBEX40KLY4O                                   TrishS \"TrishS\"   \n",
       "31      A1C8NAHYR6Z10F                                       A. Horikawa   \n",
       "33      A1358PQON9ZAK4                                                lj   \n",
       "34       ARTSSZHO3ZYYR                                       R. Billings   \n",
       "35      A1KXONFPU2XQ5K                                  Stephanie Manley   \n",
       "38       ATN5X2PM7OB3K                                        Danny Mack   \n",
       "39      A2BYV7S1QP2YIG                       Dr. Oceanfront \"Oceanfront\"   \n",
       "41      A1X1CEGHTHMBL1                                             jjceo   \n",
       "42      A1SYLII0808HD6                                M. Allen Greenbaum   \n",
       "44      A3MLKJ1HHA2SX0                                Robert L. Stinnett   \n",
       "45      A3D21GURDGTS0J                                           sess882   \n",
       "47      A3EBHHCZO6V2A4                              Amaranth \"music fan\"   \n",
       "...                ...                                               ...   \n",
       "151190  A2NYK9KWFMJV4Y                       Mike Tarrani \"Jazz Drummer\"   \n",
       "151191  A2NOW4U7W3F7RI                                               rpv   \n",
       "151192   ARBKYIVNYWK3C                                             RST10   \n",
       "151193  A3CG93783LP0FO                    Yarii \"fifty shades of blonde\"   \n",
       "151199  A35X2JJI49OBZP                              C. Bayne \"katluvr_1\"   \n",
       "151201   AN0N05A9LIJEQ                                          critters   \n",
       "151203  A3VLCQX7NG1N0E                                    Erin O'Riordan   \n",
       "151204  A3JT29L4YFEIMJ                                      Fred Stephen   \n",
       "151208  A1ZCYC0RHTRMZF  Kristin J. Johnson \"Three-time published author\"   \n",
       "151210  A2Y15RV8JQ36H4                                      Letta Meinen   \n",
       "151212   ABOTQXNUBA1MM                                     Mark F. Braun   \n",
       "151214   ADS99W8WMEXZ2                   Michelle Dunn \"Author & artist\"   \n",
       "151215  A14L2638XC00EZ                                    Monica J. Kern   \n",
       "151216  A1Z7Y2GMAP9SRY                          M. Thompson \"Dyson Diva\"   \n",
       "151219  A1NGFGBX2VCQS8                                     Ralph Furlong   \n",
       "151225   AK9FTWLCW09RR                                       Techie Evan   \n",
       "151226  A23O8T3LNL9YY8    Trish \"A Sun Salutin', Crochet Hookin' Chick!\"   \n",
       "151228   A1MKPMJPD22YY                                   \u001aGRANDMA ROCKS\u001a   \n",
       "151231  A3H8PA7AG48K33                                    A. Silverstone   \n",
       "151232  A2H2I5FY1PUHP1                                        Boilermate   \n",
       "151234  A3KPJ1MOGTZVGC                                     Catfish Kozmo   \n",
       "151235  A3A7Y3TSPPZU9T                                       coffeebrain   \n",
       "151239  A3MZNRSDQ32UUH                       imsocrazy \"frenzied reader\"   \n",
       "151241  A3SLC8F6VIWXIR                         John T. Horner \"jthorner\"   \n",
       "151242   AI2XINIZFPBI8                                     Kitty \"Kitty\"   \n",
       "151243  A398R165PXFOSS                       Mental Mommy \"Mental Mommy\"   \n",
       "151244  A11T807LX2EF00                                           Michael   \n",
       "151246  A3H0ZQ74ITU83J                                   Mom and Teacher   \n",
       "151248   A3VYKXHQDICC6                                       philo_vance   \n",
       "151251   ASEBX8TBYWQWA  Steven I. Ramm \"Steve Ramm &#34;Anything Phon...   \n",
       "\n",
       "                                                  summary  unixReviewTime  \\\n",
       "3                                  Unexpected flavor meld      1369008000   \n",
       "7                                          So Delicious!!      1372982400   \n",
       "8                     These are my favorite candies ever!      1371168000   \n",
       "10                                               Amazing!      1380672000   \n",
       "11      I wish I could find these in a store instead o...      1369526400   \n",
       "12                      Thank goodness they are expensive      1373068800   \n",
       "13                                             it is good      1370649600   \n",
       "16                                             Delicious!      1369699200   \n",
       "17                                           Great flavor      1347840000   \n",
       "18                             OMG! What a treasure find!      1375488000   \n",
       "20      Thai curry is the way to go to add spice to an...      1398556800   \n",
       "21                                       Thai Green Curry      1353974400   \n",
       "22                            Make green curry quite easy      1359072000   \n",
       "23                        Authentic, easy, and delicious!      1383609600   \n",
       "24                                                   Yum!      1403827200   \n",
       "25                                 My new signature dish!      1344038400   \n",
       "27                                            Taste great      1369785600   \n",
       "28                                              Delicious      1387670400   \n",
       "30                                         Tasty and fast      1310601600   \n",
       "31                                 Great for kids crafts!      1344297600   \n",
       "33      Only tested red and green, but did they worked...      1369353600   \n",
       "34                                  gel food coloring kit      1329782400   \n",
       "35                                       Very easy to use       965779200   \n",
       "38         I really enjoy these bars as a quick breakfast      1404172800   \n",
       "39                                   Good, filling bar...      1397088000   \n",
       "41      Helpful nutrition when you need it for that po...      1343433600   \n",
       "42      4 1/2  A Apple Crisp A Day Does...Something fo...      1141430400   \n",
       "44                              Best Energy Bar Out There      1162598400   \n",
       "45                                               powerbar      1378512000   \n",
       "47                                     Learning to Exhale      1203465600   \n",
       "...                                                   ...             ...   \n",
       "151190                                Exceptional quality      1404691200   \n",
       "151191                 Love the fact that this is ORGANIC      1405641600   \n",
       "151192                          Rich, complex, enjoyable!      1404777600   \n",
       "151193                                  I changed my mind      1405468800   \n",
       "151199                  Not really sudden, but very good!      1404777600   \n",
       "151201               REALLY grew on me! Says no microwave      1404691200   \n",
       "151203                                       Tastes Great      1404172800   \n",
       "151204      betty crocker suddenly grain salad-harvestmix      1404691200   \n",
       "151208  Tasty, crunchatizing side dish, prep is not ov...      1405296000   \n",
       "151210                               Fast and eEasy Salad      1404691200   \n",
       "151212                        Delicious and so easy to do      1404259200   \n",
       "151214                            Healthy, easy and tasty      1404950400   \n",
       "151215                       A tasty side dish for summer      1405641600   \n",
       "151216                                             Tasty!      1405900800   \n",
       "151219       Betty Crocker Dry Meals Suddenly Grain Salad      1404432000   \n",
       "151225                                        Flavorful!!      1404172800   \n",
       "151226                            Passed the Grae test...      1404000000   \n",
       "151228       WE LOVE THIS BETTY CROCKER'S SUDDENLY SALAD!      1404172800   \n",
       "151231                       Get Your Morning Going Right      1405123200   \n",
       "151232        What Instant Oatmeal Is Supposed to Be Like      1405900800   \n",
       "151234               Vital for those with gluten alergies      1405382400   \n",
       "151235                         Yay!  Gluten Free Oatmeal!      1404086400   \n",
       "151239                                       Tastes great      1404172800   \n",
       "151241         Surprisingly delicious for instant oatmeal      1404950400   \n",
       "151242                                         Wonderful!      1404345600   \n",
       "151243                        Just like \"normal\" oatmeal!      1405900800   \n",
       "151244  Easy to make and the taste is quite good. Exce...      1404604800   \n",
       "151246                                    Thank you Chex!      1405900800   \n",
       "151248                                          Excellent      1404604800   \n",
       "151251  Compares favorably in taste and texture with o...      1404172800   \n",
       "\n",
       "                                          tokenized_sents  \\\n",
       "3       [[I, had, never, had, it, before, ,, was, curi...   \n",
       "7       [[Creamy, white, chocolate, infused, with, Mat...   \n",
       "8       [[After, hearing, mixed, opinions, about, thes...   \n",
       "10      [[I, ordered, these, in, Summer, so, they, of,...   \n",
       "11      [[These, are, definitely, THE, BEST, candy, ba...   \n",
       "12      [[Yes, -, this, is, one, of, the, most, expens...   \n",
       "13      [[I, love, the, green, tea, kitkat, ,, taste, ...   \n",
       "16      [[This, curry, paste, makes, a, delicious, cur...   \n",
       "17      [[I, 've, purchased, different, curries, in, t...   \n",
       "18      [[I, love, ethnic, foods, and, to, cook, them,...   \n",
       "20      [[So, many, flavors, .], [I, ca, n't, begin, t...   \n",
       "21      [[I, 've, used, this, a, lot, recently, in, so...   \n",
       "22      [[This, is, a, huge, step, up, in, quality, fr...   \n",
       "23      [[I, have, two, things, in, mind, when, I, mak...   \n",
       "24      [[I, like, to, make, my, own, curry, but, this...   \n",
       "25      [[Because, of, Mae, Ploy, Thai, Green, Curry, ...   \n",
       "27      [[Being, newbie, to, THai, cooking, ,, these, ...   \n",
       "28      [[I, have, tried, all, the, curris, from, Mae,...   \n",
       "30      [[I, have, both, the, red, and, green, curry, ...   \n",
       "31      [[These, dyes, create, awesome, colors, for, k...   \n",
       "33      [[Used, for, making, red, and, green, caramel,...   \n",
       "34      [[This, is, a, nice, basic, selection, of, gel...   \n",
       "35      [[This, are, so, much, easier, to, use, than, ...   \n",
       "38      [[I, really, enjoy, these, bars, as, a, quick,...   \n",
       "39      [[Frankly, ,, I, was, worried, about, buying, ...   \n",
       "41      [[I, have, to, watch, what, I, eat, as, I, am,...   \n",
       "42      [[I, make, no, claims, to, sports, nutrition, ...   \n",
       "44      [[If, you, are, a, fan, of, peanut, butter, an...   \n",
       "45      [[Love, these, things, before, a, work, out, ,...   \n",
       "47      [[Traditional, Medicinals, ', ``, Breathe, Eas...   \n",
       "...                                                   ...   \n",
       "151190  [[When, I, was, offered, a, review, sample, of...   \n",
       "151191  [[Love, the, fact, that, this, is, ORGANIC, .]...   \n",
       "151192  [[I, am, not, new, to, &, #, 34, ;, real, &, #...   \n",
       "151193  [[The, first, time, I, tried, this, I, did, n'...   \n",
       "151199  [[Surprisingly, good, !], [OK, ,, this, really...   \n",
       "151201  [[This, salad, mixture, was, strange, at, firs...   \n",
       "151203  [[Three, words, describe, this, grain, salad, ...   \n",
       "151204  [[the, wife, made, this, as, a, side, to, our,...   \n",
       "151208  [[I, am, making, the, Harvest, Grains, to, ser...   \n",
       "151210  [[This, Betty, Crocker, Suddenly, Salad, using...   \n",
       "151212  [[Betty, Crocker, rice, and, grains, is, boile...   \n",
       "151214  [[I, was, n't, sure, about, this, especially, ...   \n",
       "151215  [[I, regularly, cook, for, vegans, and, vegeta...   \n",
       "151216  [[This, is, an, easy, side, dish, .], [We, are...   \n",
       "151219  [[Reading, the, description, of, the, product,...   \n",
       "151225  [[A, box, of, this, Betty, Crocker, Harvest, G...   \n",
       "151226  [[I, am, always, on, the, lookout, for, a, nic...   \n",
       "151228  [[Just, added, some, left, over, grilled, chic...   \n",
       "151231  [[Usually, the, label, &, #, 34, ;, gluten, fr...   \n",
       "151232  [[I, love, oatmeal, ,, and, I, 'm, always, up,...   \n",
       "151234  [[My, daughter, and, husband, are, both, glute...   \n",
       "151235  [[Oh, my, !], [Insanely, good, oatmeal, and, G...   \n",
       "151239  [[I, do, n't, need, to, eat, gluten, free, but...   \n",
       "151241  [[Surprisingly, delicious, for, instant, oatme...   \n",
       "151242  [[This, is, a, wonderful, product, .], [It, is...   \n",
       "151243  [[Unlike, most, GF, breakfast, products, ,, th...   \n",
       "151244  [[A, lot, of, these, quick, oatmeal, products,...   \n",
       "151246  [[My, daughter, thinks, it, tastes, just, like...   \n",
       "151248  [[I, like, oatmeal, and, will, often, make, a,...   \n",
       "151251  [[While, I, usually, review, CDs, and, DVDs, ,...   \n",
       "\n",
       "                                         normalized_sents  \\\n",
       "3       [[never, curious, see, like], [smooth, great, ...   \n",
       "7       [[creamy, white, chocolate, infused, matcha, g...   \n",
       "8       [[hearing, mixed, opinions, kit, kats, decided...   \n",
       "10      [[ordered, summer, course, arrived, melted, tr...   \n",
       "11      [[definitely, best, candy, bar], [wish, able, ...   \n",
       "12      [[yes, one, expensive, candies, around, comes,...   \n",
       "13      [[love, green, tea, kitkat, taste, good, sweet...   \n",
       "16      [[curry, paste, makes, delicious, curry], [fri...   \n",
       "17      [[purchased, different, curries, grocery, stor...   \n",
       "18      [[love, ethnic, foods, cook], [recently, purch...   \n",
       "20      [[many, flavors], [ca, begin, tell, much, love...   \n",
       "21      [[used, lot, recently, chicken, dishes], [use,...   \n",
       "22      [[huge, step, quality, kind, normally, availab...   \n",
       "23      [[two, things, mind, make, thai, curry, want, ...   \n",
       "24      [[like, make, curry, tasty, alternative], [use...   \n",
       "25      [[mae, ploy, thai, green, curry, paste, green,...   \n",
       "27      [[newbie, thai, cooking, great, addition, kitc...   \n",
       "28      [[tried, curris, mae, ploy, excluding, panag, ...   \n",
       "30      [[red, green, curry, paste], [green, milder], ...   \n",
       "31      [[dyes, create, awesome, colors, kids, crafts]...   \n",
       "33      [[used, making, red, green, caramel, corn, chr...   \n",
       "34      [[nice, basic, selection, gel, food, colorings...   \n",
       "35      [[much, easier, use, wilson, paste, colors], [...   \n",
       "38      [[really, enjoy, bars, quick, breakfast, lunch...   \n",
       "39      [[frankly, worried, buying, line, heard, stori...   \n",
       "41      [[watch, eat, diabetic], [result, experience, ...   \n",
       "42      [[make, claims, sports, nutrition, nutrition, ...   \n",
       "44      [[fan, peanut, butter, chocolate, bar], [tried...   \n",
       "45      [[love, things, work, provide, good, energy, p...   \n",
       "47      [[traditional, medicinals, breathe, easy, amaz...   \n",
       "...                                                   ...   \n",
       "151190  [[offered, review, sample, syrup, curious, tas...   \n",
       "151191  [[love, fact, organic], [daughter, loves, mapl...   \n",
       "151192  [[new, real, maple, syrups, traditionally, buy...   \n",
       "151193  [[first, time, tried, like, syrup, thin, prefe...   \n",
       "151199  [[surprisingly, good], [ok, really, sudden, un...   \n",
       "151201  [[salad, mixture, strange, first, going, give,...   \n",
       "151203  [[three, words, describe, grain, salad, dried,...   \n",
       "151204  [[wife, made, side, meal], [good, stuff, side,...   \n",
       "151208  [[making, harvest, grains, serve, flank, steak...   \n",
       "151210  [[betty, crocker, suddenly, salad, using, harv...   \n",
       "151212  [[betty, crocker, rice, grains, boiled, baggy,...   \n",
       "151214  [[sure, especially, read, eat, cold], [reason,...   \n",
       "151215  [[regularly, cook, vegans, vegetarians, family...   \n",
       "151216  [[easy, side, dish], [trying, eat, grains, tas...   \n",
       "151219  [[reading, description, product, made, us, wan...   \n",
       "151225  [[box, betty, crocker, harvest, grains, salad,...   \n",
       "151226  [[always, lookout, nice, light, side, summerti...   \n",
       "151228  [[added, left, grilled, chicken, suddenly, sal...   \n",
       "151231  [[usually, label, gluten, free, code, word, ta...   \n",
       "151232  [[love, oatmeal, always, trying, new, brand, v...   \n",
       "151234  [[daughter, husband, gluten, free, love, oatme...   \n",
       "151235  [[oh], [insanely, good, oatmeal, gluten, free]...   \n",
       "151239  [[need, eat, gluten, free, since, got, sent, t...   \n",
       "151241  [[surprisingly, delicious, instant, oatmeal], ...   \n",
       "151242  [[wonderful, product], [comforting, certified,...   \n",
       "151243  [[unlike, gf, breakfast, products, different, ...   \n",
       "151244  [[lot, quick, oatmeal, products, make, grade],...   \n",
       "151246  [[daughter, thinks, tastes, like, regular, qua...   \n",
       "151248  [[like, oatmeal, often, make, pot, mccann, sto...   \n",
       "151251  [[usually, review, cds, dvds, well, entertainm...   \n",
       "\n",
       "                                          tokenized_words  \\\n",
       "3       [I, had, never, had, it, before, ,, was, curio...   \n",
       "7       [Creamy, white, chocolate, infused, with, Matc...   \n",
       "8       [After, hearing, mixed, opinions, about, these...   \n",
       "10      [I, ordered, these, in, Summer, so, they, of, ...   \n",
       "11      [These, are, definitely, THE, BEST, candy, bar...   \n",
       "12      [Yes, -, this, is, one, of, the, most, expensi...   \n",
       "13      [I, love, the, green, tea, kitkat, ,, taste, s...   \n",
       "16      [This, curry, paste, makes, a, delicious, curr...   \n",
       "17      [I, 've, purchased, different, curries, in, th...   \n",
       "18      [I, love, ethnic, foods, and, to, cook, them, ...   \n",
       "20      [So, many, flavors, ., I, ca, n't, begin, to, ...   \n",
       "21      [I, 've, used, this, a, lot, recently, in, som...   \n",
       "22      [This, is, a, huge, step, up, in, quality, fro...   \n",
       "23      [I, have, two, things, in, mind, when, I, make...   \n",
       "24      [I, like, to, make, my, own, curry, but, this,...   \n",
       "25      [Because, of, Mae, Ploy, Thai, Green, Curry, P...   \n",
       "27      [Being, newbie, to, THai, cooking, ,, these, a...   \n",
       "28      [I, have, tried, all, the, curris, from, Mae, ...   \n",
       "30      [I, have, both, the, red, and, green, curry, p...   \n",
       "31      [These, dyes, create, awesome, colors, for, ki...   \n",
       "33      [Used, for, making, red, and, green, caramel, ...   \n",
       "34      [This, is, a, nice, basic, selection, of, gel,...   \n",
       "35      [This, are, so, much, easier, to, use, than, t...   \n",
       "38      [I, really, enjoy, these, bars, as, a, quick, ...   \n",
       "39      [Frankly, ,, I, was, worried, about, buying, t...   \n",
       "41      [I, have, to, watch, what, I, eat, as, I, am, ...   \n",
       "42      [I, make, no, claims, to, sports, nutrition, (...   \n",
       "44      [If, you, are, a, fan, of, peanut, butter, and...   \n",
       "45      [Love, these, things, before, a, work, out, ,,...   \n",
       "47      [Traditional, Medicinals, ', ``, Breathe, Easy...   \n",
       "...                                                   ...   \n",
       "151190  [When, I, was, offered, a, review, sample, of,...   \n",
       "151191  [Love, the, fact, that, this, is, ORGANIC, ., ...   \n",
       "151192  [I, am, not, new, to, &, #, 34, ;, real, &, #,...   \n",
       "151193  [The, first, time, I, tried, this, I, did, n't...   \n",
       "151199  [Surprisingly, good, !, OK, ,, this, really, i...   \n",
       "151201  [This, salad, mixture, was, strange, at, first...   \n",
       "151203  [Three, words, describe, this, grain, salad, w...   \n",
       "151204  [the, wife, made, this, as, a, side, to, our, ...   \n",
       "151208  [I, am, making, the, Harvest, Grains, to, serv...   \n",
       "151210  [This, Betty, Crocker, Suddenly, Salad, using,...   \n",
       "151212  [Betty, Crocker, rice, and, grains, is, boiled...   \n",
       "151214  [I, was, n't, sure, about, this, especially, w...   \n",
       "151215  [I, regularly, cook, for, vegans, and, vegetar...   \n",
       "151216  [This, is, an, easy, side, dish, ., We, are, t...   \n",
       "151219  [Reading, the, description, of, the, product, ...   \n",
       "151225  [A, box, of, this, Betty, Crocker, Harvest, Gr...   \n",
       "151226  [I, am, always, on, the, lookout, for, a, nice...   \n",
       "151228  [Just, added, some, left, over, grilled, chick...   \n",
       "151231  [Usually, the, label, &, #, 34, ;, gluten, fre...   \n",
       "151232  [I, love, oatmeal, ,, and, I, 'm, always, up, ...   \n",
       "151234  [My, daughter, and, husband, are, both, gluten...   \n",
       "151235  [Oh, my, !, Insanely, good, oatmeal, and, GLUT...   \n",
       "151239  [I, do, n't, need, to, eat, gluten, free, but,...   \n",
       "151241  [Surprisingly, delicious, for, instant, oatmea...   \n",
       "151242  [This, is, a, wonderful, product, ., It, is, c...   \n",
       "151243  [Unlike, most, GF, breakfast, products, ,, thi...   \n",
       "151244  [A, lot, of, these, quick, oatmeal, products, ...   \n",
       "151246  [My, daughter, thinks, it, tastes, just, like,...   \n",
       "151248  [I, like, oatmeal, and, will, often, make, a, ...   \n",
       "151251  [While, I, usually, review, CDs, and, DVDs, ,,...   \n",
       "\n",
       "                                         normalized_words  \n",
       "3       [never, curious, see, like, smooth, great, sub...  \n",
       "7       [creamy, white, chocolate, infused, matcha, gr...  \n",
       "8       [hearing, mixed, opinions, kit, kats, decided,...  \n",
       "10      [ordered, summer, course, arrived, melted, tri...  \n",
       "11      [definitely, best, candy, bar, wish, able, fin...  \n",
       "12      [yes, one, expensive, candies, around, comes, ...  \n",
       "13      [love, green, tea, kitkat, taste, good, sweet,...  \n",
       "16      [curry, paste, makes, delicious, curry, fried,...  \n",
       "17      [purchased, different, curries, grocery, store...  \n",
       "18      [love, ethnic, foods, cook, recently, purchase...  \n",
       "20      [many, flavors, ca, begin, tell, much, love, m...  \n",
       "21      [used, lot, recently, chicken, dishes, use, lo...  \n",
       "22      [huge, step, quality, kind, normally, availabl...  \n",
       "23      [two, things, mind, make, thai, curry, want, t...  \n",
       "24      [like, make, curry, tasty, alternative, use, b...  \n",
       "25      [mae, ploy, thai, green, curry, paste, green, ...  \n",
       "27      [newbie, thai, cooking, great, addition, kitch...  \n",
       "28      [tried, curris, mae, ploy, excluding, panag, v...  \n",
       "30      [red, green, curry, paste, green, milder, use,...  \n",
       "31      [dyes, create, awesome, colors, kids, crafts, ...  \n",
       "33      [used, making, red, green, caramel, corn, chri...  \n",
       "34      [nice, basic, selection, gel, food, colorings,...  \n",
       "35      [much, easier, use, wilson, paste, colors, col...  \n",
       "38      [really, enjoy, bars, quick, breakfast, lunch,...  \n",
       "39      [frankly, worried, buying, line, heard, storie...  \n",
       "41      [watch, eat, diabetic, result, experience, low...  \n",
       "42      [make, claims, sports, nutrition, nutrition, m...  \n",
       "44      [fan, peanut, butter, chocolate, bar, tried, n...  \n",
       "45      [love, things, work, provide, good, energy, pu...  \n",
       "47      [traditional, medicinals, breathe, easy, amazi...  \n",
       "...                                                   ...  \n",
       "151190  [offered, review, sample, syrup, curious, tast...  \n",
       "151191  [love, fact, organic, daughter, loves, maple, ...  \n",
       "151192  [new, real, maple, syrups, traditionally, buye...  \n",
       "151193  [first, time, tried, like, syrup, thin, prefer...  \n",
       "151199  [surprisingly, good, ok, really, sudden, unles...  \n",
       "151201  [salad, mixture, strange, first, going, give, ...  \n",
       "151203  [three, words, describe, grain, salad, dried, ...  \n",
       "151204  [wife, made, side, meal, good, stuff, side, pl...  \n",
       "151208  [making, harvest, grains, serve, flank, steak,...  \n",
       "151210  [betty, crocker, suddenly, salad, using, harve...  \n",
       "151212  [betty, crocker, rice, grains, boiled, baggy, ...  \n",
       "151214  [sure, especially, read, eat, cold, reason, th...  \n",
       "151215  [regularly, cook, vegans, vegetarians, family,...  \n",
       "151216  [easy, side, dish, trying, eat, grains, tasty,...  \n",
       "151219  [reading, description, product, made, us, want...  \n",
       "151225  [box, betty, crocker, harvest, grains, salad, ...  \n",
       "151226  [always, lookout, nice, light, side, summertim...  \n",
       "151228  [added, left, grilled, chicken, suddenly, sala...  \n",
       "151231  [usually, label, gluten, free, code, word, tas...  \n",
       "151232  [love, oatmeal, always, trying, new, brand, va...  \n",
       "151234  [daughter, husband, gluten, free, love, oatmea...  \n",
       "151235  [oh, insanely, good, oatmeal, gluten, free, ne...  \n",
       "151239  [need, eat, gluten, free, since, got, sent, th...  \n",
       "151241  [surprisingly, delicious, instant, oatmeal, ti...  \n",
       "151242  [wonderful, product, comforting, certified, gl...  \n",
       "151243  [unlike, gf, breakfast, products, different, t...  \n",
       "151244  [lot, quick, oatmeal, products, make, grade, z...  \n",
       "151246  [daughter, thinks, tastes, like, regular, quak...  \n",
       "151248  [like, oatmeal, often, make, pot, mccann, stor...  \n",
       "151251  [usually, review, cds, dvds, well, entertainme...  \n",
       "\n",
       "[87446 rows x 13 columns]"
      ]
     },
     "execution_count": 24,
     "metadata": {},
     "output_type": "execute_result"
    }
   ],
   "source": [
    "amazonRev5DF['tokenized_words'] = amazonRev5DF['reviewText'].apply(lambda x: nltk.word_tokenize(x))\n",
    "amazonRev5DF['normalized_words'] = amazonRev5DF['tokenized_words'].apply(lambda x: lucem_illud.normalizeTokens(x, stopwordLst = lucem_illud.stop_words_basic, stemmer = None))\n",
    "amazonRev5DF"
   ]
  },
  {
   "cell_type": "markdown",
   "metadata": {},
   "source": [
    "I also had to create a unique id for each review in order to be able to identify them afterwards."
   ]
  },
  {
   "cell_type": "code",
   "execution_count": 25,
   "metadata": {},
   "outputs": [
    {
     "name": "stderr",
     "output_type": "stream",
     "text": [
      "/Users/arielazar/anaconda3/lib/python3.6/site-packages/ipykernel_launcher.py:1: SettingWithCopyWarning: \n",
      "A value is trying to be set on a copy of a slice from a DataFrame.\n",
      "Try using .loc[row_indexer,col_indexer] = value instead\n",
      "\n",
      "See the caveats in the documentation: http://pandas.pydata.org/pandas-docs/stable/indexing.html#indexing-view-versus-copy\n",
      "  \"\"\"Entry point for launching an IPython kernel.\n"
     ]
    }
   ],
   "source": [
    "amazonRev5DF['uniqueID'] = amazonRev5DF['reviewerID'].astype(str) + amazonRev5DF['unixReviewTime'].astype(str)"
   ]
  },
  {
   "cell_type": "code",
   "execution_count": 26,
   "metadata": {},
   "outputs": [
    {
     "name": "stderr",
     "output_type": "stream",
     "text": [
      "/Users/arielazar/anaconda3/lib/python3.6/site-packages/ipykernel_launcher.py:1: SettingWithCopyWarning: \n",
      "A value is trying to be set on a copy of a slice from a DataFrame.\n",
      "Try using .loc[row_indexer,col_indexer] = value instead\n",
      "\n",
      "See the caveats in the documentation: http://pandas.pydata.org/pandas-docs/stable/indexing.html#indexing-view-versus-copy\n",
      "  \"\"\"Entry point for launching an IPython kernel.\n"
     ]
    },
    {
     "data": {
      "text/plain": [
       "9         A33NXNZ79H5K511348012800\n",
       "32        A14YSMLYLJEMET1364515200\n",
       "75        A3OH4OZFZGEH751365120000\n",
       "82          A2OUNVRPRWH01367884800\n",
       "85         AX04H2SPKO02S1362528000\n",
       "162       A1M9L949MA66I31358899200\n",
       "217       A30JPZ9TZ7I61U1346371200\n",
       "265       A34PAZQ73SL1631168732800\n",
       "270       A2MPW1R13SHA2S1352592000\n",
       "290       A3FHWQ3H3ZT2YE1298937600\n",
       "320       A25VFHVGI4CFTP1335744000\n",
       "339        AHRKNAVOFIQG01394755200\n",
       "354       A3L61G6N7AT8N21388361600\n",
       "355        AI0NMYA3LKXW11232323200\n",
       "361       A29QXI9MWCVO7Q1288483200\n",
       "383        A6KWQKOHSFYQC1379808000\n",
       "470       A35Q0JH999NPN01361923200\n",
       "495       A2GA64WZK8PKBC1356566400\n",
       "504        A7WH560VVUXB21329004800\n",
       "521        AD2QRU9ZXBQZ11393804800\n",
       "539       A2WNN1DQVL4LH51333670400\n",
       "544       A2F0ROXOUD88901366934400\n",
       "565       A3CI9DSB6Z76JF1392508800\n",
       "572       A2R62KGNIF8DX61355788800\n",
       "597        AI20XOYZ8L6LJ1355356800\n",
       "611       A2DB720I9XRX7K1193356800\n",
       "613         A844QT2C8NQC1363564800\n",
       "619       A2XKJ1KX6XUHYP1323648000\n",
       "660       A1OXH6BF4LJEVH1377734400\n",
       "714       A1LPAJPQYR6M191377561600\n",
       "                    ...           \n",
       "150083    A2QR043WBXXX6L1400630400\n",
       "150313    A28SSSEO1HPAVT1399075200\n",
       "150320     A8KKLML9M0S1G1404259200\n",
       "150326    A3OE8046KWT42B1394064000\n",
       "150333    A12FPG5P7T0IMA1394323200\n",
       "150352    A100WO06OQR8BQ1393804800\n",
       "150424     AS44QEHT3KSPK1393113600\n",
       "150437    A1PB1BJSULOG4L1392595200\n",
       "150438    A1IW1ANBV0DPVI1395273600\n",
       "150479    A1D9V11QUHXENQ1393286400\n",
       "150527     AEUY5C51JAWWH1400112000\n",
       "150541     AD6GX7BKC4VTX1401321600\n",
       "150544    A3094EPI56GKZ61395187200\n",
       "150603    A15RFUYKBBGX5S1398816000\n",
       "150673    A2Y4AGDHAHIFRL1388016000\n",
       "150725    A258XI7LXU9ZG01352851200\n",
       "150787     AHSHR8WG45XRT1405728000\n",
       "150788    A16WPA6JV83YXT1404950400\n",
       "150821    A2ZWTFZRNQW7D51404950400\n",
       "150842     AXNJFYJRDK7CJ1405555200\n",
       "150850    A17TASZJT6Y39D1403481600\n",
       "150858    A2XAQOWHRPY98K1404777600\n",
       "150871    A37JNUJSVAJKYN1406073600\n",
       "150890     ATS7LYGLUX34L1402704000\n",
       "150900    A2HZ3Z494VS1KG1400889600\n",
       "150926    A3LHIRT4SR3F9T1403049600\n",
       "150952    A35R32TA60XD571401408000\n",
       "150968     AV67P142JTRAH1404345600\n",
       "150970    A2CZPM110DW5161404172800\n",
       "150985    A1C760KGFSRI6F1405900800\n",
       "Name: uniqueID, Length: 5779, dtype: object"
      ]
     },
     "execution_count": 26,
     "metadata": {},
     "output_type": "execute_result"
    }
   ],
   "source": [
    "amazonRev1DF['uniqueID'] = amazonRev1DF['reviewerID'].astype(str) + amazonRev1DF['unixReviewTime'].astype(str)\n",
    "amazonRev1DF['uniqueID']"
   ]
  },
  {
   "cell_type": "code",
   "execution_count": 27,
   "metadata": {},
   "outputs": [
    {
     "name": "stderr",
     "output_type": "stream",
     "text": [
      "/Users/arielazar/anaconda3/lib/python3.6/site-packages/ipykernel_launcher.py:7: SettingWithCopyWarning: \n",
      "A value is trying to be set on a copy of a slice from a DataFrame.\n",
      "Try using .loc[row_indexer,col_indexer] = value instead\n",
      "\n",
      "See the caveats in the documentation: http://pandas.pydata.org/pandas-docs/stable/indexing.html#indexing-view-versus-copy\n",
      "  import sys\n"
     ]
    }
   ],
   "source": [
    "taggedDocs1 = []\n",
    "for index, row in amazonRev1DF.iterrows():\n",
    "    #Just doing a simple keyword assignment\n",
    "    docKeywords1 = [s for s in keywords if s in row['normalized_words']]\n",
    "    docKeywords1.append(row['uniqueID']) #This lets us extract individual documnets since doi's are unique\n",
    "    taggedDocs1.append(gensim.models.doc2vec.LabeledSentence(words = row['normalized_words'], tags = docKeywords1))\n",
    "amazonRev1DF['TaggedReviews'] = taggedDocs1"
   ]
  },
  {
   "cell_type": "code",
   "execution_count": 28,
   "metadata": {},
   "outputs": [
    {
     "name": "stderr",
     "output_type": "stream",
     "text": [
      "/Users/arielazar/anaconda3/lib/python3.6/site-packages/ipykernel_launcher.py:7: SettingWithCopyWarning: \n",
      "A value is trying to be set on a copy of a slice from a DataFrame.\n",
      "Try using .loc[row_indexer,col_indexer] = value instead\n",
      "\n",
      "See the caveats in the documentation: http://pandas.pydata.org/pandas-docs/stable/indexing.html#indexing-view-versus-copy\n",
      "  import sys\n"
     ]
    }
   ],
   "source": [
    "taggedDocs5 = []\n",
    "for index, row in amazonRev5DF.iterrows():\n",
    "    #Just doing a simple keyword assignment\n",
    "    docKeywords5 = [s for s in keywords if s in row['normalized_words']]\n",
    "    docKeywords5.append(row['uniqueID']) #This lets us extract individual documnets since doi's are unique\n",
    "    taggedDocs5.append(gensim.models.doc2vec.LabeledSentence(words = row['normalized_words'], tags = docKeywords5))\n",
    "amazonRev5DF['TaggedReviews'] = taggedDocs5"
   ]
  },
  {
   "cell_type": "code",
   "execution_count": 51,
   "metadata": {
    "collapsed": true
   },
   "outputs": [],
   "source": [
    "amazonRev5DF.to_csv('amazonRev5DF.csv')\n",
    "amazonRev1DF.to_csv('amazonRev1DF.csv')"
   ]
  },
  {
   "cell_type": "markdown",
   "metadata": {},
   "source": [
    "I can now create a Doc2Vec model for each type of review in order to estimate distances between specific words and documents and therefore distances between documents with regards to a specidif word."
   ]
  },
  {
   "cell_type": "code",
   "execution_count": 30,
   "metadata": {
    "collapsed": true
   },
   "outputs": [],
   "source": [
    "amazonRev1D2V = gensim.models.doc2vec.Doc2Vec(amazonRev1DF['TaggedReviews'], size = 100) #Limiting to 100 dimensions\n",
    "amazonRev5D2V = gensim.models.doc2vec.Doc2Vec(amazonRev5DF['TaggedReviews'], size = 100) #Limiting to 100 dimensions"
   ]
  },
  {
   "cell_type": "code",
   "execution_count": 31,
   "metadata": {},
   "outputs": [
    {
     "data": {
      "text/plain": [
       "array([-1.44154653e-01, -5.27904928e-02,  1.39810234e-01,  7.28615820e-02,\n",
       "        9.29741636e-02,  5.42873964e-02,  1.46048903e-01, -1.41864821e-01,\n",
       "        6.61028689e-03,  1.08347833e-01, -2.03778986e-02, -6.73220167e-03,\n",
       "       -8.03600475e-02,  8.62790570e-02, -5.64883836e-02,  3.79160536e-03,\n",
       "       -1.15229160e-01,  2.76977513e-02,  2.96101458e-02,  3.41008045e-02,\n",
       "       -4.25110608e-02,  1.98343173e-01, -8.53242446e-03,  1.43601924e-01,\n",
       "       -1.12235971e-01, -1.13572747e-01,  6.10507419e-03, -4.34884839e-02,\n",
       "       -7.52002299e-02,  1.10004477e-01, -2.18043514e-02,  9.67059359e-02,\n",
       "        2.69874334e-02,  1.03579927e-02, -3.61195244e-02, -1.42384738e-01,\n",
       "       -4.46230769e-02, -5.93880564e-02,  1.81173176e-01, -4.96142358e-02,\n",
       "       -1.61356509e-01, -5.36050983e-02,  1.25570288e-02,  1.26216620e-01,\n",
       "       -1.27851903e-01,  2.45110523e-02, -8.10444281e-02,  5.80507480e-02,\n",
       "       -4.20890003e-02, -1.31168328e-02,  2.48326045e-02, -1.29341250e-04,\n",
       "       -5.16787432e-02, -2.40621995e-02, -9.59792808e-02, -1.49080217e-01,\n",
       "       -7.23341182e-02, -2.96565425e-02,  3.18683088e-02, -5.04400507e-02,\n",
       "        7.47022554e-02, -1.70555428e-01,  6.87891766e-02,  7.39062279e-02,\n",
       "        1.62729397e-02, -1.06707670e-01,  6.54145256e-02, -8.23004544e-02,\n",
       "        1.60944328e-01,  1.10766560e-01,  6.07143110e-03,  2.11955905e-02,\n",
       "        3.09171025e-02,  8.51151422e-02,  1.96056664e-02,  6.62166476e-02,\n",
       "        3.65311801e-02, -8.50017220e-02,  4.69444990e-02,  3.02991122e-02,\n",
       "        1.32816201e-02,  8.95659402e-02,  3.84158082e-02,  5.09812459e-02,\n",
       "        6.77376837e-02,  4.33110110e-02, -6.90335333e-02, -1.11384183e-01,\n",
       "       -1.18255302e-01,  6.56460896e-02,  1.10470399e-01,  6.08600862e-02,\n",
       "       -3.34463967e-03,  3.71711627e-02,  7.55018815e-02,  1.61565617e-02,\n",
       "        6.50773123e-02,  1.22238420e-01,  1.06975645e-01, -1.06013179e-01],\n",
       "      dtype=float32)"
      ]
     },
     "execution_count": 31,
     "metadata": {},
     "output_type": "execute_result"
    }
   ],
   "source": [
    "amazonRev1D2V.docvecs[1952]"
   ]
  },
  {
   "cell_type": "markdown",
   "metadata": {},
   "source": [
    "I can show, for example the 5 documents that are 'closest' to the word `good` in both types of reviews. "
   ]
  },
  {
   "cell_type": "code",
   "execution_count": 32,
   "metadata": {},
   "outputs": [
    {
     "data": {
      "text/plain": [
       "[('A22VNXHU6IZ5MT1331769600', 0.9437639117240906),\n",
       " ('A1R1BFJCMWX0Y31313971200', 0.9416506886482239),\n",
       " ('AZAKCIFE27RAA1308787200', 0.9371153712272644),\n",
       " ('A1T43UUK4EDHC21379721600', 0.9248603582382202),\n",
       " ('A3B9QZNGAOZSXH1358640000', 0.9150854349136353)]"
      ]
     },
     "execution_count": 32,
     "metadata": {},
     "output_type": "execute_result"
    }
   ],
   "source": [
    "amazonRev1D2V.docvecs.most_similar([ amazonRev1D2V['good'] ], topn=5 )"
   ]
  },
  {
   "cell_type": "code",
   "execution_count": 35,
   "metadata": {},
   "outputs": [
    {
     "data": {
      "text/plain": [
       "[('AFCXZGQDQB8EK1389052800', 0.7587423324584961),\n",
       " ('A2LXC5ZHHP0WXP1332374400', 0.7576904296875),\n",
       " ('A108PBHPOJ7X4Z1403913600', 0.7506402134895325),\n",
       " ('A3T0CQMWAOIPK31355875200', 0.7494800090789795),\n",
       " ('ADEZOPMPKK1461236124800', 0.7471585869789124)]"
      ]
     },
     "execution_count": 35,
     "metadata": {},
     "output_type": "execute_result"
    }
   ],
   "source": [
    "amazonRev5D2V.docvecs.most_similar([ amazonRev1D2V['good'] ], topn=5 )"
   ]
  },
  {
   "cell_type": "markdown",
   "metadata": {},
   "source": [
    "I can also show the five words that are closer to a specific document (in this case, the top two documents closer to the word `good` in each corpus). It is interesting to see that for the 5-star reviews, documents that are closer to the word `good` are closer to it than the documents that are closer to the same word in the 5-star reviews. "
   ]
  },
  {
   "cell_type": "code",
   "execution_count": 38,
   "metadata": {},
   "outputs": [
    {
     "data": {
      "text/plain": [
       "[('think', 0.9614860415458679),\n",
       " ('something', 0.9461454153060913),\n",
       " ('argue', 0.9455932378768921),\n",
       " ('good', 0.9416506886482239),\n",
       " ('thought', 0.9362425208091736)]"
      ]
     },
     "execution_count": 38,
     "metadata": {},
     "output_type": "execute_result"
    }
   ],
   "source": [
    "amazonRev1D2V.most_similar( [ amazonRev1D2V.docvecs['A22VNXHU6IZ5MT1331769600'] ], topn=5)"
   ]
  },
  {
   "cell_type": "code",
   "execution_count": 50,
   "metadata": {},
   "outputs": [
    {
     "data": {
      "text/plain": [
       "[('coffeecake', 0.8593560457229614),\n",
       " ('cleansed', 0.8490613698959351),\n",
       " ('lozenge', 0.8468270897865295),\n",
       " ('andthis', 0.8436360359191895),\n",
       " ('productive', 0.8399413824081421)]"
      ]
     },
     "execution_count": 50,
     "metadata": {},
     "output_type": "execute_result"
    }
   ],
   "source": [
    "amazonRev5D2V.most_similar( [ amazonRev5D2V.docvecs['AFCXZGQDQB8EK1389052800'] ], topn=5)"
   ]
  },
  {
   "cell_type": "markdown",
   "metadata": {},
   "source": [
    "It is also possible to see the distance of specific documents to a combination of words. "
   ]
  },
  {
   "cell_type": "code",
   "execution_count": 40,
   "metadata": {},
   "outputs": [
    {
     "data": {
      "text/plain": [
       "[('A1R6DKN9YQ2YU11327536000', 0.9681601524353027),\n",
       " ('A2V5R832QCSOMX1290643200', 0.9628283977508545),\n",
       " ('AI0PLL5DQAHRG1364342400', 0.960732638835907),\n",
       " ('AOYSWD91I82C21389052800', 0.9567286372184753),\n",
       " ('A1R9QOPV6HVEKF1212710400', 0.952499508857727)]"
      ]
     },
     "execution_count": 40,
     "metadata": {},
     "output_type": "execute_result"
    }
   ],
   "source": [
    "amazonRev1D2V.docvecs.most_similar([ amazonRev1D2V['terrible']+amazonRev1D2V['coffee']], topn=5 )"
   ]
  },
  {
   "attachments": {},
   "cell_type": "markdown",
   "metadata": {},
   "source": [
    "Review A1R6DKN9YQ2YU11327536000: `Obviously everyone's tastes are different, so just because I didn't like this doesn't mean you won't. I tried this hot and was only able to get through a couple sips. I tasted no lemon whatsoever, and the ginger was totally overpowering and bitter. As another reviewer mentioned, this is not a lemony golden color in your cup, as shown on the package...it's a dark swampy color. Like coffee with a lot of milk in it. I guess I was hoping for a light gingery lemon flavor that would be soothing, but this was far from it. I'm always on the hunt for new teas other warm beverages, so I'm glad I got to try this. Unfortunately it just wasn't for me.`"
   ]
  },
  {
   "cell_type": "code",
   "execution_count": 52,
   "metadata": {},
   "outputs": [
    {
     "data": {
      "text/plain": [
       "[('A23LF95HUEIGUR1362960000', 0.6358020305633545),\n",
       " ('A3H0814AB2IWUA1299369600', 0.598336935043335),\n",
       " ('AM004PHO6F3FZ1279065600', 0.5936683416366577),\n",
       " ('A2O49UZ3R0IM111348531200', 0.593308687210083),\n",
       " ('A4PI4DZJSVF6Q1311552000', 0.57705157995224)]"
      ]
     },
     "execution_count": 52,
     "metadata": {},
     "output_type": "execute_result"
    }
   ],
   "source": [
    "amazonRev5D2V.docvecs.most_similar([ amazonRev5D2V['terrible']+amazonRev5D2V['coffee']], topn=5 )"
   ]
  },
  {
   "attachments": {},
   "cell_type": "markdown",
   "metadata": {},
   "source": [
    "Review A23LF95HUEIGUR1362960000: `I drink coffee!  I grind my own and use an Aerobie  press to make espresso and use that to make American style with hazelnut. I use the Taster's Choice for a quick cup thru the day or for the bedside cup at night. As I said, I drink coffee. Taster's Choice Instant  is unequivocally the best instant.  The fairly recent switch by Nestl&eacute; to the \"house blend\" was a little disappointing at first, but the taste seems to have adjusted back to an instant full bodied rich instant taste. It'll certainly do when you can't brew`"
   ]
  },
  {
   "cell_type": "markdown",
   "metadata": {},
   "source": [
    "In order to visualize the word to word and doc to word distances, I can creat a heatmap. Firt I show the distances between my keywords for each corpus, and then the distances between the keywords and the first 40 reviews of each corpus. In general, it is striking that the keywords are really far from each other in the 5-star reviews, while they are closer in the 1-star reviews."
   ]
  },
  {
   "cell_type": "code",
   "execution_count": 43,
   "metadata": {},
   "outputs": [],
   "source": [
    "heatmapMatrix1 = []\n",
    "for tagOuter in keywords:\n",
    "    column1 = []\n",
    "    tagVec1 = amazonRev1D2V.docvecs[tagOuter].reshape(1, -1)\n",
    "    for tagInner in keywords:\n",
    "        column1.append(sklearn.metrics.pairwise.cosine_similarity(tagVec1, amazonRev1D2V.docvecs[tagInner].reshape(1, -1))[0][0])\n",
    "    heatmapMatrix1.append(column1)\n",
    "heatmapMatrix1 = np.array(heatmapMatrix1)"
   ]
  },
  {
   "cell_type": "code",
   "execution_count": 44,
   "metadata": {
    "collapsed": true
   },
   "outputs": [],
   "source": [
    "heatmapMatrix5 = []\n",
    "for tagOuter in keywords:\n",
    "    column5 = []\n",
    "    tagVec5 = amazonRev5D2V.docvecs[tagOuter].reshape(1, -1)\n",
    "    for tagInner in keywords:\n",
    "        column5.append(sklearn.metrics.pairwise.cosine_similarity(tagVec5, amazonRev5D2V.docvecs[tagInner].reshape(1, -1))[0][0])\n",
    "    heatmapMatrix5.append(column5)\n",
    "heatmapMatrix5 = np.array(heatmapMatrix5)"
   ]
  },
  {
   "cell_type": "code",
   "execution_count": 45,
   "metadata": {},
   "outputs": [
    {
     "data": {
      "image/png": "[encoded data removed]",
      "text/plain": [
       "<matplotlib.figure.Figure at 0x18374d2b0>"
      ]
     },
     "metadata": {},
     "output_type": "display_data"
    }
   ],
   "source": [
    "fig5, ax5 = plt.subplots()\n",
    "hmap5 = ax5.pcolor(heatmapMatrix5, cmap='terrain')\n",
    "cbar5 = plt.colorbar(hmap5)\n",
    "\n",
    "cbar5.set_label('cosine similarity', rotation=270)\n",
    "a5 = ax5.set_xticks(np.arange(heatmapMatrix5.shape[1]) + 0.5, minor=False)\n",
    "a5 = ax5.set_yticks(np.arange(heatmapMatrix5.shape[0]) + 0.5, minor=False)\n",
    "\n",
    "a5 = ax5.set_xticklabels(keywords, minor=False, rotation=270)\n",
    "a5 = ax5.set_yticklabels(keywords, minor=False)"
   ]
  },
  {
   "cell_type": "code",
   "execution_count": 46,
   "metadata": {},
   "outputs": [
    {
     "data": {
      "image/png": "[encoded data removed]",
      "text/plain": [
       "<matplotlib.figure.Figure at 0x18374dc50>"
      ]
     },
     "metadata": {},
     "output_type": "display_data"
    }
   ],
   "source": [
    "fig1, ax1 = plt.subplots()\n",
    "hmap1 = ax1.pcolor(heatmapMatrix1, cmap='terrain')\n",
    "cbar1 = plt.colorbar(hmap1)\n",
    "\n",
    "cbar1.set_label('cosine similarity', rotation=270)\n",
    "a1 = ax1.set_xticks(np.arange(heatmapMatrix1.shape[1]) + 0.5, minor=False)\n",
    "a1 = ax1.set_yticks(np.arange(heatmapMatrix1.shape[0]) + 0.5, minor=False)\n",
    "\n",
    "a1 = ax1.set_xticklabels(keywords, minor=False, rotation=270)\n",
    "a1 = ax1.set_yticklabels(keywords, minor=False)"
   ]
  },
  {
   "cell_type": "markdown",
   "metadata": {},
   "source": [
    "Regarding word to documents distnaces, there is not much of a stroy here when comparing both corpus. There doesn't seem to be a sistematic difference between the documents (reviews) of each corpus in terms of their distances to each keyword. "
   ]
  },
  {
   "cell_type": "code",
   "execution_count": 48,
   "metadata": {},
   "outputs": [
    {
     "data": {
      "image/png": "[encoded data removed]",
      "text/plain": [
       "<matplotlib.figure.Figure at 0x1834e6668>"
      ]
     },
     "metadata": {},
     "output_type": "display_data"
    }
   ],
   "source": [
    "targetDocs1 = amazonRev1DF['uniqueID'][:20]\n",
    "\n",
    "heatmapMatrixC1 = []\n",
    "\n",
    "for tagOuter in targetDocs1:\n",
    "    column1 = []\n",
    "    tagVec1 = amazonRev1D2V.docvecs[tagOuter].reshape(1, -1)\n",
    "    for tagInner in keywords:\n",
    "        column1.append(sklearn.metrics.pairwise.cosine_similarity(tagVec1, amazonRev1D2V.docvecs[tagInner].reshape(1, -1))[0][0])\n",
    "    heatmapMatrixC1.append(column1)\n",
    "heatmapMatrixC1 = np.array(heatmapMatrixC1)\n",
    "\n",
    "fig, ax = plt.subplots()\n",
    "hmap = ax.pcolor(heatmapMatrixC1, cmap='terrain')\n",
    "cbar = plt.colorbar(hmap)\n",
    "\n",
    "cbar.set_label('cosine similarity', rotation=270)\n",
    "a = ax.set_xticks(np.arange(heatmapMatrixC1.shape[1]) + 0.5, minor=False)\n",
    "a = ax.set_yticks(np.arange(heatmapMatrixC1.shape[0]) + 0.5, minor=False)\n",
    "\n",
    "a = ax.set_xticklabels(keywords, minor=False, rotation=270)\n",
    "a = ax.set_yticklabels(targetDocs1, minor=False)"
   ]
  },
  {
   "cell_type": "code",
   "execution_count": 49,
   "metadata": {},
   "outputs": [
    {
     "data": {
      "image/png": "[encoded data removed]",
      "text/plain": [
       "<matplotlib.figure.Figure at 0x183719128>"
      ]
     },
     "metadata": {},
     "output_type": "display_data"
    }
   ],
   "source": [
    "targetDocs5 = amazonRev5DF['uniqueID'][:20]\n",
    "\n",
    "heatmapMatrixC5 = []\n",
    "\n",
    "for tagOuter in targetDocs5:\n",
    "    column5 = []\n",
    "    tagVec5 = amazonRev5D2V.docvecs[tagOuter].reshape(1, -1)\n",
    "    for tagInner in keywords:\n",
    "        column5.append(sklearn.metrics.pairwise.cosine_similarity(tagVec5, amazonRev5D2V.docvecs[tagInner].reshape(1, -1))[0][0])\n",
    "    heatmapMatrixC5.append(column5)\n",
    "heatmapMatrixC5 = np.array(heatmapMatrixC5)\n",
    "\n",
    "fig, ax = plt.subplots()\n",
    "hmap = ax.pcolor(heatmapMatrixC5, cmap='terrain')\n",
    "cbar = plt.colorbar(hmap)\n",
    "\n",
    "cbar.set_label('cosine similarity', rotation=270)\n",
    "a = ax.set_xticks(np.arange(heatmapMatrixC5.shape[1]) + 0.5, minor=False)\n",
    "a = ax.set_yticks(np.arange(heatmapMatrixC5.shape[0]) + 0.5, minor=False)\n",
    "\n",
    "a = ax.set_xticklabels(keywords, minor=False, rotation=270)\n",
    "a = ax.set_yticklabels(targetDocs5, minor=False)"
   ]
  },
  {
   "cell_type": "markdown",
   "metadata": {},
   "source": [
    "# Projection"
   ]
  },
  {
   "cell_type": "markdown",
   "metadata": {},
   "source": [
    "We can also project word vectors to an arbitray semantic dimension. To demonstrate this possibility, let's first load a model trained with New York Times news articles. "
   ]
  },
  {
   "cell_type": "code",
   "execution_count": 491,
   "metadata": {},
   "outputs": [
    {
     "data": {
      "text/plain": [
       "<gensim.models.keyedvectors.EuclideanKeyedVectors at 0x1cf7cf278>"
      ]
     },
     "execution_count": 491,
     "metadata": {},
     "output_type": "execute_result"
    }
   ],
   "source": [
    "nytimes_model = gensim.models.KeyedVectors.load_word2vec_format('../data/nytimes_cbow.reduced.txt')"
   ]
  },
  {
   "cell_type": "markdown",
   "metadata": {},
   "source": [
    "First we can visualize with dimension reduction"
   ]
  },
  {
   "cell_type": "code",
   "execution_count": 475,
   "metadata": {},
   "outputs": [
    {
     "data": {
      "text/plain": [
       "array([[-0.343139, -0.117117, -0.50773 , ..., -0.995696,  0.921299,\n",
       "         0.943769],\n",
       "       [-0.362909, -0.263528,  0.032661, ..., -0.043032, -0.178965,\n",
       "         0.353556],\n",
       "       [-0.70167 , -0.344525, -0.320714, ...,  0.009001,  0.11055 ,\n",
       "         0.751077],\n",
       "       ...,\n",
       "       [-2.391626, -1.90143 ,  1.031182, ...,  2.947464,  1.01588 ,\n",
       "         2.00033 ],\n",
       "       [-2.432387, -1.161415,  1.060064, ...,  4.402381,  0.500471,\n",
       "         1.644596],\n",
       "       [ 0.981931,  0.628094, -0.747547, ...,  1.612927,  1.148063,\n",
       "         1.063776]], dtype=float32)"
      ]
     },
     "execution_count": 475,
     "metadata": {},
     "output_type": "execute_result"
    }
   ],
   "source": [
    "#words to create dimensions\n",
    "tnytTargetWords = ['man','him','he', 'woman', 'her', 'she', 'black','blacks','African', 'white', 'whites', 'Caucasian', 'rich', 'richer', 'richest', 'expensive', 'wealthy', 'poor', 'poorer', 'poorest', 'cheap', 'inexpensive']\n",
    "#words we will be mapping\n",
    "tnytTargetWords += [\"doctor\",\"lawyer\",\"plumber\",\"scientist\",\"hairdresser\", \"nanny\",\"carpenter\",\"entrepreneur\",\"musician\",\"writer\", \"banker\",\"poet\",\"nurse\", \"steak\", \"bacon\", \"croissant\", \"cheesecake\", \"salad\", \"cheeseburger\", \"vegetables\", \"beer\", \"wine\", \"pastry\", \"basketball\", \"baseball\", \"boxing\", \"softball\", \"volleyball\", \"tennis\", \"golf\", \"hockey\", \"soccer\"]\n",
    "\n",
    "\n",
    "wordsSubMatrix = []\n",
    "for word in tnytTargetWords:\n",
    "    wordsSubMatrix.append(nytimes_model[word])\n",
    "wordsSubMatrix = np.array(wordsSubMatrix)\n",
    "wordsSubMatrix"
   ]
  },
  {
   "cell_type": "code",
   "execution_count": 476,
   "metadata": {
    "collapsed": true
   },
   "outputs": [],
   "source": [
    "pcaWordsNYT = sklearn.decomposition.PCA(n_components = 50).fit(wordsSubMatrix)\n",
    "reducedPCA_dataNYT = pcaWordsNYT.transform(wordsSubMatrix)\n",
    "#T-SNE is theoretically better, but you should experiment\n",
    "tsneWordsNYT = sklearn.manifold.TSNE(n_components = 2).fit_transform(reducedPCA_dataNYT)"
   ]
  },
  {
   "cell_type": "code",
   "execution_count": 477,
   "metadata": {},
   "outputs": [
    {
     "data": {
      "image/png": "[encoded data removed]",
      "text/plain": [
       "<matplotlib.figure.Figure at 0x1c7711a20>"
      ]
     },
     "metadata": {},
     "output_type": "display_data"
    }
   ],
   "source": [
    "fig = plt.figure(figsize = (10,6))\n",
    "ax = fig.add_subplot(111)\n",
    "ax.set_frame_on(False)\n",
    "plt.scatter(tsneWordsNYT[:, 0], tsneWordsNYT[:, 1], alpha = 0) #Making the points invisible\n",
    "for i, word in enumerate(tnytTargetWords):\n",
    "    ax.annotate(word, (tsneWordsNYT[:, 0][i],tsneWordsNYT[:, 1][i]), size =  20 * (len(tnytTargetWords) - i) / len(tnytTargetWords))\n",
    "plt.xticks(())\n",
    "plt.yticks(())\n",
    "plt.show()"
   ]
  },
  {
   "cell_type": "markdown",
   "metadata": {},
   "source": [
    "Define some convenient functions for getting dimensions. "
   ]
  },
  {
   "cell_type": "code",
   "execution_count": 478,
   "metadata": {
    "collapsed": true
   },
   "outputs": [],
   "source": [
    "def normalize(vector):\n",
    "    normalized_vector = vector / np.linalg.norm(vector)\n",
    "    return normalized_vector\n",
    "\n",
    "def dimension(model, positives, negatives):\n",
    "    diff = sum([normalize(model[x]) for x in positives]) - sum([normalize(model[y]) for y in negatives])\n",
    "    return diff"
   ]
  },
  {
   "cell_type": "markdown",
   "metadata": {},
   "source": [
    "Let's calculate three dimensions: gender, race, and class."
   ]
  },
  {
   "cell_type": "code",
   "execution_count": 479,
   "metadata": {
    "collapsed": true
   },
   "outputs": [],
   "source": [
    "Gender = dimension(nytimes_model, ['man','him','he'], ['woman', 'her', 'she'])\n",
    "Race = dimension(nytimes_model, ['black','blacks','African'], ['white', 'whites', 'Caucasian'])\n",
    "Class = dimension(nytimes_model, ['rich', 'richer', 'richest', 'expensive', 'wealthy'], ['poor', 'poorer', 'poorest', 'cheap', 'inexpensive'])"
   ]
  },
  {
   "cell_type": "markdown",
   "metadata": {},
   "source": [
    "Here we have some words."
   ]
  },
  {
   "cell_type": "code",
   "execution_count": 480,
   "metadata": {
    "collapsed": true
   },
   "outputs": [],
   "source": [
    "Occupations = [\"doctor\",\"lawyer\",\"plumber\",\"scientist\",\"hairdresser\", \"nanny\",\"carpenter\",\"entrepreneur\",\"musician\",\"writer\", \"banker\",\"poet\",\"nurse\"]\n",
    "\n",
    "Foods = [\"steak\", \"bacon\", \"croissant\", \"cheesecake\", \"salad\", \"cheeseburger\", \"vegetables\", \"beer\", \"wine\", \"pastry\"]\n",
    "\n",
    "Sports  = [\"basketball\", \"baseball\", \"boxing\", \"softball\", \"volleyball\", \"tennis\", \"golf\", \"hockey\", \"soccer\"]"
   ]
  },
  {
   "cell_type": "markdown",
   "metadata": {},
   "source": [
    "Define a function to project words in a word list to each of the three dimensions."
   ]
  },
  {
   "cell_type": "code",
   "execution_count": 481,
   "metadata": {
    "collapsed": true
   },
   "outputs": [],
   "source": [
    "def makeDF(model, word_list):\n",
    "    g = []\n",
    "    r = []\n",
    "    c = []\n",
    "    for word in word_list:\n",
    "        g.append(sklearn.metrics.pairwise.cosine_similarity(nytimes_model[word].reshape(1,-1), Gender.reshape(1,-1))[0][0])\n",
    "        r.append(sklearn.metrics.pairwise.cosine_similarity(nytimes_model[word].reshape(1,-1), Race.reshape(1,-1))[0][0])\n",
    "        c.append(sklearn.metrics.pairwise.cosine_similarity(nytimes_model[word].reshape(1,-1), Class.reshape(1,-1))[0][0])\n",
    "    df = pandas.DataFrame({'gender': g, 'race': r, 'class': c}, index = word_list)\n",
    "    return df"
   ]
  },
  {
   "cell_type": "markdown",
   "metadata": {},
   "source": [
    "Get the projections."
   ]
  },
  {
   "cell_type": "code",
   "execution_count": 482,
   "metadata": {
    "collapsed": true
   },
   "outputs": [],
   "source": [
    "OCCdf = makeDF(nytimes_model, Occupations) \n",
    "Fooddf = makeDF(nytimes_model, Foods)\n",
    "Sportsdf = makeDF(nytimes_model, Sports)"
   ]
  },
  {
   "cell_type": "markdown",
   "metadata": {},
   "source": [
    "Define some useful functions for plotting."
   ]
  },
  {
   "cell_type": "code",
   "execution_count": 483,
   "metadata": {
    "collapsed": true
   },
   "outputs": [],
   "source": [
    "def Coloring(Series):\n",
    "    x = Series.values\n",
    "    y = x-x.min()\n",
    "    z = y/y.max()\n",
    "    c = list(plt.cm.rainbow(z))\n",
    "    return c\n",
    "\n",
    "def PlotDimension(ax,df, dim):\n",
    "    ax.set_frame_on(False)\n",
    "    ax.set_title(dim, fontsize = 20)\n",
    "    colors = Coloring(df[dim])\n",
    "    for i, word in enumerate(df.index):\n",
    "        ax.annotate(word, (0, df[dim][i]), color = colors[i], alpha = 0.6, fontsize = 12)\n",
    "    MaxY = df[dim].max()\n",
    "    MinY = df[dim].min()\n",
    "    plt.ylim(MinY,MaxY)\n",
    "    plt.yticks(())\n",
    "    plt.xticks(())"
   ]
  },
  {
   "cell_type": "markdown",
   "metadata": {},
   "source": [
    "Plot the occupational words in each of the three dimensions."
   ]
  },
  {
   "cell_type": "code",
   "execution_count": 484,
   "metadata": {
    "scrolled": true
   },
   "outputs": [
    {
     "data": {
      "image/png": "[encoded data removed]",
      "text/plain": [
       "<matplotlib.figure.Figure at 0x1cf3b6b00>"
      ]
     },
     "metadata": {},
     "output_type": "display_data"
    }
   ],
   "source": [
    "fig = plt.figure(figsize = (12,4))\n",
    "ax1 = fig.add_subplot(131)\n",
    "PlotDimension(ax1, OCCdf, 'gender')\n",
    "ax2 = fig.add_subplot(132)\n",
    "PlotDimension(ax2, OCCdf, 'race')\n",
    "ax3 = fig.add_subplot(133)\n",
    "PlotDimension(ax3, OCCdf, 'class')\n",
    "plt.show()"
   ]
  },
  {
   "cell_type": "markdown",
   "metadata": {},
   "source": [
    "Foods:"
   ]
  },
  {
   "cell_type": "code",
   "execution_count": 485,
   "metadata": {},
   "outputs": [
    {
     "data": {
      "image/png": "[encoded data removed]",
      "text/plain": [
       "<matplotlib.figure.Figure at 0x1ced5a2e8>"
      ]
     },
     "metadata": {},
     "output_type": "display_data"
    }
   ],
   "source": [
    "fig = plt.figure(figsize = (12,4))\n",
    "ax1 = fig.add_subplot(131)\n",
    "PlotDimension(ax1, Fooddf, 'gender')\n",
    "ax2 = fig.add_subplot(132)\n",
    "PlotDimension(ax2, Fooddf, 'race')\n",
    "ax3 = fig.add_subplot(133)\n",
    "PlotDimension(ax3, Fooddf, 'class')\n",
    "plt.show()"
   ]
  },
  {
   "cell_type": "markdown",
   "metadata": {},
   "source": [
    "Sports:"
   ]
  },
  {
   "cell_type": "code",
   "execution_count": 486,
   "metadata": {},
   "outputs": [
    {
     "data": {
      "image/png": "[encoded data removed]",
      "text/plain": [
       "<matplotlib.figure.Figure at 0x1aa30c940>"
      ]
     },
     "metadata": {},
     "output_type": "display_data"
    }
   ],
   "source": [
    "fig = plt.figure(figsize = (12,4))\n",
    "ax1 = fig.add_subplot(131)\n",
    "PlotDimension(ax1, Sportsdf, 'gender')\n",
    "ax2 = fig.add_subplot(132)\n",
    "PlotDimension(ax2, Sportsdf, 'race')\n",
    "ax3 = fig.add_subplot(133)\n",
    "PlotDimension(ax3, Sportsdf, 'class')\n",
    "plt.show()"
   ]
  },
  {
   "cell_type": "markdown",
   "metadata": {},
   "source": [
    "## <span style=\"color:red\">*Exercise 3*</span>\n",
    "\n",
    "<span style=\"color:red\">Construct cells immediately below this that identify semantic dimensions of interest from your data (e.g., gender: man-woman) and project words onto these dimensions. Plot the array of relevant words along each semantic dimension. Which words are most different. Which dimensions are most different? On which dimension are your words most different? Print three short textual examples from the corpus that illustrate the association you have explored.\n",
    "\n",
    "<span style=\"color:red\">***Stretch***: Project documents from your corpus along a dimension of interest. Sample relevant documents from your corpus with this functionality and explain your rationale? Calculate the cosine of the angle between two dimensions (encoded as vectors) of interest. What does this suggest about the relationship between them within your corpus? \n",
    "\n",
    "<span style=\"color:red\">***Stretch***: Create 90% bootstrap confidence intervals around your word projections onto a given dimension. Which words are *significantly* different on your semantic dimension of interest?"
   ]
  },
  {
   "cell_type": "markdown",
   "metadata": {},
   "source": [
    "I created two dimensions of words: quality and price. And i projected different products to these two dimensions. The dimension of quality refers to the words `'good','excellent','wonderful', 'love', 'tasty'` on one side, and `'bad', 'awful', 'terrible','disgusting', 'horrible', 'hate'` on the other. The dimension prices refers to `'cheap','inexpensive','reasonable','bargain'` on one extreme and `'expensive','overpriced','pricey'` on the other.\n",
    "\n",
    "The products i projected in these two dimensions are: `\"coffee\",\"tea\",\"chocolate\",\"sweet\",\"drink\",\"sugar\",\"oil\",\"salt\",\"water\", \"milk\",\"cheese\"`.\n",
    "\n",
    "Figures below show how these producst group together along these dimensions. In order to better understand this, I show the reviews that are closer to two words that group along one dimension. \n",
    "\n",
    "It appears like for both dimensions in both corpus, the products tend to move along them. There are no outliers in terms of words that are alone into one side of the dimension. "
   ]
  },
  {
   "cell_type": "code",
   "execution_count": 494,
   "metadata": {},
   "outputs": [
    {
     "data": {
      "text/plain": [
       "array([[-1.2660439 , -0.7665725 , -1.6470104 , ..., -0.67608315,\n",
       "        -1.7169847 ,  2.05244   ],\n",
       "       [-0.10291965, -0.8993131 , -0.8248925 , ...,  0.03215067,\n",
       "        -3.4902704 ,  0.06042543],\n",
       "       [-0.35797802, -0.60168684, -1.2322078 , ...,  0.32692266,\n",
       "        -3.0393124 ,  1.0459208 ],\n",
       "       ...,\n",
       "       [ 2.0685303 ,  0.17548347,  3.1997015 , ..., -0.99658644,\n",
       "        -1.0764699 ,  0.33164707],\n",
       "       [ 0.35732442, -1.2120711 ,  0.24628246, ..., -0.752275  ,\n",
       "        -0.1150727 ,  0.45997214],\n",
       "       [ 1.5246966 , -1.3938973 , -0.38325736, ..., -1.0957669 ,\n",
       "        -0.10645051,  1.0627522 ]], dtype=float32)"
      ]
     },
     "execution_count": 494,
     "metadata": {},
     "output_type": "execute_result"
    }
   ],
   "source": [
    "#words to create dimensions\n",
    "tnytTargetWords = ['good','excellent','wonderful', 'love', 'tasty', 'bad', 'awful', 'terrible','disgusting', 'horrible', 'hate', 'recommend', 'never','ever']\n",
    "#words we will be mapping\n",
    "tnytTargetWords += [\"coffee\",\"tea\",\"chocolate\",\"sweet\",\"drink\",\"sugar\",\"oil\",\"salt\",\"water\", \"milk\",\"cheese\",\"price\", \"cheap\",\"expensive\"] \n",
    "\n",
    "\n",
    "wordsSubMatrix1 = []\n",
    "for word in tnytTargetWords:\n",
    "    wordsSubMatrix1.append(amazonRev1W2V[word])\n",
    "wordsSubMatrix1 = np.array(wordsSubMatrix1)\n",
    "\n",
    "wordsSubMatrix5 = []\n",
    "for word in tnytTargetWords:\n",
    "    wordsSubMatrix5.append(amazonRev5W2V[word])\n",
    "wordsSubMatrix5 = np.array(wordsSubMatrix5)\n",
    "\n",
    "wordsSubMatrix1\n",
    "wordsSubMatrix5"
   ]
  },
  {
   "cell_type": "code",
   "execution_count": 495,
   "metadata": {
    "collapsed": true
   },
   "outputs": [],
   "source": [
    "pcaWordsAmazonRev1 = sklearn.decomposition.PCA(n_components = 50).fit(wordsSubMatrix1)\n",
    "reducedPCA_dataAmazonRev1 = pcaWordsAmazonRev1.transform(wordsSubMatrix1)\n",
    "#T-SNE is theoretically better, but you should experiment\n",
    "tsneWordsAmazonRev1 = sklearn.manifold.TSNE(n_components = 2).fit_transform(reducedPCA_dataAmazonRev1)"
   ]
  },
  {
   "cell_type": "code",
   "execution_count": 496,
   "metadata": {
    "collapsed": true
   },
   "outputs": [],
   "source": [
    "pcaWordsAmazonRev5 = sklearn.decomposition.PCA(n_components = 50).fit(wordsSubMatrix5)\n",
    "reducedPCA_dataAmazonRev5 = pcaWordsAmazonRev5.transform(wordsSubMatrix5)\n",
    "#T-SNE is theoretically better, but you should experiment\n",
    "tsneWordsAmazonRev5 = sklearn.manifold.TSNE(n_components = 2).fit_transform(reducedPCA_dataAmazonRev5)"
   ]
  },
  {
   "cell_type": "code",
   "execution_count": 502,
   "metadata": {},
   "outputs": [
    {
     "data": {
      "image/png": "[encoded data removed]",
      "text/plain": [
       "<matplotlib.figure.Figure at 0x1cf3d47f0>"
      ]
     },
     "metadata": {},
     "output_type": "display_data"
    }
   ],
   "source": [
    "fig = plt.figure(figsize = (10,6))\n",
    "ax = fig.add_subplot(111)\n",
    "ax.set_frame_on(False)\n",
    "plt.scatter(tsneWordsAmazonRev5[:, 0], tsneWordsAmazonRev5[:, 1], alpha = 0) #Making the points invisible\n",
    "for i, word in enumerate(tnytTargetWords):\n",
    "    ax.annotate(word, (tsneWordsAmazonRev5[:, 0][i],tsneWordsAmazonRev5[:, 1][i]), size =  20 * (len(tnytTargetWords) - i) / len(tnytTargetWords))\n",
    "plt.xticks(())\n",
    "plt.yticks(())\n",
    "plt.show()"
   ]
  },
  {
   "cell_type": "code",
   "execution_count": 501,
   "metadata": {},
   "outputs": [
    {
     "data": {
      "image/png": "[encoded data removed]",
      "text/plain": [
       "<matplotlib.figure.Figure at 0x1cf52f278>"
      ]
     },
     "metadata": {},
     "output_type": "display_data"
    }
   ],
   "source": [
    "fig = plt.figure(figsize = (10,6))\n",
    "ax = fig.add_subplot(111)\n",
    "ax.set_frame_on(False)\n",
    "plt.scatter(tsneWordsAmazonRev1[:, 0], tsneWordsAmazonRev1[:, 1], alpha = 0) #Making the points invisible\n",
    "for i, word in enumerate(tnytTargetWords):\n",
    "    ax.annotate(word, (tsneWordsAmazonRev1[:, 0][i],tsneWordsAmazonRev1[:, 1][i]), size =  20 * (len(tnytTargetWords) - i) / len(tnytTargetWords))\n",
    "plt.xticks(())\n",
    "plt.yticks(())\n",
    "plt.show()"
   ]
  },
  {
   "cell_type": "code",
   "execution_count": 503,
   "metadata": {
    "collapsed": true
   },
   "outputs": [],
   "source": [
    "def normalize(vector):\n",
    "    normalized_vector = vector / np.linalg.norm(vector)\n",
    "    return normalized_vector\n",
    "\n",
    "def dimension(model, positives, negatives):\n",
    "    diff = sum([normalize(model[x]) for x in positives]) - sum([normalize(model[y]) for y in negatives])\n",
    "    return diff"
   ]
  },
  {
   "cell_type": "code",
   "execution_count": 580,
   "metadata": {
    "collapsed": true
   },
   "outputs": [],
   "source": [
    "Quality1 = dimension(amazonRev1W2V, ['good','excellent','wonderful', 'love', 'tasty'], ['bad', 'awful', 'terrible','disgusting', 'horrible', 'hate'])\n",
    "Quality5 = dimension(amazonRev5W2V, ['good','excellent','wonderful', 'love', 'tasty'], ['bad', 'awful', 'terrible','disgusting', 'horrible', 'hate'])\n",
    "Price1 = dimension(amazonRev1W2V, ['cheap','inexpensive','reasonable','bargain'],['expensive','overpriced','pricey'])\n",
    "Price5 = dimension(amazonRev5W2V, ['cheap','inexpensive','reasonable','bargain'],['expensive','overpriced','pricey'])"
   ]
  },
  {
   "cell_type": "code",
   "execution_count": 581,
   "metadata": {
    "collapsed": true
   },
   "outputs": [],
   "source": [
    "Products = [\"coffee\",\"tea\",\"chocolate\",\"sweet\",\"drink\",\"sugar\",\"oil\",\"salt\",\"water\", \"milk\",\"cheese\"] "
   ]
  },
  {
   "cell_type": "code",
   "execution_count": 582,
   "metadata": {
    "collapsed": true
   },
   "outputs": [],
   "source": [
    "def makeDF1(model, word_list):\n",
    "    q = []\n",
    "    p = []\n",
    "    for word in word_list:\n",
    "        q.append(sklearn.metrics.pairwise.cosine_similarity(amazonRev1W2V[word].reshape(1,-1), Quality1.reshape(1,-1))[0][0])\n",
    "        p.append(sklearn.metrics.pairwise.cosine_similarity(amazonRev1W2V[word].reshape(1,-1), Price1.reshape(1,-1))[0][0])\n",
    "    df1 = pandas.DataFrame({'quality': q, 'price': p}, index = word_list)\n",
    "    return df1"
   ]
  },
  {
   "cell_type": "code",
   "execution_count": 583,
   "metadata": {
    "collapsed": true
   },
   "outputs": [],
   "source": [
    "def makeDF5(model, word_list):\n",
    "    q = []\n",
    "    p = []\n",
    "    for word in word_list:\n",
    "        q.append(sklearn.metrics.pairwise.cosine_similarity(amazonRev5W2V[word].reshape(1,-1), Quality5.reshape(1,-1))[0][0])\n",
    "        p.append(sklearn.metrics.pairwise.cosine_similarity(amazonRev5W2V[word].reshape(1,-1), Price5.reshape(1,-1))[0][0])\n",
    "    df5 = pandas.DataFrame({'quality': q, 'price': p}, index = word_list)\n",
    "    return df5"
   ]
  },
  {
   "cell_type": "code",
   "execution_count": 584,
   "metadata": {
    "collapsed": true
   },
   "outputs": [],
   "source": [
    "productsdf1 = makeDF1(amazonRev1W2V, Products) \n",
    "productsdf5 = makeDF5(amazonRev5W2V, Products) "
   ]
  },
  {
   "cell_type": "code",
   "execution_count": 585,
   "metadata": {
    "collapsed": true
   },
   "outputs": [],
   "source": [
    "def Coloring(Series):\n",
    "    x = Series.values\n",
    "    y = x-x.min()\n",
    "    z = y/y.max()\n",
    "    c = list(plt.cm.rainbow(z))\n",
    "    return c\n",
    "\n",
    "def PlotDimension(ax,df, dim):\n",
    "    ax.set_frame_on(False)\n",
    "    ax.set_title(dim, fontsize = 20)\n",
    "    colors = Coloring(df[dim])\n",
    "    for i, word in enumerate(df.index):\n",
    "        ax.annotate(word, (0, df[dim][i]), color = colors[i], alpha = 0.6, fontsize = 12)\n",
    "    MaxY = df[dim].max()\n",
    "    MinY = df[dim].min()\n",
    "    plt.ylim(MinY,MaxY)\n",
    "    plt.yticks(())\n",
    "    plt.xticks(())"
   ]
  },
  {
   "cell_type": "code",
   "execution_count": 586,
   "metadata": {},
   "outputs": [
    {
     "data": {
      "image/png": "[encoded data removed]",
      "text/plain": [
       "<matplotlib.figure.Figure at 0x1c4e8b710>"
      ]
     },
     "metadata": {},
     "output_type": "display_data"
    }
   ],
   "source": [
    "fig = plt.figure(figsize = (12,4))\n",
    "ax1 = fig.add_subplot(131)\n",
    "PlotDimension(ax1, productsdf1, 'quality')\n",
    "ax2 = fig.add_subplot(132)\n",
    "PlotDimension(ax2, productsdf1, 'price')"
   ]
  },
  {
   "cell_type": "code",
   "execution_count": 587,
   "metadata": {},
   "outputs": [
    {
     "data": {
      "image/png": "[encoded data removed]",
      "text/plain": [
       "<matplotlib.figure.Figure at 0x1cfc00dd8>"
      ]
     },
     "metadata": {},
     "output_type": "display_data"
    }
   ],
   "source": [
    "fig = plt.figure(figsize = (12,4))\n",
    "ax1 = fig.add_subplot(131)\n",
    "PlotDimension(ax1, productsdf5, 'quality')\n",
    "ax2 = fig.add_subplot(132)\n",
    "PlotDimension(ax2, productsdf5, 'price')"
   ]
  },
  {
   "cell_type": "code",
   "execution_count": 570,
   "metadata": {},
   "outputs": [
    {
     "data": {
      "text/plain": [
       "[('A2ND0L3LI06XCS1363910400', 0.968715488910675),\n",
       " ('A1WXJ1I42UOQ2V1162944000', 0.9054543375968933),\n",
       " ('ASWQHCBXTTMKR1238803200', 0.9034537672996521),\n",
       " ('A75W6T9I2S8BA1385856000', 0.8989149332046509),\n",
       " ('A2WZNM833CJH821369526400', 0.8939142823219299)]"
      ]
     },
     "execution_count": 570,
     "metadata": {},
     "output_type": "execute_result"
    }
   ],
   "source": [
    "amazonRev1D2V.docvecs.most_similar([ amazonRev1D2V['oil']+amazonRev1D2V['sugar']], topn=5 )"
   ]
  },
  {
   "cell_type": "markdown",
   "metadata": {},
   "source": [
    "As someone who used to purchase Peanut Butter & Co.'s peanut butter regularly several years ago, I was disappointed to find out that they changed the recipe for the worse. The ingredients listed are incorrect, as peanuts and salt are not the only ingredients.When I got the jars, I saw that they read \"new and improved formula\" and \"now easier to spread.\" The \"new and improved formula\" means they added sugar and oil, so the ingredients in the item listing are incorrect, since peanuts and salt are not the only ingredients. The ingredient list on the jar is, and I quote, \"Peanuts, evaporated cane juice, palm fruit oil, salt.\" I was hoping to avoid added sugar and oil when shopping for a natural peanut butter. Although they did not add high fructose corn syrup or hydrogenized oil, this is still unacceptable considering the item listing says it only contains peanuts and salt.\"Easier to spread\" means it feels and tastes less like the natural peanut butter this product once was. It now has the consistency of unnatural, low quality peanut butters like Jiff and Peter Pan.What's worse is that I could not return the peanut butter since it is a food item and is nonreturnable as per Amazon's guidelines. The ingredient list was misleading, and I was charged for a product that I did not want. I gave the jars to a local homeless shelter hoping some good would come from this.I bought Laura Scudder's peanut butter recently, and I'm glad to see they still make a delicious, natural peanut butter without any additives. Just be wary if you order that peanut butter online, because they are glass jars and may break during shipping."
   ]
  },
  {
   "cell_type": "code",
   "execution_count": 571,
   "metadata": {},
   "outputs": [
    {
     "data": {
      "text/plain": [
       "[('A3RR2UWBJ8YVSQ1359763200', 0.9618515968322754),\n",
       " ('A1DTCJV6KOMJOA1298851200', 0.9603062272071838),\n",
       " ('A36MP37DITBU6F1357257600', 0.9542288184165955),\n",
       " ('A19FRW264WZTGP1327968000', 0.9521538019180298),\n",
       " ('A3EXIZWHSNVNME1313366400', 0.9490017890930176)]"
      ]
     },
     "execution_count": 571,
     "metadata": {},
     "output_type": "execute_result"
    }
   ],
   "source": [
    "amazonRev1D2V.docvecs.most_similar([ amazonRev1D2V['chocolate']+amazonRev1D2V['coffee']], topn=5 )"
   ]
  },
  {
   "cell_type": "markdown",
   "metadata": {},
   "source": [
    "I love most of the Kashi bars.  My favorite is the dark mocha almond.  I decided I'd try something different, so I purchased these layered dark chocolate coconut ones.  Firstly, there is no chocolate flavor in the bar that I can detect.  So sad!  I love chocolate and really, you can't taste any in this bar.  Secondly, the frosting and/or topping of the bar tastes really weird.  Can't tell if it tastes like dates or what!  No coconut flavor can be had in this bar, either.  In fact, the entire bar doesn't really taste like much of anything.  A real disappointment."
   ]
  },
  {
   "cell_type": "code",
   "execution_count": 574,
   "metadata": {},
   "outputs": [
    {
     "data": {
      "text/plain": [
       "[('A3F8JQ5J29GWUV1370736000', 0.5145186185836792),\n",
       " ('A2B2ENQHZ9TL8A1296604800', 0.5112622976303101),\n",
       " ('A2FRFAQCWZJT3Q1295827200', 0.4961188733577728),\n",
       " ('A2LEIANN1UZTHP1367366400', 0.48445314168930054),\n",
       " ('A2BJ81NT43LKSM1351555200', 0.48379117250442505)]"
      ]
     },
     "execution_count": 574,
     "metadata": {},
     "output_type": "execute_result"
    }
   ],
   "source": [
    "amazonRev5D2V.docvecs.most_similar([ amazonRev5D2V['cheese']+amazonRev5D2V['chocolate']], topn=5 )"
   ]
  },
  {
   "cell_type": "markdown",
   "metadata": {},
   "source": [
    "If you want to make mochas, or drizzle a really yummy dark chocolate sauce on any kind of dessert, then this is for you. It's fantastic."
   ]
  },
  {
   "cell_type": "markdown",
   "metadata": {},
   "source": [
    "My daughter and I LOVE macaroni and cheese. Its been a long time since I've been able to enjoy it from the box.  I used to like Annie's but it was never cheesy enough.This is though. :)Mix the cheese and milk together in a bowl first. I use less milk than called for, otherwise its runny.This is animal rennet free, which is why I buy it!  I was so happy to find this on Amazon. great price, too."
   ]
  },
  {
   "cell_type": "code",
   "execution_count": 576,
   "metadata": {},
   "outputs": [
    {
     "data": {
      "text/plain": [
       "[('A3A15L96IYUO6V1210464000', 0.6241133809089661),\n",
       " ('A19SDJ2TSSL8HI1366502400', 0.6160730123519897),\n",
       " ('A1GQAKL9CGQLP11376956800', 0.5588579177856445),\n",
       " ('A34IGZ989XN4ZH1287446400', 0.5465002059936523),\n",
       " ('A1OZBI4KLZXWKF1297382400', 0.5452165007591248)]"
      ]
     },
     "execution_count": 576,
     "metadata": {},
     "output_type": "execute_result"
    }
   ],
   "source": [
    "amazonRev5D2V.docvecs.most_similar([ amazonRev5D2V['drink']+amazonRev5D2V['sugar']], topn=5 )"
   ]
  },
  {
   "cell_type": "markdown",
   "metadata": {},
   "source": [
    "IZZE Grapefruit is great for those who think regular grapefruit juice is too acidic or overpowering. This blend is just perfect -- a bit of sparkling water with the grapefruit juice and not much else. This allows for a refreshing taste, but make sure it is cold. Given that I'm not much of a carbonated soda drinker, this isn't a replacement for a can of Sprite. Rather, it's just another beverage in my arsenal to replace my other daily juices if I don't want to go crazy on the calories."
   ]
  },
  {
   "cell_type": "markdown",
   "metadata": {},
   "source": [
    "I have type 2 diabetes and it's very hard to find anything sweet that doesn't cause a spike in my blood glucose. Lots of sugar free things have additives like maltodextrine, dextrose, sorbitol, etc that also cause blood glucose spikes. Even if you're not diabetic, fluctuations in blood glucose can also cause fluctuations in your appetite and make it hard to stay on track if you're trying to diet.I saw this in the store, read the ingredients and found that there's nothing in there that's a red flag to me so I bought a bottle. First I tried it just plain in a bottle of water. I liked it well enough but after using it to make a slushy drink and adding just a few drops of Mio orange, I was in heaven. I could drink that every day. It's also really good with Mio blueberry lemonade added (sounds awful I know but I liked it).I thought I'd have to do without smoothies (fruit = sugar, milk = carbs) but I find if I add a half a banana (or sometimes I just add banana flavoring since a large banana has over 20 grams of carbs/sugar), 2-3 tablespoons of heavy cream (which has less than 1 gram of carbs per tablespoon and a little goes a long way) the Dasani Pineapple Coconut drops, water and ice and blend it up and it's so GOOD! It kind of reminds me a little of a blended Mai Tai sort of drink.Okay, I admit, it's not really a true smoothie or a shake but it's creamy and it satisfies when I'm craving something sweet and it doesn't spike my blood glucose.I'm definitely going to stock up on this because it tastes good to me and it's one of the few sweet things I can eat.One last thing is I love that it's so portable and I can take it with me to use away from home. Especially since I'm not too fond of soda."
   ]
  },
  {
   "cell_type": "code",
   "execution_count": null,
   "metadata": {
    "collapsed": true
   },
   "outputs": [],
   "source": []
  }
 ],
 "metadata": {
  "anaconda-cloud": {},
  "kernelspec": {
   "display_name": "Python 3",
   "language": "python",
   "name": "python3"
  },
  "language_info": {
   "codemirror_mode": {
    "name": "ipython",
    "version": 3
   },
   "file_extension": ".py",
   "mimetype": "text/x-python",
   "name": "python",
   "nbconvert_exporter": "python",
   "pygments_lexer": "ipython3",
   "version": "3.6.3"
  }
 },
 "nbformat": 4,
 "nbformat_minor": 1
}
